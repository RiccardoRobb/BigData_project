{
  "cells": [
    {
      "cell_type": "markdown",
      "metadata": {
        "id": "view-in-github",
        "colab_type": "text"
      },
      "source": [
        "<a href=\"https://colab.research.google.com/github/RiccardoRobb/BigData_project/blob/main/BigData_project.ipynb\" target=\"_parent\"><img src=\"https://colab.research.google.com/assets/colab-badge.svg\" alt=\"Open In Colab\"/></a>"
      ]
    },
    {
      "cell_type": "markdown",
      "metadata": {
        "id": "ydnT0-krmCTZ"
      },
      "source": [
        "# **Twitter sentiment analysis**\n",
        "### BigData 2023 project\n",
        "\n",
        "[@Author](https://github.com/RiccardoRobb): Riccardo Ruberto 1860609"
      ]
    },
    {
      "cell_type": "markdown",
      "metadata": {
        "id": "TaC0pFVy5ha-"
      },
      "source": [
        "---\n",
        "## **Inital configuration**\n",
        "### PySpark installation"
      ]
    },
    {
      "cell_type": "code",
      "execution_count": 1,
      "metadata": {
        "colab": {
          "base_uri": "https://localhost:8080/"
        },
        "id": "P9pfBiCD4wMp",
        "outputId": "3a073ae3-6125-4095-c182-c0efb48ebd5f"
      },
      "outputs": [
        {
          "output_type": "stream",
          "name": "stdout",
          "text": [
            "Looking in indexes: https://pypi.org/simple, https://us-python.pkg.dev/colab-wheels/public/simple/\n",
            "Collecting pyspark\n",
            "  Downloading pyspark-3.4.1.tar.gz (310.8 MB)\n",
            "\u001b[2K     \u001b[90m━━━━━━━━━━━━━━━━━━━━━━━━━━━━━━━━━━━━━━━\u001b[0m \u001b[32m310.8/310.8 MB\u001b[0m \u001b[31m4.0 MB/s\u001b[0m eta \u001b[36m0:00:00\u001b[0m\n",
            "\u001b[?25h  Preparing metadata (setup.py) ... \u001b[?25l\u001b[?25hdone\n",
            "Requirement already satisfied: py4j==0.10.9.7 in /usr/local/lib/python3.10/dist-packages (from pyspark) (0.10.9.7)\n",
            "Building wheels for collected packages: pyspark\n",
            "  Building wheel for pyspark (setup.py) ... \u001b[?25l\u001b[?25hdone\n",
            "  Created wheel for pyspark: filename=pyspark-3.4.1-py2.py3-none-any.whl size=311285398 sha256=fde4d0ba91d623121ec27d113363fa2741947a32d47dff5fc675154e3119f577\n",
            "  Stored in directory: /root/.cache/pip/wheels/0d/77/a3/ff2f74cc9ab41f8f594dabf0579c2a7c6de920d584206e0834\n",
            "Successfully built pyspark\n",
            "Installing collected packages: pyspark\n",
            "Successfully installed pyspark-3.4.1\n"
          ]
        }
      ],
      "source": [
        "! pip install pyspark"
      ]
    },
    {
      "cell_type": "markdown",
      "metadata": {
        "id": "r5rRWp3R5xKn"
      },
      "source": [
        "### Useful imports"
      ]
    },
    {
      "cell_type": "code",
      "execution_count": 2,
      "metadata": {
        "id": "DZyT2VD7ZMb6"
      },
      "outputs": [],
      "source": [
        "import pyspark\n",
        "from pyspark.sql import *\n",
        "from pyspark.sql.types import *\n",
        "from pyspark.sql.functions import *\n",
        "from pyspark import SparkContext, SparkConf\n",
        "\n",
        "import matplotlib.pyplot as plt\n",
        "import seaborn as sns\n",
        "%matplotlib inline"
      ]
    },
    {
      "cell_type": "markdown",
      "metadata": {
        "id": "sMZu4CcD51-e"
      },
      "source": [
        "### Spark configuration"
      ]
    },
    {
      "cell_type": "code",
      "execution_count": 3,
      "metadata": {
        "id": "Zc_wOE8Fl7aN"
      },
      "outputs": [],
      "source": [
        "# Create the session\n",
        "conf = SparkConf().\\\n",
        "                set('spark.ui.port', \"8000\").\\\n",
        "                set('spark.executor.memory', '4G').\\\n",
        "                set('spark.driver.memory', '45G').\\\n",
        "                set('spark.driver.maxResultSize', '10G').\\\n",
        "                setAppName(\"Twitter sentiment analysis\").\\\n",
        "                setMaster(\"local[*]\")\n",
        "\n",
        "# Create the context\n",
        "sc = pyspark.SparkContext(conf=conf)\n",
        "spark = SparkSession.builder.getOrCreate()"
      ]
    },
    {
      "cell_type": "markdown",
      "metadata": {
        "id": "VJSs9ejr58TM"
      },
      "source": [
        "### Check spark configurations"
      ]
    },
    {
      "cell_type": "code",
      "execution_count": 4,
      "metadata": {
        "colab": {
          "base_uri": "https://localhost:8080/",
          "height": 219
        },
        "id": "-rHsaeM75DvA",
        "outputId": "c31cb52b-a46b-4326-9a7b-18052fe0cc6d"
      },
      "outputs": [
        {
          "output_type": "execute_result",
          "data": {
            "text/plain": [
              "<pyspark.sql.session.SparkSession at 0x7f1864ccb970>"
            ],
            "text/html": [
              "\n",
              "            <div>\n",
              "                <p><b>SparkSession - in-memory</b></p>\n",
              "                \n",
              "        <div>\n",
              "            <p><b>SparkContext</b></p>\n",
              "\n",
              "            <p><a href=\"http://ebcd86eb907d:8000\">Spark UI</a></p>\n",
              "\n",
              "            <dl>\n",
              "              <dt>Version</dt>\n",
              "                <dd><code>v3.4.1</code></dd>\n",
              "              <dt>Master</dt>\n",
              "                <dd><code>local[*]</code></dd>\n",
              "              <dt>AppName</dt>\n",
              "                <dd><code>Twitter sentiment analysis</code></dd>\n",
              "            </dl>\n",
              "        </div>\n",
              "        \n",
              "            </div>\n",
              "        "
            ]
          },
          "metadata": {},
          "execution_count": 4
        }
      ],
      "source": [
        "spark"
      ]
    },
    {
      "cell_type": "code",
      "execution_count": 5,
      "metadata": {
        "colab": {
          "base_uri": "https://localhost:8080/"
        },
        "id": "hTx8THde5L9T",
        "outputId": "35957055-1b5e-4155-87a3-5b0c740ed98d"
      },
      "outputs": [
        {
          "output_type": "execute_result",
          "data": {
            "text/plain": [
              "[('spark.driver.memory', '45G'),\n",
              " ('spark.executor.id', 'driver'),\n",
              " ('spark.sql.warehouse.dir', 'file:/content/spark-warehouse'),\n",
              " ('spark.ui.port', '8000'),\n",
              " ('spark.driver.maxResultSize', '10G'),\n",
              " ('spark.driver.host', 'ebcd86eb907d'),\n",
              " ('spark.driver.extraJavaOptions',\n",
              "  '-Djava.net.preferIPv6Addresses=false -XX:+IgnoreUnrecognizedVMOptions --add-opens=java.base/java.lang=ALL-UNNAMED --add-opens=java.base/java.lang.invoke=ALL-UNNAMED --add-opens=java.base/java.lang.reflect=ALL-UNNAMED --add-opens=java.base/java.io=ALL-UNNAMED --add-opens=java.base/java.net=ALL-UNNAMED --add-opens=java.base/java.nio=ALL-UNNAMED --add-opens=java.base/java.util=ALL-UNNAMED --add-opens=java.base/java.util.concurrent=ALL-UNNAMED --add-opens=java.base/java.util.concurrent.atomic=ALL-UNNAMED --add-opens=java.base/sun.nio.ch=ALL-UNNAMED --add-opens=java.base/sun.nio.cs=ALL-UNNAMED --add-opens=java.base/sun.security.action=ALL-UNNAMED --add-opens=java.base/sun.util.calendar=ALL-UNNAMED --add-opens=java.security.jgss/sun.security.krb5=ALL-UNNAMED -Djdk.reflect.useDirectMethodHandle=false'),\n",
              " ('spark.app.name', 'Twitter sentiment analysis'),\n",
              " ('spark.app.startTime', '1687536106742'),\n",
              " ('spark.rdd.compress', 'True'),\n",
              " ('spark.app.id', 'local-1687536110194'),\n",
              " ('spark.app.submitTime', '1687536106460'),\n",
              " ('spark.serializer.objectStreamReset', '100'),\n",
              " ('spark.master', 'local[*]'),\n",
              " ('spark.driver.port', '39671'),\n",
              " ('spark.submit.pyFiles', ''),\n",
              " ('spark.submit.deployMode', 'client'),\n",
              " ('spark.executor.memory', '4G'),\n",
              " ('spark.ui.showConsoleProgress', 'true'),\n",
              " ('spark.executor.extraJavaOptions',\n",
              "  '-Djava.net.preferIPv6Addresses=false -XX:+IgnoreUnrecognizedVMOptions --add-opens=java.base/java.lang=ALL-UNNAMED --add-opens=java.base/java.lang.invoke=ALL-UNNAMED --add-opens=java.base/java.lang.reflect=ALL-UNNAMED --add-opens=java.base/java.io=ALL-UNNAMED --add-opens=java.base/java.net=ALL-UNNAMED --add-opens=java.base/java.nio=ALL-UNNAMED --add-opens=java.base/java.util=ALL-UNNAMED --add-opens=java.base/java.util.concurrent=ALL-UNNAMED --add-opens=java.base/java.util.concurrent.atomic=ALL-UNNAMED --add-opens=java.base/sun.nio.ch=ALL-UNNAMED --add-opens=java.base/sun.nio.cs=ALL-UNNAMED --add-opens=java.base/sun.security.action=ALL-UNNAMED --add-opens=java.base/sun.util.calendar=ALL-UNNAMED --add-opens=java.security.jgss/sun.security.krb5=ALL-UNNAMED -Djdk.reflect.useDirectMethodHandle=false')]"
            ]
          },
          "metadata": {},
          "execution_count": 5
        }
      ],
      "source": [
        "sc._conf.getAll()"
      ]
    },
    {
      "cell_type": "markdown",
      "metadata": {
        "id": "qrHRiI0C-jDI"
      },
      "source": [
        "---\n",
        "## Load dataset [***Sentiment140***]\n",
        "### Download dataset"
      ]
    },
    {
      "cell_type": "code",
      "execution_count": 6,
      "metadata": {
        "colab": {
          "base_uri": "https://localhost:8080/"
        },
        "id": "zayTBDQL98iG",
        "outputId": "ed221ed5-c8ee-46f3-c103-33c1c08369c2"
      },
      "outputs": [
        {
          "output_type": "stream",
          "name": "stdout",
          "text": [
            "--2023-06-23 16:01:53--  https://raw.githubusercontent.com/RiccardoRobb/BigData_project/main/Sentiment140.zip\n",
            "Resolving raw.githubusercontent.com (raw.githubusercontent.com)... 185.199.108.133, 185.199.109.133, 185.199.110.133, ...\n",
            "Connecting to raw.githubusercontent.com (raw.githubusercontent.com)|185.199.108.133|:443... connected.\n",
            "HTTP request sent, awaiting response... 200 OK\n",
            "Length: 84855679 (81M) [application/zip]\n",
            "Saving to: ‘Sentiment140.zip’\n",
            "\n",
            "Sentiment140.zip    100%[===================>]  80.92M   206MB/s    in 0.4s    \n",
            "\n",
            "2023-06-23 16:01:57 (206 MB/s) - ‘Sentiment140.zip’ saved [84855679/84855679]\n",
            "\n",
            "Archive:  ./Sentiment140.zip\n",
            "  inflating: training.1600000.processed.noemoticon.csv  \n"
          ]
        }
      ],
      "source": [
        "! wget https://raw.githubusercontent.com/RiccardoRobb/BigData_project/main/Sentiment140.zip\n",
        "\n",
        "! unzip \"./*.zip\" && rm *.zip\n",
        "! mv training.1600000.processed.noemoticon.csv train140.csv"
      ]
    },
    {
      "cell_type": "markdown",
      "metadata": {
        "id": "hAbLzmUGXNu_"
      },
      "source": [
        "### Create data frame [***Sentiment140***]\n",
        "1600000 tweets"
      ]
    },
    {
      "cell_type": "code",
      "execution_count": 7,
      "metadata": {
        "id": "e7UAiEc-_GEv"
      },
      "outputs": [],
      "source": [
        "schema = StructType([ \\\n",
        "    StructField(\"target\",IntegerType(),True), \\\n",
        "    StructField(\"id\",LongType(),True), \\\n",
        "    StructField(\"full_date\",StringType(),True), \\\n",
        "    StructField(\"flag\", StringType(), True), \\\n",
        "    StructField(\"user\", StringType(), True), \\\n",
        "    StructField(\"text\", StringType(), True) \\\n",
        "  ])\n",
        "\n",
        "df = spark.read.csv('./train140.csv', schema=schema, header=\"false\")"
      ]
    },
    {
      "cell_type": "markdown",
      "metadata": {
        "id": "NUGsEwMyXR9d"
      },
      "source": [
        "---\n",
        "## **Inital cleaning**\n",
        "### Removal of unnecessary columns"
      ]
    },
    {
      "cell_type": "code",
      "execution_count": 8,
      "metadata": {
        "colab": {
          "base_uri": "https://localhost:8080/"
        },
        "id": "jfTVRLBRXTDx",
        "outputId": "8516c192-895b-47db-8c7d-6c9a4e09a53f"
      },
      "outputs": [
        {
          "output_type": "stream",
          "name": "stdout",
          "text": [
            "1\n"
          ]
        }
      ],
      "source": [
        "# sentiment of the tweet is not affected by the \"user\"\n",
        "df = df.drop(\"user\")\n",
        "\n",
        "# verify \"flag\" utility\n",
        "print(df.select(countDistinct(\"flag\")).collect()[0][0])\n",
        "\n",
        "# \"flag\" has only one value == NO_QUERY, so I delete it\n",
        "df = df.drop(\"flag\")"
      ]
    },
    {
      "cell_type": "markdown",
      "metadata": {
        "id": "efsWAcIVXjxt"
      },
      "source": [
        "### From ***date*** to ***day_name***; ***hour***; ***date***"
      ]
    },
    {
      "cell_type": "code",
      "execution_count": 9,
      "metadata": {
        "id": "CnXFsS1rXsjI"
      },
      "outputs": [],
      "source": [
        "months_map = {\"Jan\": \"01\", \"Feb\": \"02\", \"Mar\": \"03\", \"Apr\": \"04\", \"May\": \"05\", \"Jun\": \"06\", \"Jul\": \"07\", \"Aug\": \"08\", \"Sep\": \"09\", \"Oct\": \"10\", \"Nov\": \"11\", \"Dec\": \"12\"}\n",
        "\n",
        "convert_date_udf = udf(lambda month_name : months_map[month_name], StringType())"
      ]
    },
    {
      "cell_type": "markdown",
      "source": [
        "### From **hour:min:mill** to int **hour**"
      ],
      "metadata": {
        "id": "kUg1WK_Ml0Au"
      }
    },
    {
      "cell_type": "code",
      "source": [
        "convert_hour_udf = udf(lambda time: int(time[:2]), IntegerType())"
      ],
      "metadata": {
        "id": "QrCqebf9l9uP"
      },
      "execution_count": 10,
      "outputs": []
    },
    {
      "cell_type": "code",
      "execution_count": 11,
      "metadata": {
        "id": "FcXyz4aKg_ul"
      },
      "outputs": [],
      "source": [
        "split_col = pyspark.sql.functions.split(df['full_date'], ' ')\n",
        "\n",
        "df = df.withColumn(\"day_name\", split_col.getItem(0)) \\\n",
        "      .withColumn(\"hour\", convert_hour_udf(split_col.getItem(3))) \\\n",
        "      .withColumn(\"date\", to_date( concat_ws(\"-\", split_col.getItem(2), convert_date_udf(split_col.getItem(1)), split_col.getItem(5)), \"dd-MM-yyyy\"))\n",
        "\n",
        "df = df.drop(\"full_date\")"
      ]
    },
    {
      "cell_type": "markdown",
      "metadata": {
        "id": "6CyYJJi59XKs"
      },
      "source": [
        "---\n",
        "## **Data analysis**\n",
        "### ***target*** values analisys"
      ]
    },
    {
      "cell_type": "code",
      "execution_count": 12,
      "metadata": {
        "colab": {
          "base_uri": "https://localhost:8080/"
        },
        "id": "b1JWoNnM9k4k",
        "outputId": "b5b6a83f-6418-4c1b-a36f-20e1432d3436"
      },
      "outputs": [
        {
          "output_type": "stream",
          "name": "stdout",
          "text": [
            "+------+\n",
            "|target|\n",
            "+------+\n",
            "|     4|\n",
            "|     0|\n",
            "+------+\n",
            "\n"
          ]
        }
      ],
      "source": [
        "df.select(\"target\").distinct().show()\n",
        "# \"target\" value is or 0 or 4"
      ]
    },
    {
      "cell_type": "code",
      "execution_count": 13,
      "metadata": {
        "colab": {
          "base_uri": "https://localhost:8080/"
        },
        "id": "ehZD6TQNAH6H",
        "outputId": "2d4efa86-0067-4096-d4e5-5e65a204cd72"
      },
      "outputs": [
        {
          "output_type": "stream",
          "name": "stdout",
          "text": [
            "Sad tweets =  800000\n",
            "Happy tweets =  800000\n"
          ]
        }
      ],
      "source": [
        "sad_tweets = df.filter(col(\"target\") == 0)\n",
        "happy_tweets = df.filter(col(\"target\") == 4)\n",
        "\n",
        "print(\"Sad tweets = \", sad_tweets.count())\n",
        "print(\"Happy tweets = \", happy_tweets.count())"
      ]
    },
    {
      "cell_type": "markdown",
      "metadata": {
        "id": "_n13xetpApkt"
      },
      "source": [
        "Sad tweets and happy tweets are balanced."
      ]
    },
    {
      "cell_type": "markdown",
      "metadata": {
        "id": "zW2CBtpkBIGM"
      },
      "source": [
        "### Time frame of interest"
      ]
    },
    {
      "cell_type": "code",
      "execution_count": 14,
      "metadata": {
        "colab": {
          "base_uri": "https://localhost:8080/"
        },
        "id": "fNQmo6WsBQDD",
        "outputId": "22c20ee4-e570-4e7b-ab61-e847616793d4"
      },
      "outputs": [
        {
          "output_type": "stream",
          "name": "stdout",
          "text": [
            "Min date =  2009-04-06\n",
            "Max date =  2009-06-25\n"
          ]
        }
      ],
      "source": [
        "print(\"Min date = \", df.select(min(df.date)).collect()[0][0])\n",
        "print(\"Max date = \", df.select(max(df.date)).collect()[0][0])"
      ]
    },
    {
      "cell_type": "markdown",
      "metadata": {
        "id": "5PXQSmfOCezG"
      },
      "source": [
        "The time frame used is too small, datas were collected in 2 months. \\\\\n",
        "*Using data column will be useful only if we try to predict tweets written during the [2009-04-06, 2009-06-25] period.*\n",
        "\n",
        "### Better to delete the ***date*** column"
      ]
    },
    {
      "cell_type": "code",
      "execution_count": 15,
      "metadata": {
        "id": "gwpxRRdnDZrI"
      },
      "outputs": [],
      "source": [
        "df = df.drop(\"date\")"
      ]
    },
    {
      "cell_type": "markdown",
      "metadata": {
        "id": "DAE60S3iFRpF"
      },
      "source": [
        "---\n",
        "## **Data processing**\n",
        "### Case normalization"
      ]
    },
    {
      "cell_type": "code",
      "execution_count": 16,
      "metadata": {
        "id": "qSNd63XFTdlK"
      },
      "outputs": [],
      "source": [
        "# used for all columns to see if null values are present\n",
        "# df.filter(col(\"text\").isNull()).show()\n",
        "\n",
        "df = df.withColumn(\"text\", lower(col(\"text\")))"
      ]
    },
    {
      "cell_type": "markdown",
      "metadata": {
        "id": "qJSbjy6kTQEV"
      },
      "source": [
        "### Username and links removal"
      ]
    },
    {
      "cell_type": "code",
      "execution_count": 17,
      "metadata": {
        "id": "gSkQ5dCkGDJX"
      },
      "outputs": [],
      "source": [
        "import re\n",
        "\n",
        "# twitter ids can contain alphanumeric and '_' characters\n",
        "username_regex = r\"@[A-Za-z0-9_]+\"\n",
        "\n",
        "# http:// / https:// links\n",
        "link_regex1 = r\"https?://[^ ]+\"\n",
        "\n",
        "# www. links\n",
        "link_regex2 = r\"www.[^ ]+\"\n",
        "\n",
        "\n",
        "master_regex = r\"|\".join((username_regex, link_regex1, link_regex2))\n",
        "\n",
        "df = df.withColumn(\"text\", regexp_replace(df.text, master_regex, \"\"))"
      ]
    },
    {
      "cell_type": "markdown",
      "metadata": {
        "id": "tQNB7bpRaxIG"
      },
      "source": [
        "### Filter out punctual symbols"
      ]
    },
    {
      "cell_type": "code",
      "execution_count": 18,
      "metadata": {
        "id": "6ILeqT4Ha22N"
      },
      "outputs": [],
      "source": [
        "df = df.withColumn(\"text\", regexp_replace(df.text, \"[^a-zA-Z\\s]\", \"\"))"
      ]
    },
    {
      "cell_type": "markdown",
      "metadata": {
        "id": "bwH-VfJXU71D"
      },
      "source": [
        "### Trimming"
      ]
    },
    {
      "cell_type": "code",
      "execution_count": 19,
      "metadata": {
        "id": "NSeeMi1QU-nN"
      },
      "outputs": [],
      "source": [
        "df = df.withColumn(\"text\", trim(col(\"text\")))\n",
        "\n",
        "# extra whitespaces\n",
        "df = df.withColumn(\"text\", trim(regexp_replace(df.text, \" +\", \" \")))"
      ]
    },
    {
      "cell_type": "markdown",
      "metadata": {
        "id": "We8YznuapL3U"
      },
      "source": [
        "### Tokenization"
      ]
    },
    {
      "cell_type": "code",
      "execution_count": 20,
      "metadata": {
        "id": "0p6KKbDhpOAF"
      },
      "outputs": [],
      "source": [
        "from pyspark.ml.feature import Tokenizer\n",
        "\n",
        "tokenizer = Tokenizer(inputCol = \"text\", outputCol = \"tokens\")\n",
        "tokens_df = tokenizer.transform(df)"
      ]
    },
    {
      "cell_type": "markdown",
      "metadata": {
        "id": "UOQCWCA3qo0h"
      },
      "source": [
        "### Stopwords removal"
      ]
    },
    {
      "cell_type": "code",
      "execution_count": 21,
      "metadata": {
        "id": "rnulIkVIqrtl"
      },
      "outputs": [],
      "source": [
        "from pyspark.ml.feature import StopWordsRemover\n",
        "\n",
        "stopwords_remover = StopWordsRemover(inputCol = \"tokens\", outputCol = \"terms\")\n",
        "terms_df = stopwords_remover.transform(tokens_df)"
      ]
    },
    {
      "cell_type": "markdown",
      "metadata": {
        "id": "e7fcc-7xrMB1"
      },
      "source": [
        "### Stemming"
      ]
    },
    {
      "cell_type": "code",
      "execution_count": 22,
      "metadata": {
        "id": "VOGvpgdirOOs"
      },
      "outputs": [],
      "source": [
        "from nltk.stem.snowball import SnowballStemmer\n",
        "\n",
        "stemmer = SnowballStemmer(language = \"english\")\n",
        "stemmer_udf = udf(lambda tokens: [stemmer.stem(token) for token in tokens], ArrayType(StringType()))\n",
        "\n",
        "\n",
        "tweets_df = terms_df.withColumn(\"terms_stemmed\", stemmer_udf(\"terms\"))"
      ]
    },
    {
      "cell_type": "markdown",
      "metadata": {
        "id": "vLK2YpWdsiaH"
      },
      "source": [
        "### Removal of unnecessary columns"
      ]
    },
    {
      "cell_type": "code",
      "execution_count": 23,
      "metadata": {
        "colab": {
          "base_uri": "https://localhost:8080/"
        },
        "id": "RUk2wyD9soOX",
        "outputId": "9fd5c992-48fe-42fe-de81-bd1c9e5a667b"
      },
      "outputs": [
        {
          "output_type": "stream",
          "name": "stdout",
          "text": [
            "+------+--------+----+-----------------------------------------------------------------------------------+\n",
            "|target|day_name|hour|terms_stemmed                                                                      |\n",
            "+------+--------+----+-----------------------------------------------------------------------------------+\n",
            "|0     |Mon     |22  |[awww, that, bummer, shoulda, got, david, carr, third, day, d]                     |\n",
            "|0     |Mon     |22  |[upset, cant, updat, facebook, text, might, cri, result, school, today, also, blah]|\n",
            "|0     |Mon     |22  |[dive, mani, time, ball, manag, save, rest, go, bound]                             |\n",
            "|0     |Mon     |22  |[whole, bodi, feel, itchi, like, fire]                                             |\n",
            "|0     |Mon     |22  |[behav, im, mad, cant, see]                                                        |\n",
            "|0     |Mon     |22  |[whole, crew]                                                                      |\n",
            "|0     |Mon     |22  |[need, hug]                                                                        |\n",
            "+------+--------+----+-----------------------------------------------------------------------------------+\n",
            "only showing top 7 rows\n",
            "\n"
          ]
        }
      ],
      "source": [
        "tweets_df = tweets_df.drop(\"id\", \"text\", \"tokens\", \"terms\")\n",
        "\n",
        "tweets_df.show(7, truncate = False)"
      ]
    },
    {
      "cell_type": "markdown",
      "source": [
        "---\n",
        "## **Additional cleaning**"
      ],
      "metadata": {
        "id": "5L6ju2yHRESq"
      }
    },
    {
      "cell_type": "code",
      "source": [
        "tweets_df.cache()\n",
        "\n",
        "tweets_df = tweets_df.filter(size(tweets_df.terms_stemmed) > 1)\n",
        "\n",
        "sad_tweets = tweets_df.filter(tweets_df.target == 0)\n",
        "happy_tweets = tweets_df.filter(tweets_df.target == 4)\n",
        "\n",
        "sad_tweets_count = sad_tweets.count()\n",
        "happy_tweets_count = happy_tweets.count()\n",
        "\n",
        "print(\"Sad tweets = \", sad_tweets_count)\n",
        "print(\"Happy tweets = \", happy_tweets_count)"
      ],
      "metadata": {
        "colab": {
          "base_uri": "https://localhost:8080/"
        },
        "id": "HJJpggTkRT05",
        "outputId": "d6536d83-8060-41ed-919c-15c84952b356"
      },
      "execution_count": 24,
      "outputs": [
        {
          "output_type": "stream",
          "name": "stdout",
          "text": [
            "Sad tweets =  774763\n",
            "Happy tweets =  767489\n"
          ]
        }
      ]
    },
    {
      "cell_type": "markdown",
      "source": [
        "### After the cleaning Sad and Happy tweets are ***unbalanced***"
      ],
      "metadata": {
        "id": "P5zA3f9HRXH0"
      }
    },
    {
      "cell_type": "code",
      "source": [
        "(figure_, axes_) = plt.subplots()\n",
        "\n",
        "y = [sad_tweets_count, happy_tweets_count]\n",
        "axes_.set_ylabel(\"Number of tweets\")\n",
        "\n",
        "x = [\"Sad tweets\", \"Happy tweets\"]\n",
        "\n",
        "axes_.bar(x, y, color = [\"red\", \"green\"])\n",
        "plt.show()"
      ],
      "metadata": {
        "colab": {
          "base_uri": "https://localhost:8080/",
          "height": 430
        },
        "id": "IYTHKIqCRgLK",
        "outputId": "f2056eeb-d1ca-44b2-87c4-626802ad8b7b"
      },
      "execution_count": 25,
      "outputs": [
        {
          "output_type": "display_data",
          "data": {
            "text/plain": [
              "<Figure size 640x480 with 1 Axes>"
            ],
            "image/png": "[encoded data removed]"
          },
          "metadata": {}
        }
      ]
    },
    {
      "cell_type": "markdown",
      "source": [
        "### Balancing dataframes"
      ],
      "metadata": {
        "id": "uBY026hPgd3h"
      }
    },
    {
      "cell_type": "code",
      "source": [
        "sad_tweets = sad_tweets.select(\"*\").orderBy(rand())\n",
        "sad_tweets = sad_tweets.limit(happy_tweets_count)\n",
        "\n",
        "tweets_df = sad_tweets.union(happy_tweets)"
      ],
      "metadata": {
        "id": "xJygEfWNgmxU"
      },
      "execution_count": 26,
      "outputs": []
    },
    {
      "cell_type": "markdown",
      "metadata": {
        "id": "uY_VvQBrKisT"
      },
      "source": [
        "---\n",
        "## **Word Vector representation**"
      ]
    },
    {
      "cell_type": "markdown",
      "metadata": {
        "id": "g5x_pMftKtt2"
      },
      "source": [
        "### Load **GloVe** embeddings"
      ]
    },
    {
      "cell_type": "code",
      "execution_count": 27,
      "metadata": {
        "id": "NnmMF2HMNcTc",
        "colab": {
          "base_uri": "https://localhost:8080/"
        },
        "outputId": "e8c08162-fed1-431f-f688-357205185470"
      },
      "outputs": [
        {
          "output_type": "stream",
          "name": "stdout",
          "text": [
            "[=================================================-] 99.6% 385.7/387.1MB downloaded\n"
          ]
        }
      ],
      "source": [
        "import gensim.downloader as api\n",
        "\n",
        "embeddings = 100\n",
        "word2vector = None\n",
        "\n",
        "if word2vector == None:\n",
        "  word2vector = api.load(\"glove-twitter-\" + str(embeddings))"
      ]
    },
    {
      "cell_type": "markdown",
      "source": [
        "### Mapping tokens - embeddings"
      ],
      "metadata": {
        "id": "T3epcP4Vc48E"
      }
    },
    {
      "cell_type": "code",
      "execution_count": 28,
      "metadata": {
        "id": "QssWZt9MSB2C",
        "colab": {
          "base_uri": "https://localhost:8080/"
        },
        "outputId": "ef589c0b-a412-4135-d5af-1c378550be55"
      },
      "outputs": [
        {
          "output_type": "stream",
          "name": "stdout",
          "text": [
            "root\n",
            " |-- target: integer (nullable = true)\n",
            " |-- day_name: string (nullable = true)\n",
            " |-- hour: integer (nullable = true)\n",
            " |-- terms_stemmed: array (nullable = true)\n",
            " |    |-- element: string (containsNull = true)\n",
            " |-- tweet_embeddings: string (nullable = true)\n",
            "\n",
            "+------+--------+----+----------------------------------------------------------------------------------------------+-----------------------------------------------------------------------------------------------------------------------------------------------------------------------------------------------------------------------------------------------------------------------------------------------------------------------------------------------------------------------------------------------------------------------------------------------------------------------------------------------------------------------------------------------------------------------------------------------------------------------------------------------------------------------------------------------------------------------------------------------------------------------------------------------------------------------------------------------------------------------------------------------------------------------------------------------------------------------------------------------------------------------------------------------------------------------------------------------------------------------------------------------------------------------------------------------------------------------------------------------------------------------------------------------------------------------------------------------------------------------------------------------------------------------------------------------------------------------------------------------------------------------------------------------------------------------------------------------------------------------------------------------------------------------------------------------------------------------------------------------------------------------------------------------------------------------------------------------------------------------------------------------------------------------------------------------------------------------------------------------------------------------------------------------------------------------------------------------------------------------------------------------------------------------------------------------------------------------------------------+\n",
            "|target|day_name|hour|terms_stemmed                                                                                 |tweet_embeddings                                                                                                                                                                                                                                                                                                                                                                                                                                                                                                                                                                                                                                                                                                                                                                                                                                                                                                                                                                                                                                                                                                                                                                                                                                                                                                                                                                                                                                                                                                                                                                                                                                                                                                                                                                                                                                                                                                                                                                                                                                                                                                                                                                                                                         |\n",
            "+------+--------+----+----------------------------------------------------------------------------------------------+-----------------------------------------------------------------------------------------------------------------------------------------------------------------------------------------------------------------------------------------------------------------------------------------------------------------------------------------------------------------------------------------------------------------------------------------------------------------------------------------------------------------------------------------------------------------------------------------------------------------------------------------------------------------------------------------------------------------------------------------------------------------------------------------------------------------------------------------------------------------------------------------------------------------------------------------------------------------------------------------------------------------------------------------------------------------------------------------------------------------------------------------------------------------------------------------------------------------------------------------------------------------------------------------------------------------------------------------------------------------------------------------------------------------------------------------------------------------------------------------------------------------------------------------------------------------------------------------------------------------------------------------------------------------------------------------------------------------------------------------------------------------------------------------------------------------------------------------------------------------------------------------------------------------------------------------------------------------------------------------------------------------------------------------------------------------------------------------------------------------------------------------------------------------------------------------------------------------------------------------+\n",
            "|0     |Fri     |19  |[wish, prom, dinner, johnni, carino, yummi, thank, bf, cant, wait, wear, hot, new, swimsuit]  |[-0.1903389942433153, 0.16638143457073187, 0.1236903579639537, 0.1568572111427784, 0.11127678650830473, -0.20481157063373498, 0.5808394985007388, 0.0418358567569937, 0.08774478680321149, -0.030458579105990275, -0.38305360832185087, -0.02777028669204031, -2.828565684014133, 0.13926786077874048, -0.09605792936469827, 0.10207143618858286, -0.037416420777195265, -0.113172568913017, -0.27382535859942436, -0.006878212094306946, -0.06710342371038028, 0.11615228619692582, 0.002840427149619375, -0.12089135750596013, -0.090566575261099, -0.14084142978702271, 0.16909328382462263, -0.16655200027993747, -0.058560449563499005, -0.47208568852927, -0.30406514515302013, 0.10976036132446357, 0.053073570132255554, 0.09079006952898842, -0.08782564010471106, 0.10976664429264409, 0.04570214117744139, -0.0657589335792831, 0.17955871711352042, 0.2592639989618744, -0.5783800019749573, -0.20939206221373752, 0.12885485695941107, 0.20030917903308623, 0.1401327198504337, 0.11875085509382188, 0.18743149882980756, -0.27004285688911167, -0.27467807376108666, 0.020790000579186847, -0.41516928002238274, -0.10401581939575928, -0.11604928637721709, -0.07074056964899812, 0.29489907223199097, 0.2753657177090645, 0.15870285140616552, -0.04554878840489047, 0.16071928292512894, 0.07645407106195178, 0.04813386160614235, -0.07745071766631943, 0.15680228293474233, -0.2090465035289526, -0.15458885819784232, -0.18634607350187643, -0.2566605440307675, -0.201103432902268, -0.05557264041687761, -0.014451429780040468, 0.12440892761307103, 0.029096357790487155, 0.20588885700064047, -0.01267250201531819, 0.0905764251947403, 0.2344606464861759, -0.03496912251492696, 0.12798072337838157, 0.1638729992721762, 0.1646505036790456, 1.3170005048492126, -0.2189963614302022, -0.2595525729869093, -0.28977800173951046, 0.18891749504421437, 0.12773007147812418, -0.051198428363672326, 0.006979212963155338, -0.027464284428528378, 0.057454001158475876, -0.03966493159532547, 0.2560572566331497, 0.12058657141668457, -0.10203274642117321, -0.044075281492301395, -0.05978240757914526, -0.14088478750948394, 0.05662864313593933, -0.18301778645919903, -0.12136442586779594]                  |\n",
            "|0     |Thu     |10  |[talk, turn, pot, meat, product, back, softwar]                                               |[-0.14811486165438378, -0.03047256836933749, -0.10923128787960325, -0.09275057326470103, 0.1846577131322452, 0.17723160902304308, 0.09203428030014038, -0.1416702845266887, -0.11771743159208979, -0.07246141987187522, -0.18425113814217703, 0.09764714539051056, -3.195687113063676, 0.04532843269407749, -0.13030857273510524, 0.06439571295465742, 0.1148199981876782, 0.2225162416164364, 0.045960714774472375, -0.18678128932203567, -0.21817957370408944, 0.19048571905919484, -0.016156578170401708, 0.422227857368333, 0.045523573245321004, 0.22572856502873556, 0.21381528515900886, -0.022400475506271635, -0.0720072862293039, -0.17665428348949977, 0.15302000407661712, 0.04600415165935244, -0.24572113874767507, 0.0037328611527170453, 0.21497671891536033, -0.20623457325356348, 0.17174571646111353, 0.20828714860337122, 0.39288286013262613, 0.2945825776883534, -0.05721286364964077, 0.2197463767869132, -0.11443712881633214, 0.12804572071347917, 0.4673344274716718, 0.08216749118374926, 0.11757985715355192, 0.33423857390880585, 0.04551085430596556, 0.040971865611416955, -0.05570285767316818, 0.17474785766431264, -0.1631661347512688, 0.2761361485879336, 0.0010779965668916702, 0.054881712687867026, 0.03357285686901638, 0.20973571709224156, 0.10139000043272972, -0.02303799880402429, -0.1655385802899088, -0.11566100056682314, 0.021038427150675228, 0.22002113929816655, 0.30397714035851614, -0.27335284863199505, 0.23939571848937444, -0.08981828817299434, -0.08441271473254476, 0.06653714605740138, 0.02515199620808874, 0.07643857278994151, 0.15468914753624372, 0.25465000846556257, -0.056103573845965524, 0.41055557344641, -0.12923429480620793, -0.15695699942963465, 0.14484585954674653, -0.20048732895936286, 1.1610328618969237, 0.2919745287591858, -0.3061768582889012, -0.27137471416166853, -0.1910334261400359, -0.007623851565378053, -0.14557286032608577, -0.16653714222567423, -0.061888295092753, -0.007661424045051847, -0.2425938562623092, -0.06560571172407695, 0.14313357216971262, -0.09688571308340345, 0.06787242633955819, 0.14527828352791922, 0.05385135939078672, 0.08079599908420018, -0.024944712540933063, 0.09457114285656384]                   |\n",
            "|0     |Sun     |6   |[hope, eli, feel, better, ill, call, later, set, day, last, day, pool]                        |[-0.1003754180079947, 0.3581142503923426, 0.14270708026985326, -0.25406514571902034, 0.04809008911252022, 0.20309616718441248, 0.33447358136375743, 0.18446268886327744, 0.020590499664346378, 0.28841058257967234, -0.2932228376157582, -0.08232733296851318, -4.090808322032292, 0.04484077461529523, -0.20380058186128736, -0.09218699702372153, -0.008879615847642222, -0.03549141809344292, -0.48989090385536355, -0.1365177504873524, -0.08118083669493596, -0.09287249995395541, -0.1420187447220087, 0.03478283357496063, 0.1211889189047118, -0.18567050341516733, -0.020056940343541402, -0.28531916067004204, 0.026842497444401186, -0.37670191455011565, -0.12213533744215965, -0.022379996875921886, -0.11949766334146261, 0.22116616554558277, 0.03744366547713677, 0.3926765825599432, 0.2727625685899208, -0.2735677524469793, 0.18284258525818586, 0.13509439940874776, -0.7850449879964193, 0.03435472282581031, 0.10599700299402078, 0.13286453763915537, 0.1527561703696847, -0.24818350467830896, 0.14655183472981057, -0.12558167971049747, 0.03581249713897705, 0.3087636371104357, -0.10659297264646739, -0.22043691979100308, 0.20319291157647967, -0.03307912168869128, 0.15176699900378784, 0.10210125303516786, -0.07337633209923904, 0.06794708874076605, 0.23387158568948507, 0.17313400531808534, 0.05040174971024195, -0.07384808082133532, 0.10851307942842443, 0.007582499956091245, 0.008296998295312127, -0.18181899872918925, -0.1565716713666916, -0.23604141299923262, 0.028215738634268444, -0.1417083302512765, 0.08472633485992749, 0.031593668895463146, 0.1982596617502471, 0.0960803860022376, 0.327065331240495, -0.02046450103322665, 0.13548249999682108, 0.01834625005722046, 0.013092500468095144, 0.18200316776831946, 1.7803316513697307, 0.06182699495305618, -0.1229564842748611, -0.0316419944477578, 0.3209455832839012, 0.0030221057822927833, 0.12084567034617066, 0.08752923536424835, 0.02672333021958669, -0.07600358283768098, 0.03266741707921028, 0.005998169382413228, 0.020864511219163735, -0.0072158332914114, -0.12869191418091455, -0.20957208207497993, -0.011994168162345886, 0.19559232983738184, -0.03295099517951409, -0.1569998310878873]                    |\n",
            "|0     |Fri     |5   |[come, couldnt, find, book, amazon, want, kindl]                                              |[-0.11181198590306199, 0.16316335555166006, -0.020805715450218747, -0.0021515066868492533, -0.20554100030234881, -0.23112143576145172, 0.3995899962527411, -0.18402028403111867, 0.20251000353268214, -0.02649914047547749, -0.2656502936567579, 0.26715285650321413, -3.524454563590033, 0.1780388572120241, -0.54136601063822, -0.3037271297403744, 0.06761557183095387, 0.5364934440170016, 0.11377142369747162, -0.0864202869789941, 0.3312984268580164, -0.15524142980575562, 0.20919071789830923, 0.1644846015676324, -0.3118899975504194, -0.08041999914816447, 0.38271571482930866, 0.05217999645641872, 0.28315572440624237, -0.050968854555061886, -0.0407275701207774, 0.08639371395111084, -0.010278579379831041, 0.11372543232781547, -0.18694028271628277, -0.019806422293186188, 0.2350921415324722, -0.15964785643986293, -0.20294385456613132, 0.04044142259018762, -0.20968713079180037, -0.018951859325170517, -0.24019571021199226, -0.23171428910323552, 0.27947714711938587, 0.2417948618531227, 0.07122599227087838, -0.24644114516143287, -0.1924509737374527, 0.2028257123061589, -0.1552042897258486, -0.16499084952686513, -0.3654728563768523, -0.14154134883678385, -0.12597356949533736, -0.29118999732392176, 0.14810859312170319, 0.02631285148007529, -0.06658142911536354, -0.24042842856475286, 0.09907214556421552, 0.04401386209896633, 0.13998842798173428, 0.022577711514064243, 0.052490278014114926, -0.053202406503260136, 0.042657999587910514, -0.06109471619129181, -0.024722369387745857, 0.04886428586074284, -0.27669000732047216, 0.057391426392963955, 0.29744014889001846, -0.10387128697974342, 0.007151285452502114, -0.12511999479361943, -0.24145899659820966, 0.047815856124673574, -0.13554028701037169, -0.16744800018412725, 1.2752614319324493, 0.33389614309583393, -0.21760000075612748, -0.16769285712923324, 0.39848857266562326, 0.3093369943755014, -0.2188903455223356, -0.026992286954607283, -0.05835728560175214, -0.060299286884920936, -0.2619930582254061, 0.07838270706789834, 0.24139342776366643, 0.0034989959427288602, 0.061451719009450505, 0.06288899614342622, -0.0337067147982972, -0.044018427309181006, 0.1381882897445134, 0.2882139999419451]      |\n",
            "|0     |Sun     |5   |[add, quotteacherquot, folder, content, children, teacher, happen]                            |[0.34679000452160835, 0.047487281795058935, -0.08391285581248147, 0.1526232392394117, 0.14162858821717755, 0.10361286252737045, 0.510905710714204, -0.1492471354348319, 0.18457000383308955, 0.022545708077294484, -0.294273425425802, -0.028483004442283084, -2.8773285491125926, 0.21836428344249725, -0.32472856981413706, -0.07675422887716975, -0.06500099546142987, -0.05418000476700919, -0.06858342939189502, -0.19163728505373, -0.058822574360030036, 0.08369000043187823, -0.15024985931813717, 0.34739614091813564, -0.21339428424835205, 0.12984099877732141, -0.05051928439310619, -0.07296685794634479, 0.293811423437936, 0.17788600083440542, 0.015164281640733992, 0.014935234628085579, -0.26451856749398367, -0.02111599168607167, 0.1727414322750909, -0.026912430035216466, 0.2850742893559592, 0.16285999438592366, -0.025064227670165046, -0.12773995700159244, 0.016079294894422804, -0.1526080139779619, -0.09011714586189815, -0.008174143731594086, 0.12473856977054051, -0.08096571532743317, -0.04796514447246279, 0.05510027972715242, -0.2625942826271057, -0.03832056852323668, 0.4005374443284901, 0.043657864310911725, -0.24835730716586113, 0.07659628348691123, 0.039695720587457926, 0.14043614015515363, -0.20466428782258714, -0.02148857286998204, -0.26313929579087664, -0.1190305735383715, -0.1855794292475496, -0.16471227364880697, 0.32940871747476713, -0.049640857481530735, -0.009430568133081709, 0.1250605882336718, -0.14015143258231028, -0.036085128651133606, -0.07905585984034198, -0.032908285302775245, -0.24615714539374625, -0.030945707644735063, 0.15428585984877177, -0.14469785881893976, 0.08248071159635272, 0.0017360060342720576, -0.08083429506846837, -0.2216392851301602, -0.28182428649493624, -0.08617857311453138, 0.7510341491018023, 0.2731414298926081, 0.23114229100091116, -0.23274657555988856, 0.22999771684408188, -0.37397013790905476, 0.014487858329500471, -0.1227152869105339, -0.051452567534787316, 0.12561714010579245, -0.08148672757670283, 0.35308428747313364, 0.05542357159512384, 0.04032071866095066, 0.22676719359255262, 0.019129855558276176, 0.10838557354041509, 0.09678828742887292, -0.03599185390131814, 0.057471434984888346]|\n",
            "|0     |Sat     |2   |[love, sunni, day, plymouth, think, spend, hour, comput, sigh]                                |[-0.03410534364067846, -0.016313444823026657, 0.09189027382267846, 0.13279844489362505, -0.17375210155215529, -0.02627122298710876, 0.08554610692792469, 0.08482377727826436, -0.010837445449497964, -0.08403477569421132, -0.21884088694221443, -0.3842933293845918, -3.199942118177811, 0.05376466694805357, -0.3962754489233096, -0.21495966075195205, -0.08409555587503645, 0.008751915457348028, -0.366728397914105, 0.15654733176860544, -0.08992111124098301, -0.14526055132349333, -0.2194341141730547, 0.005261106623543633, -0.07996188062760565, 0.2550511161486308, -0.12839777602089775, 0.015047557651996613, 0.11150255302588145, -0.1889102210601171, -0.016200222074985504, -0.025018489544486835, -0.015738106850120757, 0.33472711013423073, -0.04841566375560231, 0.020788663998246193, 0.14411868910408682, 0.13093343749642372, 0.11556567086113824, -0.14586892154895598, -0.5373841159873538, 0.271423328253958, 0.05983655568626192, -0.3151948569704675, -0.06665277895000246, 0.03470277786254883, 0.04120811488893297, -0.11225689119762844, 0.02959588397708204, 0.07187260904659827, -0.15454044399989975, -4.8133979241053265E-4, 0.10248388681146833, -0.14979255282216603, 0.025761774016751185, 0.07279055865688457, -0.11628877826862866, -0.07787211073769464, 0.13101556152105331, 0.06181711206833521, 0.24932688764399952, 0.089867668847243, -0.04175478758083449, 0.006412553704447216, -0.08280832899941339, 0.024632664604319468, -0.2249677245401674, 0.07112755709224278, 0.12534322548243734, 0.04579477777911557, -0.10492122297485669, 0.13814177943600547, 0.3881095473965009, -0.052947669186525874, 0.3129891057809194, 0.21538974018767476, 0.05757444413999716, 0.20851222342915005, 0.03382999532752567, 0.09976986640443404, 1.2662922342618306, -0.21936111317740548, -0.13755788115991485, 0.20046078289548555, 0.3390338212613844, -0.0994608923792839, 0.07423777629931767, 0.01212999928328726, 0.2887086659255955, -0.03843666944238874, 0.11888188951545292, 0.17736522522237566, 0.4167863416175048, 0.09289633213645881, -0.07034933649831349, -0.08211600283781688, 0.11619889073901707, -0.03938822034332487, 0.12507211561832163, -0.14078722066349453]               |\n",
            "|0     |Tue     |13  |[lucki, themhumpf, lol, well, im, loyal, ddub, soldier, im, brazil, love, still, luv, ya, tho]|[-0.16466945833844876, 0.1376951957742373, -0.2310275952021281, 0.1327466016014417, -0.10256999830404917, 0.009886736174424489, 0.12630552916477125, 0.1799627335121234, 0.19046593395372233, 0.28252799808979034, -0.0014400684585173925, -0.01835186704993248, -3.252180642882983, 0.1848811970402797, 0.32514720323185126, -0.15970033866663774, 0.20403406309584776, -0.16989460103213788, -0.20120259722073872, -0.05932839593539636, 0.15591812962666154, 0.20523586847508948, -0.021944003303845723, 0.011439933627843856, -0.08306632998088996, -0.1918334662914276, -0.11316820085048676, 0.078827998538812, -0.2954735984404882, -0.3696129371722539, -0.11861532951394717, -0.12198979953924814, 0.12753972209369144, 0.012291061878204345, -0.03464246653020382, 0.08260933787872395, 0.08918626854817073, -0.013307793492761752, -0.06302459935347239, 0.18175584202011427, -0.644554061194261, 0.08638166834910711, 0.26310171944399674, 0.1465406809312602, -0.1773273341357708, 0.04835673247774442, 0.26145053605238594, -0.39239426553249357, 0.04288460115591685, 0.3099626620610555, -0.4254269351561864, 0.04006126647194227, 0.14894946167866388, -0.31274900982777276, 0.21215799351533254, -0.003626733645796776, -0.17790653457244238, 0.1538328672448794, 0.23630019997557003, -0.04789006859064102, -0.016178533186515173, -0.11395544319724044, -0.050392736991246544, 0.2579734613498052, -0.05676300519456466, -0.24445430313547453, -0.41141507029533386, 0.12533662312974533, -0.12880786384145418, 0.14523566762606302, -0.1460144679993391, 0.2058833380540212, 0.03585999325538675, -0.18415740778048834, -0.04497893527150154, 0.019894537515938282, 0.04065273329615593, 0.04658973415692647, 0.1264139981319507, 0.20842467968662579, 0.873044005036354, 0.11955525375281771, -0.31686197289576135, 0.13199446648359298, 0.10880522695370018, 0.2870186692879846, -0.04467566932241122, -0.08760851152862112, -0.02014978602528572, 0.1298930029074351, 0.19617320199807484, 0.010244028953214487, 0.06918546706438064, 0.11259279828518629, -0.06340493708848953, 0.012088863303263982, -0.13261949953933558, 0.2675477993985017, 0.2676487581804395, -0.268795928110679]                         |\n",
            "+------+--------+----+----------------------------------------------------------------------------------------------+-----------------------------------------------------------------------------------------------------------------------------------------------------------------------------------------------------------------------------------------------------------------------------------------------------------------------------------------------------------------------------------------------------------------------------------------------------------------------------------------------------------------------------------------------------------------------------------------------------------------------------------------------------------------------------------------------------------------------------------------------------------------------------------------------------------------------------------------------------------------------------------------------------------------------------------------------------------------------------------------------------------------------------------------------------------------------------------------------------------------------------------------------------------------------------------------------------------------------------------------------------------------------------------------------------------------------------------------------------------------------------------------------------------------------------------------------------------------------------------------------------------------------------------------------------------------------------------------------------------------------------------------------------------------------------------------------------------------------------------------------------------------------------------------------------------------------------------------------------------------------------------------------------------------------------------------------------------------------------------------------------------------------------------------------------------------------------------------------------------------------------------------------------------------------------------------------------------------------------------------+\n",
            "only showing top 7 rows\n",
            "\n"
          ]
        }
      ],
      "source": [
        "extractor_udf = udf(lambda tokens: [[float(x) for x in word2vector[token]] if token in word2vector else [float(0.0)]*word2vector[\"tweet\"].shape[0] for token in tokens], ArrayType((ArrayType(FloatType()))))\n",
        "\n",
        "avg_embedding_udf = udf(lambda x :[float(y) for y in np.mean(x, axis = 0)])\n",
        "\n",
        "tweets_embedded = tweets_df.withColumn(\"tweet_embeddings\", extractor_udf(\"terms_stemmed\"))\n",
        "tweets_embedded = tweets_embedded.withColumn(\"tweet_embeddings\", avg_embedding_udf(\"tweet_embeddings\"))\n",
        "\n",
        "tweets_embedded.printSchema()\n",
        "tweets_embedded.show(7, truncate = False)\n"
      ]
    },
    {
      "cell_type": "markdown",
      "source": [
        "### Conversion from `ArrayType( ArrayType( Float() ) )` to `VectorUDT()`"
      ],
      "metadata": {
        "id": "KbTIOB_ref7U"
      }
    },
    {
      "cell_type": "code",
      "source": [
        "from pyspark.ml.linalg import Vectors, VectorUDT\n",
        "\n",
        "to_vector_udf = udf(lambda embedded: Vectors.dense(embedded), VectorUDT())\n",
        "\n",
        "tweets_embedded = tweets_embedded.withColumn(\"tweet_embeddings\", to_vector_udf(tweets_embedded.tweet_embeddings))\n"
      ],
      "metadata": {
        "id": "2t-3-JrtfCtC"
      },
      "execution_count": 29,
      "outputs": []
    },
    {
      "cell_type": "markdown",
      "source": [
        "---\n",
        "## **Train and Test setup**"
      ],
      "metadata": {
        "id": "hdjs_CoYOWBu"
      }
    },
    {
      "cell_type": "code",
      "source": [
        "tweets_embedded.cache()\n",
        "\n",
        "(train_df, test_df) = tweets_embedded.randomSplit([0.8, 0.2], seed=1234)\n",
        "\n",
        "train_df_count = train_df.count()\n",
        "#test_df_count = test_df.count()"
      ],
      "metadata": {
        "id": "FxAMJ3ziO3g1"
      },
      "execution_count": 31,
      "outputs": []
    },
    {
      "cell_type": "markdown",
      "source": [
        "### Balancing dataframes"
      ],
      "metadata": {
        "id": "W0mbRp_58Bdp"
      }
    },
    {
      "cell_type": "code",
      "source": [
        "# Calculate the class weights for the train set based on the \"TARGET\" column\n",
        "class_weights_train = train_df.groupBy('target').count().withColumn('class_weight_train', 1 / col('count'))\n",
        "\n",
        "# Calculate the class weights for the test set based on the \"TARGET\" column\n",
        "#class_weights_test = test_df.groupBy('target').count().withColumn('class_weight_test', 1 / col('count'))\n",
        "\n",
        "# Calculate the weights for the \"HOUR\" column based on the distribution in the train set\n",
        "hour_weights_train = train_df.groupBy('hour').count().withColumn('hour_weight_train', col('count') / train_df_count)\n",
        "\n",
        "# Calculate the weights for the \"HOUR\" column based on the distribution in the test set\n",
        "#hour_weights_test = test_df.groupBy('hour').count().withColumn('hour_weight_test', col('count') / test_df_count)\n",
        "\n",
        "# Calculate the weights for the \"DAY_NAME\" column based on the distribution in the train set\n",
        "day_weights_train = train_df.groupBy('day_name').count().withColumn('day_weight_train', col('count') / train_df_count)\n",
        "\n",
        "# Calculate the weights for the \"DAY_NAME\" column based on the distribution in the test set\n",
        "#day_weights_test = test_df.groupBy('day_name').count().withColumn('day_weight_test', col('count') / test_df.count())\n",
        "\n",
        "# Join the weights with the respective datasets\n",
        "train_df_weighted = train_df.join(class_weights_train, 'target', 'left').join(hour_weights_train, 'hour', 'left').join(day_weights_train, 'day_name', 'left')\n",
        "#test_df_weighted = test_df.join(class_weights_test, 'target', 'left').join(hour_weights_test, 'hour', 'left').join(day_weights_test, 'day_name', 'left')\n",
        "\n",
        "# Fill null values in case of missing values\n",
        "train_df_weighted = train_df_weighted.fillna(0.0, subset=['class_weight_train', 'hour_weight_train', 'day_weight_train'])\n",
        "#test_df_weighted = test_df_weighted.fillna(0.0, subset=['class_weight_test', 'hour_weight_test', 'day_weight_test'])\n",
        "\n",
        "\n",
        "# Now add the TERMS_STEMMED and TWEET_EMBEDDINGS columns to the weighted DataFrames\n",
        "train_df_weighted = train_df_weighted.withColumn('terms_stemmed', col('terms_stemmed'))\n",
        "train_df_weighted = train_df_weighted.withColumn('tweet_embeddings', col('tweet_embeddings'))\n",
        "\n",
        "#test_df_weighted = test_df_weighted.withColumn('terms_stemmed', col('terms_stemmed'))\n",
        "#test_df_weighted = test_df_weighted.withColumn('tweet_embeddings', col('tweet_embeddings'))\n",
        "\n",
        "df_cols = train_df_weighted.columns\n",
        "\n",
        "# Get index of the duplicate columns\n",
        "duplicate_col_index = [idx for idx,\n",
        "   val in enumerate(df_cols) if val in df_cols[:idx]]\n",
        "\n",
        "cols_to_remove = list()\n",
        "# Create a new list by renaming duplicate\n",
        "# columns by adding prefix 'day_'\n",
        "for i in duplicate_col_index:\n",
        "    df_cols[i] = 'day_'+ str(i)\n",
        "    cols_to_remove.append(col(df_cols[i]))\n",
        "\n",
        "# Rename the duplicate columns in data frame\n",
        "train_df_weighted = train_df_weighted.toDF(*df_cols)\n",
        "\n",
        "cols_to_remove.append(col(\"count\"))\n",
        "\n",
        "# Remove the columns with same name\n",
        "train_df_weighted = train_df_weighted.drop(*cols_to_remove)\n",
        "\n",
        "train_df_weighted.show(5)\n",
        "#test_df_weighted.show(5)\n"
      ],
      "metadata": {
        "colab": {
          "base_uri": "https://localhost:8080/"
        },
        "id": "thWzMiDn8Enr",
        "outputId": "a572b14c-00a9-4891-d9aa-cc4c2b03573c"
      },
      "execution_count": 48,
      "outputs": [
        {
          "output_type": "stream",
          "name": "stdout",
          "text": [
            "+--------+----+------+--------------------+--------------------+--------------------+-------------------+-------------------+\n",
            "|day_name|hour|target|       terms_stemmed|    tweet_embeddings|  class_weight_train|  hour_weight_train|   day_weight_train|\n",
            "+--------+----+------+--------------------+--------------------+--------------------+-------------------+-------------------+\n",
            "|     Fri|   0|     0|[aaaaaaa, cant, l...|[-0.1621966560681...|1.627733982690676...|0.05066408254004446|0.14098826556786997|\n",
            "|     Fri|   0|     0|[aah, must, go, b...|[0.07020000517368...|1.627733982690676...|0.05066408254004446|0.14098826556786997|\n",
            "|     Fri|   0|     0|[aargh, that, old...|[0.18359609456224...|1.627733982690676...|0.05066408254004446|0.14098826556786997|\n",
            "|     Fri|   0|     0|[absent, im, sick...|[-0.0620203393821...|1.627733982690676...|0.05066408254004446|0.14098826556786997|\n",
            "|     Fri|   0|     0|[absolut, posit, ...|[-0.2770353769883...|1.627733982690676...|0.05066408254004446|0.14098826556786997|\n",
            "+--------+----+------+--------------------+--------------------+--------------------+-------------------+-------------------+\n",
            "only showing top 5 rows\n",
            "\n"
          ]
        }
      ]
    },
    {
      "cell_type": "code",
      "source": [
        "train_df_weighted.coalesce(1).write.mode('overwrite').parquet('train_data_w.parquet')"
      ],
      "metadata": {
        "colab": {
          "base_uri": "https://localhost:8080/",
          "height": 938
        },
        "id": "7iLB3pTPEb8H",
        "outputId": "b7d8da43-254a-4384-9425-b54d25debeca"
      },
      "execution_count": 53,
      "outputs": [
        {
          "output_type": "stream",
          "name": "stderr",
          "text": [
            "----------------------------------------\n",
            "Exception occurred during processing of request from ('127.0.0.1', 36420)\n",
            "ERROR:root:Exception while sending command.\n",
            "Traceback (most recent call last):\n",
            "  File \"/usr/local/lib/python3.10/dist-packages/py4j/clientserver.py\", line 516, in send_command\n",
            "    raise Py4JNetworkError(\"Answer from Java side is empty\")\n",
            "py4j.protocol.Py4JNetworkError: Answer from Java side is empty\n",
            "\n",
            "During handling of the above exception, another exception occurred:\n",
            "\n",
            "Traceback (most recent call last):\n",
            "  File \"/usr/local/lib/python3.10/dist-packages/py4j/java_gateway.py\", line 1038, in send_command\n",
            "    response = connection.send_command(command)\n",
            "  File \"/usr/local/lib/python3.10/dist-packages/py4j/clientserver.py\", line 539, in send_command\n",
            "    raise Py4JNetworkError(\n",
            "py4j.protocol.Py4JNetworkError: Error while sending or receiving\n",
            "Traceback (most recent call last):\n",
            "  File \"/usr/lib/python3.10/socketserver.py\", line 316, in _handle_request_noblock\n",
            "    self.process_request(request, client_address)\n",
            "  File \"/usr/lib/python3.10/socketserver.py\", line 347, in process_request\n",
            "    self.finish_request(request, client_address)\n",
            "  File \"/usr/lib/python3.10/socketserver.py\", line 360, in finish_request\n",
            "    self.RequestHandlerClass(request, client_address, self)\n",
            "  File \"/usr/lib/python3.10/socketserver.py\", line 747, in __init__\n",
            "    self.handle()\n",
            "  File \"/usr/local/lib/python3.10/dist-packages/pyspark/accumulators.py\", line 281, in handle\n",
            "    poll(accum_updates)\n",
            "  File \"/usr/local/lib/python3.10/dist-packages/pyspark/accumulators.py\", line 253, in poll\n",
            "    if func():\n",
            "  File \"/usr/local/lib/python3.10/dist-packages/pyspark/accumulators.py\", line 257, in accum_updates\n",
            "    num_updates = read_int(self.rfile)\n",
            "  File \"/usr/local/lib/python3.10/dist-packages/pyspark/serializers.py\", line 596, in read_int\n",
            "    raise EOFError\n",
            "EOFError\n",
            "----------------------------------------\n"
          ]
        },
        {
          "output_type": "error",
          "ename": "Py4JError",
          "evalue": "ignored",
          "traceback": [
            "\u001b[0;31m---------------------------------------------------------------------------\u001b[0m",
            "\u001b[0;31mPy4JError\u001b[0m                                 Traceback (most recent call last)",
            "\u001b[0;32m<ipython-input-53-9d4a3416c55d>\u001b[0m in \u001b[0;36m<cell line: 1>\u001b[0;34m()\u001b[0m\n\u001b[0;32m----> 1\u001b[0;31m \u001b[0mtrain_df_weighted\u001b[0m\u001b[0;34m.\u001b[0m\u001b[0mcoalesce\u001b[0m\u001b[0;34m(\u001b[0m\u001b[0;36m1\u001b[0m\u001b[0;34m)\u001b[0m\u001b[0;34m.\u001b[0m\u001b[0mwrite\u001b[0m\u001b[0;34m.\u001b[0m\u001b[0mmode\u001b[0m\u001b[0;34m(\u001b[0m\u001b[0;34m'overwrite'\u001b[0m\u001b[0;34m)\u001b[0m\u001b[0;34m.\u001b[0m\u001b[0mparquet\u001b[0m\u001b[0;34m(\u001b[0m\u001b[0;34m'train_data_w.parquet'\u001b[0m\u001b[0;34m)\u001b[0m\u001b[0;34m\u001b[0m\u001b[0;34m\u001b[0m\u001b[0m\n\u001b[0m",
            "\u001b[0;32m/usr/local/lib/python3.10/dist-packages/pyspark/sql/readwriter.py\u001b[0m in \u001b[0;36mparquet\u001b[0;34m(self, path, mode, partitionBy, compression)\u001b[0m\n\u001b[1;32m   1654\u001b[0m             \u001b[0mself\u001b[0m\u001b[0;34m.\u001b[0m\u001b[0mpartitionBy\u001b[0m\u001b[0;34m(\u001b[0m\u001b[0mpartitionBy\u001b[0m\u001b[0;34m)\u001b[0m\u001b[0;34m\u001b[0m\u001b[0;34m\u001b[0m\u001b[0m\n\u001b[1;32m   1655\u001b[0m         \u001b[0mself\u001b[0m\u001b[0;34m.\u001b[0m\u001b[0m_set_opts\u001b[0m\u001b[0;34m(\u001b[0m\u001b[0mcompression\u001b[0m\u001b[0;34m=\u001b[0m\u001b[0mcompression\u001b[0m\u001b[0;34m)\u001b[0m\u001b[0;34m\u001b[0m\u001b[0;34m\u001b[0m\u001b[0m\n\u001b[0;32m-> 1656\u001b[0;31m         \u001b[0mself\u001b[0m\u001b[0;34m.\u001b[0m\u001b[0m_jwrite\u001b[0m\u001b[0;34m.\u001b[0m\u001b[0mparquet\u001b[0m\u001b[0;34m(\u001b[0m\u001b[0mpath\u001b[0m\u001b[0;34m)\u001b[0m\u001b[0;34m\u001b[0m\u001b[0;34m\u001b[0m\u001b[0m\n\u001b[0m\u001b[1;32m   1657\u001b[0m \u001b[0;34m\u001b[0m\u001b[0m\n\u001b[1;32m   1658\u001b[0m     def text(\n",
            "\u001b[0;32m/usr/local/lib/python3.10/dist-packages/py4j/java_gateway.py\u001b[0m in \u001b[0;36m__call__\u001b[0;34m(self, *args)\u001b[0m\n\u001b[1;32m   1320\u001b[0m \u001b[0;34m\u001b[0m\u001b[0m\n\u001b[1;32m   1321\u001b[0m         \u001b[0manswer\u001b[0m \u001b[0;34m=\u001b[0m \u001b[0mself\u001b[0m\u001b[0;34m.\u001b[0m\u001b[0mgateway_client\u001b[0m\u001b[0;34m.\u001b[0m\u001b[0msend_command\u001b[0m\u001b[0;34m(\u001b[0m\u001b[0mcommand\u001b[0m\u001b[0;34m)\u001b[0m\u001b[0;34m\u001b[0m\u001b[0;34m\u001b[0m\u001b[0m\n\u001b[0;32m-> 1322\u001b[0;31m         return_value = get_return_value(\n\u001b[0m\u001b[1;32m   1323\u001b[0m             answer, self.gateway_client, self.target_id, self.name)\n\u001b[1;32m   1324\u001b[0m \u001b[0;34m\u001b[0m\u001b[0m\n",
            "\u001b[0;32m/usr/local/lib/python3.10/dist-packages/pyspark/errors/exceptions/captured.py\u001b[0m in \u001b[0;36mdeco\u001b[0;34m(*a, **kw)\u001b[0m\n\u001b[1;32m    167\u001b[0m     \u001b[0;32mdef\u001b[0m \u001b[0mdeco\u001b[0m\u001b[0;34m(\u001b[0m\u001b[0;34m*\u001b[0m\u001b[0ma\u001b[0m\u001b[0;34m:\u001b[0m \u001b[0mAny\u001b[0m\u001b[0;34m,\u001b[0m \u001b[0;34m**\u001b[0m\u001b[0mkw\u001b[0m\u001b[0;34m:\u001b[0m \u001b[0mAny\u001b[0m\u001b[0;34m)\u001b[0m \u001b[0;34m->\u001b[0m \u001b[0mAny\u001b[0m\u001b[0;34m:\u001b[0m\u001b[0;34m\u001b[0m\u001b[0;34m\u001b[0m\u001b[0m\n\u001b[1;32m    168\u001b[0m         \u001b[0;32mtry\u001b[0m\u001b[0;34m:\u001b[0m\u001b[0;34m\u001b[0m\u001b[0;34m\u001b[0m\u001b[0m\n\u001b[0;32m--> 169\u001b[0;31m             \u001b[0;32mreturn\u001b[0m \u001b[0mf\u001b[0m\u001b[0;34m(\u001b[0m\u001b[0;34m*\u001b[0m\u001b[0ma\u001b[0m\u001b[0;34m,\u001b[0m \u001b[0;34m**\u001b[0m\u001b[0mkw\u001b[0m\u001b[0;34m)\u001b[0m\u001b[0;34m\u001b[0m\u001b[0;34m\u001b[0m\u001b[0m\n\u001b[0m\u001b[1;32m    170\u001b[0m         \u001b[0;32mexcept\u001b[0m \u001b[0mPy4JJavaError\u001b[0m \u001b[0;32mas\u001b[0m \u001b[0me\u001b[0m\u001b[0;34m:\u001b[0m\u001b[0;34m\u001b[0m\u001b[0;34m\u001b[0m\u001b[0m\n\u001b[1;32m    171\u001b[0m             \u001b[0mconverted\u001b[0m \u001b[0;34m=\u001b[0m \u001b[0mconvert_exception\u001b[0m\u001b[0;34m(\u001b[0m\u001b[0me\u001b[0m\u001b[0;34m.\u001b[0m\u001b[0mjava_exception\u001b[0m\u001b[0;34m)\u001b[0m\u001b[0;34m\u001b[0m\u001b[0;34m\u001b[0m\u001b[0m\n",
            "\u001b[0;32m/usr/local/lib/python3.10/dist-packages/py4j/protocol.py\u001b[0m in \u001b[0;36mget_return_value\u001b[0;34m(answer, gateway_client, target_id, name)\u001b[0m\n\u001b[1;32m    332\u001b[0m                     format(target_id, \".\", name, value))\n\u001b[1;32m    333\u001b[0m         \u001b[0;32melse\u001b[0m\u001b[0;34m:\u001b[0m\u001b[0;34m\u001b[0m\u001b[0;34m\u001b[0m\u001b[0m\n\u001b[0;32m--> 334\u001b[0;31m             raise Py4JError(\n\u001b[0m\u001b[1;32m    335\u001b[0m                 \u001b[0;34m\"An error occurred while calling {0}{1}{2}\"\u001b[0m\u001b[0;34m.\u001b[0m\u001b[0;34m\u001b[0m\u001b[0;34m\u001b[0m\u001b[0m\n\u001b[1;32m    336\u001b[0m                 format(target_id, \".\", name))\n",
            "\u001b[0;31mPy4JError\u001b[0m: An error occurred while calling o1062.parquet"
          ]
        }
      ]
    },
    {
      "cell_type": "code",
      "source": [
        "test_df.coalesce(1).write.mode('overwrite').parquet('test_data_w.parquet')"
      ],
      "metadata": {
        "id": "CGEzaQdiIwXV"
      },
      "execution_count": 52,
      "outputs": []
    },
    {
      "cell_type": "markdown",
      "metadata": {
        "id": "DGRnV9GJAslh"
      },
      "source": [
        "---\n",
        "## Verify data"
      ]
    },
    {
      "cell_type": "code",
      "execution_count": null,
      "metadata": {
        "id": "lEO6FUTeAwF9"
      },
      "outputs": [],
      "source": [
        "#tweets_embedded.printSchema()\n",
        "#tweets_embedded.show(10)\n",
        "\n",
        "#print(\"tot = \", tweets_embedded.count())"
      ]
    },
    {
      "cell_type": "markdown",
      "metadata": {
        "id": "ZpD2gArbjybC"
      },
      "source": [
        "# TODO\n",
        "* **Are useful tokens with len==1 ?**\n",
        "* **chek udf validity for month mapping**\n",
        "* **validation set?**"
      ]
    }
  ],
  "metadata": {
    "accelerator": "GPU",
    "colab": {
      "provenance": [],
      "collapsed_sections": [
        "uY_VvQBrKisT"
      ],
      "authorship_tag": "ABX9TyNnvwBCIGjVyRUpF3BktdN4",
      "include_colab_link": true
    },
    "kernelspec": {
      "display_name": "Python 3",
      "name": "python3"
    },
    "language_info": {
      "name": "python"
    }
  },
  "nbformat": 4,
  "nbformat_minor": 0
}