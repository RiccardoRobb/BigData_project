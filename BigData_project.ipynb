{
  "cells": [
    {
      "cell_type": "markdown",
      "metadata": {
        "id": "view-in-github",
        "colab_type": "text"
      },
      "source": [
        "<a href=\"https://colab.research.google.com/github/RiccardoRobb/BigData_project/blob/main/BigData_project.ipynb\" target=\"_parent\"><img src=\"https://colab.research.google.com/assets/colab-badge.svg\" alt=\"Open In Colab\"/></a>"
      ]
    },
    {
      "cell_type": "markdown",
      "metadata": {
        "id": "ydnT0-krmCTZ"
      },
      "source": [
        "# **Twitter sentiment analysis**\n",
        "### BigData 2023 project\n",
        "\n",
        "[@Author](https://github.com/RiccardoRobb): Riccardo Ruberto 1860609"
      ]
    },
    {
      "cell_type": "markdown",
      "metadata": {
        "id": "TaC0pFVy5ha-"
      },
      "source": [
        "---\n",
        "## **Inital configuration**\n",
        "### PySpark installation"
      ]
    },
    {
      "cell_type": "code",
      "execution_count": 1,
      "metadata": {
        "colab": {
          "base_uri": "https://localhost:8080/"
        },
        "id": "P9pfBiCD4wMp",
        "outputId": "4cc15099-3c55-40f5-a057-c5a3b237f69c"
      },
      "outputs": [
        {
          "output_type": "stream",
          "name": "stdout",
          "text": [
            "Looking in indexes: https://pypi.org/simple, https://us-python.pkg.dev/colab-wheels/public/simple/\n",
            "Collecting pyspark\n",
            "  Downloading pyspark-3.4.1.tar.gz (310.8 MB)\n",
            "\u001b[2K     \u001b[90m━━━━━━━━━━━━━━━━━━━━━━━━━━━━━━━━━━━━━━━\u001b[0m \u001b[32m310.8/310.8 MB\u001b[0m \u001b[31m2.4 MB/s\u001b[0m eta \u001b[36m0:00:00\u001b[0m\n",
            "\u001b[?25h  Preparing metadata (setup.py) ... \u001b[?25l\u001b[?25hdone\n",
            "Requirement already satisfied: py4j==0.10.9.7 in /usr/local/lib/python3.10/dist-packages (from pyspark) (0.10.9.7)\n",
            "Building wheels for collected packages: pyspark\n",
            "  Building wheel for pyspark (setup.py) ... \u001b[?25l\u001b[?25hdone\n",
            "  Created wheel for pyspark: filename=pyspark-3.4.1-py2.py3-none-any.whl size=311285398 sha256=72c4e961cc0c14f57828656104ed3628aac99577f3c5598e634ec99bfb574493\n",
            "  Stored in directory: /root/.cache/pip/wheels/0d/77/a3/ff2f74cc9ab41f8f594dabf0579c2a7c6de920d584206e0834\n",
            "Successfully built pyspark\n",
            "Installing collected packages: pyspark\n",
            "Successfully installed pyspark-3.4.1\n"
          ]
        }
      ],
      "source": [
        "! pip install pyspark"
      ]
    },
    {
      "cell_type": "markdown",
      "metadata": {
        "id": "r5rRWp3R5xKn"
      },
      "source": [
        "### Useful imports"
      ]
    },
    {
      "cell_type": "code",
      "execution_count": 2,
      "metadata": {
        "id": "DZyT2VD7ZMb6"
      },
      "outputs": [],
      "source": [
        "import pyspark\n",
        "from pyspark.sql import *\n",
        "from pyspark.sql.types import *\n",
        "from pyspark.sql.functions import *\n",
        "from pyspark import SparkContext, SparkConf\n",
        "\n",
        "import matplotlib.pyplot as plt\n",
        "import seaborn as sns\n",
        "%matplotlib inline"
      ]
    },
    {
      "cell_type": "markdown",
      "metadata": {
        "id": "sMZu4CcD51-e"
      },
      "source": [
        "### Spark configuration"
      ]
    },
    {
      "cell_type": "code",
      "execution_count": 3,
      "metadata": {
        "id": "Zc_wOE8Fl7aN"
      },
      "outputs": [],
      "source": [
        "# create the session\n",
        "conf = SparkConf().\\\n",
        "                set('spark.ui.port', \"8000\").\\\n",
        "                set('spark.executor.memory', '4G').\\\n",
        "                set('spark.driver.memory', '45G').\\\n",
        "                set('spark.driver.maxResultSize', '10G').\\\n",
        "                setAppName(\"Twitter sentiment analysis\").\\\n",
        "                setMaster(\"local[*]\")\n",
        "\n",
        "# create the context\n",
        "sc = pyspark.SparkContext(conf=conf)\n",
        "spark = SparkSession.builder.getOrCreate()"
      ]
    },
    {
      "cell_type": "markdown",
      "metadata": {
        "id": "VJSs9ejr58TM"
      },
      "source": [
        "### Check spark configurations"
      ]
    },
    {
      "cell_type": "code",
      "execution_count": 4,
      "metadata": {
        "id": "-rHsaeM75DvA",
        "colab": {
          "base_uri": "https://localhost:8080/",
          "height": 219
        },
        "outputId": "c027b7ae-8aa7-4c37-ccfd-42b16121de41"
      },
      "outputs": [
        {
          "output_type": "execute_result",
          "data": {
            "text/plain": [
              "<pyspark.sql.session.SparkSession at 0x7fd371e6c700>"
            ],
            "text/html": [
              "\n",
              "            <div>\n",
              "                <p><b>SparkSession - in-memory</b></p>\n",
              "                \n",
              "        <div>\n",
              "            <p><b>SparkContext</b></p>\n",
              "\n",
              "            <p><a href=\"http://6e271f981c6f:8000\">Spark UI</a></p>\n",
              "\n",
              "            <dl>\n",
              "              <dt>Version</dt>\n",
              "                <dd><code>v3.4.1</code></dd>\n",
              "              <dt>Master</dt>\n",
              "                <dd><code>local[*]</code></dd>\n",
              "              <dt>AppName</dt>\n",
              "                <dd><code>Twitter sentiment analysis</code></dd>\n",
              "            </dl>\n",
              "        </div>\n",
              "        \n",
              "            </div>\n",
              "        "
            ]
          },
          "metadata": {},
          "execution_count": 4
        }
      ],
      "source": [
        "spark"
      ]
    },
    {
      "cell_type": "code",
      "execution_count": 5,
      "metadata": {
        "id": "hTx8THde5L9T",
        "colab": {
          "base_uri": "https://localhost:8080/"
        },
        "outputId": "53f54c60-25cf-4a66-82b1-2fe963e468e3"
      },
      "outputs": [
        {
          "output_type": "execute_result",
          "data": {
            "text/plain": [
              "[('spark.driver.memory', '45G'),\n",
              " ('spark.driver.host', '6e271f981c6f'),\n",
              " ('spark.executor.id', 'driver'),\n",
              " ('spark.sql.warehouse.dir', 'file:/content/spark-warehouse'),\n",
              " ('spark.ui.port', '8000'),\n",
              " ('spark.app.submitTime', '1687613015921'),\n",
              " ('spark.driver.maxResultSize', '10G'),\n",
              " ('spark.app.id', 'local-1687613019747'),\n",
              " ('spark.driver.extraJavaOptions',\n",
              "  '-Djava.net.preferIPv6Addresses=false -XX:+IgnoreUnrecognizedVMOptions --add-opens=java.base/java.lang=ALL-UNNAMED --add-opens=java.base/java.lang.invoke=ALL-UNNAMED --add-opens=java.base/java.lang.reflect=ALL-UNNAMED --add-opens=java.base/java.io=ALL-UNNAMED --add-opens=java.base/java.net=ALL-UNNAMED --add-opens=java.base/java.nio=ALL-UNNAMED --add-opens=java.base/java.util=ALL-UNNAMED --add-opens=java.base/java.util.concurrent=ALL-UNNAMED --add-opens=java.base/java.util.concurrent.atomic=ALL-UNNAMED --add-opens=java.base/sun.nio.ch=ALL-UNNAMED --add-opens=java.base/sun.nio.cs=ALL-UNNAMED --add-opens=java.base/sun.security.action=ALL-UNNAMED --add-opens=java.base/sun.util.calendar=ALL-UNNAMED --add-opens=java.security.jgss/sun.security.krb5=ALL-UNNAMED -Djdk.reflect.useDirectMethodHandle=false'),\n",
              " ('spark.app.name', 'Twitter sentiment analysis'),\n",
              " ('spark.rdd.compress', 'True'),\n",
              " ('spark.serializer.objectStreamReset', '100'),\n",
              " ('spark.driver.port', '38227'),\n",
              " ('spark.master', 'local[*]'),\n",
              " ('spark.submit.pyFiles', ''),\n",
              " ('spark.submit.deployMode', 'client'),\n",
              " ('spark.executor.memory', '4G'),\n",
              " ('spark.ui.showConsoleProgress', 'true'),\n",
              " ('spark.app.startTime', '1687613016460'),\n",
              " ('spark.executor.extraJavaOptions',\n",
              "  '-Djava.net.preferIPv6Addresses=false -XX:+IgnoreUnrecognizedVMOptions --add-opens=java.base/java.lang=ALL-UNNAMED --add-opens=java.base/java.lang.invoke=ALL-UNNAMED --add-opens=java.base/java.lang.reflect=ALL-UNNAMED --add-opens=java.base/java.io=ALL-UNNAMED --add-opens=java.base/java.net=ALL-UNNAMED --add-opens=java.base/java.nio=ALL-UNNAMED --add-opens=java.base/java.util=ALL-UNNAMED --add-opens=java.base/java.util.concurrent=ALL-UNNAMED --add-opens=java.base/java.util.concurrent.atomic=ALL-UNNAMED --add-opens=java.base/sun.nio.ch=ALL-UNNAMED --add-opens=java.base/sun.nio.cs=ALL-UNNAMED --add-opens=java.base/sun.security.action=ALL-UNNAMED --add-opens=java.base/sun.util.calendar=ALL-UNNAMED --add-opens=java.security.jgss/sun.security.krb5=ALL-UNNAMED -Djdk.reflect.useDirectMethodHandle=false')]"
            ]
          },
          "metadata": {},
          "execution_count": 5
        }
      ],
      "source": [
        "sc._conf.getAll()"
      ]
    },
    {
      "cell_type": "markdown",
      "metadata": {
        "id": "qrHRiI0C-jDI"
      },
      "source": [
        "---\n",
        "## Load dataset [***Sentiment140***]\n",
        "### Download dataset"
      ]
    },
    {
      "cell_type": "code",
      "execution_count": 6,
      "metadata": {
        "id": "zayTBDQL98iG",
        "colab": {
          "base_uri": "https://localhost:8080/"
        },
        "outputId": "3dd252eb-147c-4d98-cd2d-e22daca0965a"
      },
      "outputs": [
        {
          "output_type": "stream",
          "name": "stdout",
          "text": [
            "--2023-06-24 13:23:43--  https://raw.githubusercontent.com/RiccardoRobb/BigData_project/main/Sentiment140.zip\n",
            "Resolving raw.githubusercontent.com (raw.githubusercontent.com)... 185.199.108.133, 185.199.109.133, 185.199.110.133, ...\n",
            "Connecting to raw.githubusercontent.com (raw.githubusercontent.com)|185.199.108.133|:443... connected.\n",
            "HTTP request sent, awaiting response... 200 OK\n",
            "Length: 84855679 (81M) [application/zip]\n",
            "Saving to: ‘Sentiment140.zip’\n",
            "\n",
            "Sentiment140.zip    100%[===================>]  80.92M   153MB/s    in 0.5s    \n",
            "\n",
            "2023-06-24 13:23:44 (153 MB/s) - ‘Sentiment140.zip’ saved [84855679/84855679]\n",
            "\n",
            "Archive:  ./Sentiment140.zip\n",
            "  inflating: training.1600000.processed.noemoticon.csv  \n"
          ]
        }
      ],
      "source": [
        "! wget https://raw.githubusercontent.com/RiccardoRobb/BigData_project/main/Sentiment140.zip\n",
        "\n",
        "! unzip \"./*.zip\" && rm *.zip\n",
        "! mv training.1600000.processed.noemoticon.csv train140.csv"
      ]
    },
    {
      "cell_type": "markdown",
      "metadata": {
        "id": "hAbLzmUGXNu_"
      },
      "source": [
        "### Create data frame [***Sentiment140***]\n",
        "1600000 tweets"
      ]
    },
    {
      "cell_type": "code",
      "execution_count": 7,
      "metadata": {
        "id": "e7UAiEc-_GEv"
      },
      "outputs": [],
      "source": [
        "schema = StructType([ \\\n",
        "    StructField(\"target\",IntegerType(),True), \\\n",
        "    StructField(\"id\",LongType(),True), \\\n",
        "    StructField(\"full_date\",StringType(),True), \\\n",
        "    StructField(\"flag\", StringType(), True), \\\n",
        "    StructField(\"user\", StringType(), True), \\\n",
        "    StructField(\"text\", StringType(), True) \\\n",
        "  ])\n",
        "\n",
        "df = spark.read.csv('./train140.csv', schema=schema, header=\"false\")"
      ]
    },
    {
      "cell_type": "markdown",
      "metadata": {
        "id": "NUGsEwMyXR9d"
      },
      "source": [
        "---\n",
        "## **Inital cleaning**\n",
        "### Removal of unnecessary columns"
      ]
    },
    {
      "cell_type": "code",
      "execution_count": 8,
      "metadata": {
        "id": "jfTVRLBRXTDx",
        "colab": {
          "base_uri": "https://localhost:8080/"
        },
        "outputId": "e11cc13c-19d7-4dd1-a539-81bfe8a4bf63"
      },
      "outputs": [
        {
          "output_type": "stream",
          "name": "stdout",
          "text": [
            "1\n"
          ]
        }
      ],
      "source": [
        "# sentiment of the tweet is not affected by the \"user\"\n",
        "df = df.drop(\"user\")\n",
        "\n",
        "# verify \"flag\" utility\n",
        "print(df.select(countDistinct(\"flag\")).collect()[0][0])\n",
        "\n",
        "# \"flag\" has only one value == NO_QUERY, so I delete it\n",
        "df = df.drop(\"flag\")"
      ]
    },
    {
      "cell_type": "markdown",
      "metadata": {
        "id": "efsWAcIVXjxt"
      },
      "source": [
        "### From ***date*** to ***day_name***; ***hour***; ***date***"
      ]
    },
    {
      "cell_type": "code",
      "execution_count": 9,
      "metadata": {
        "id": "CnXFsS1rXsjI"
      },
      "outputs": [],
      "source": [
        "months_map = {\"Jan\": \"01\", \"Feb\": \"02\", \"Mar\": \"03\", \"Apr\": \"04\", \"May\": \"05\", \"Jun\": \"06\", \"Jul\": \"07\", \"Aug\": \"08\", \"Sep\": \"09\", \"Oct\": \"10\", \"Nov\": \"11\", \"Dec\": \"12\"}\n",
        "\n",
        "convert_date_udf = udf(lambda month_name : months_map[month_name], StringType())"
      ]
    },
    {
      "cell_type": "markdown",
      "metadata": {
        "id": "kUg1WK_Ml0Au"
      },
      "source": [
        "### From **hour:min:mill** to int **hour**"
      ]
    },
    {
      "cell_type": "code",
      "execution_count": 10,
      "metadata": {
        "id": "QrCqebf9l9uP"
      },
      "outputs": [],
      "source": [
        "convert_hour_udf = udf(lambda time: int(time[:2]), IntegerType())"
      ]
    },
    {
      "cell_type": "code",
      "execution_count": 11,
      "metadata": {
        "id": "FcXyz4aKg_ul"
      },
      "outputs": [],
      "source": [
        "split_col = pyspark.sql.functions.split(df['full_date'], ' ')\n",
        "\n",
        "df = df.withColumn(\"day_name\", split_col.getItem(0)) \\\n",
        "      .withColumn(\"hour\", convert_hour_udf(split_col.getItem(3))) \\\n",
        "      .withColumn(\"date\", to_date( concat_ws(\"-\", split_col.getItem(2), convert_date_udf(split_col.getItem(1)), split_col.getItem(5)), \"dd-MM-yyyy\"))\n",
        "\n",
        "df = df.drop(\"full_date\")"
      ]
    },
    {
      "cell_type": "markdown",
      "metadata": {
        "id": "6CyYJJi59XKs"
      },
      "source": [
        "---\n",
        "## **Data analysis**\n",
        "### ***target*** values analisys"
      ]
    },
    {
      "cell_type": "code",
      "execution_count": 12,
      "metadata": {
        "id": "b1JWoNnM9k4k"
      },
      "outputs": [],
      "source": [
        "#df.select(\"target\").distinct().show()\n",
        "# \"target\" value is or 0 or 4"
      ]
    },
    {
      "cell_type": "code",
      "execution_count": 13,
      "metadata": {
        "id": "ehZD6TQNAH6H",
        "colab": {
          "base_uri": "https://localhost:8080/"
        },
        "outputId": "4153ec92-bbb5-49ea-b46a-bb689258c00b"
      },
      "outputs": [
        {
          "output_type": "stream",
          "name": "stdout",
          "text": [
            "Sad tweets =  800000\n",
            "Happy tweets =  800000\n"
          ]
        }
      ],
      "source": [
        "sad_tweets = df.filter(col(\"target\") == 0)\n",
        "happy_tweets = df.filter(col(\"target\") == 4)\n",
        "\n",
        "print(\"Sad tweets = \", sad_tweets.count())\n",
        "print(\"Happy tweets = \", happy_tweets.count())"
      ]
    },
    {
      "cell_type": "markdown",
      "metadata": {
        "id": "_n13xetpApkt"
      },
      "source": [
        "Sad tweets and happy tweets are balanced."
      ]
    },
    {
      "cell_type": "markdown",
      "metadata": {
        "id": "zW2CBtpkBIGM"
      },
      "source": [
        "### Time frame of interest"
      ]
    },
    {
      "cell_type": "code",
      "execution_count": 14,
      "metadata": {
        "id": "fNQmo6WsBQDD",
        "colab": {
          "base_uri": "https://localhost:8080/"
        },
        "outputId": "7323a066-ada2-4906-bd87-736031a1cdf2"
      },
      "outputs": [
        {
          "output_type": "stream",
          "name": "stdout",
          "text": [
            "Min date =  2009-04-06\n",
            "Max date =  2009-06-25\n"
          ]
        }
      ],
      "source": [
        "print(\"Min date = \", df.select(min(df.date)).collect()[0][0])\n",
        "print(\"Max date = \", df.select(max(df.date)).collect()[0][0])"
      ]
    },
    {
      "cell_type": "markdown",
      "metadata": {
        "id": "5PXQSmfOCezG"
      },
      "source": [
        "The time frame used is too small, datas were collected in 2 months. \\\\\n",
        "*Using data column will be useful only if we try to predict tweets written during the [2009-04-06, 2009-06-25] period.*\n",
        "\n",
        "### Better to delete the ***date*** column"
      ]
    },
    {
      "cell_type": "code",
      "execution_count": 15,
      "metadata": {
        "id": "gwpxRRdnDZrI"
      },
      "outputs": [],
      "source": [
        "df = df.drop(\"date\")"
      ]
    },
    {
      "cell_type": "markdown",
      "metadata": {
        "id": "DAE60S3iFRpF"
      },
      "source": [
        "---\n",
        "## **Data processing**\n",
        "### Case normalization"
      ]
    },
    {
      "cell_type": "code",
      "execution_count": 16,
      "metadata": {
        "id": "qSNd63XFTdlK"
      },
      "outputs": [],
      "source": [
        "# used for all columns to see if null values are present\n",
        "# df.filter(col(\"text\").isNull()).show()\n",
        "\n",
        "df = df.withColumn(\"text\", lower(col(\"text\")))"
      ]
    },
    {
      "cell_type": "markdown",
      "metadata": {
        "id": "qJSbjy6kTQEV"
      },
      "source": [
        "### Username and links removal"
      ]
    },
    {
      "cell_type": "code",
      "execution_count": 17,
      "metadata": {
        "id": "gSkQ5dCkGDJX"
      },
      "outputs": [],
      "source": [
        "import re\n",
        "\n",
        "# twitter ids can contain alphanumeric and '_' characters\n",
        "username_regex = r\"@[A-Za-z0-9_]+\"\n",
        "\n",
        "# http:// / https:// links\n",
        "link_regex1 = r\"https?://[^ ]+\"\n",
        "\n",
        "# www. links\n",
        "link_regex2 = r\"www.[^ ]+\"\n",
        "\n",
        "\n",
        "master_regex = r\"|\".join((username_regex, link_regex1, link_regex2))\n",
        "\n",
        "df = df.withColumn(\"text\", regexp_replace(df.text, master_regex, \"\"))"
      ]
    },
    {
      "cell_type": "markdown",
      "metadata": {
        "id": "tQNB7bpRaxIG"
      },
      "source": [
        "### Filter out punctual symbols"
      ]
    },
    {
      "cell_type": "code",
      "execution_count": 18,
      "metadata": {
        "id": "6ILeqT4Ha22N"
      },
      "outputs": [],
      "source": [
        "df = df.withColumn(\"text\", regexp_replace(df.text, \"[^a-zA-Z\\s]\", \"\"))"
      ]
    },
    {
      "cell_type": "markdown",
      "metadata": {
        "id": "bwH-VfJXU71D"
      },
      "source": [
        "### Trimming"
      ]
    },
    {
      "cell_type": "code",
      "execution_count": 19,
      "metadata": {
        "id": "NSeeMi1QU-nN"
      },
      "outputs": [],
      "source": [
        "df = df.withColumn(\"text\", trim(col(\"text\")))\n",
        "\n",
        "# extra whitespaces\n",
        "df = df.withColumn(\"text\", trim(regexp_replace(df.text, \" +\", \" \")))"
      ]
    },
    {
      "cell_type": "markdown",
      "metadata": {
        "id": "We8YznuapL3U"
      },
      "source": [
        "### Tokenization"
      ]
    },
    {
      "cell_type": "code",
      "execution_count": 20,
      "metadata": {
        "id": "0p6KKbDhpOAF"
      },
      "outputs": [],
      "source": [
        "from pyspark.ml.feature import Tokenizer\n",
        "\n",
        "tokenizer = Tokenizer(inputCol = \"text\", outputCol = \"tokens\")\n",
        "tokens_df = tokenizer.transform(df)"
      ]
    },
    {
      "cell_type": "markdown",
      "metadata": {
        "id": "UOQCWCA3qo0h"
      },
      "source": [
        "### Stopwords removal"
      ]
    },
    {
      "cell_type": "code",
      "execution_count": 21,
      "metadata": {
        "id": "rnulIkVIqrtl"
      },
      "outputs": [],
      "source": [
        "from pyspark.ml.feature import StopWordsRemover\n",
        "\n",
        "stopwords_remover = StopWordsRemover(inputCol = \"tokens\", outputCol = \"terms\")\n",
        "terms_df = stopwords_remover.transform(tokens_df)"
      ]
    },
    {
      "cell_type": "markdown",
      "metadata": {
        "id": "e7fcc-7xrMB1"
      },
      "source": [
        "### Stemming"
      ]
    },
    {
      "cell_type": "code",
      "execution_count": 22,
      "metadata": {
        "id": "VOGvpgdirOOs"
      },
      "outputs": [],
      "source": [
        "from nltk.stem.snowball import SnowballStemmer\n",
        "\n",
        "stemmer = SnowballStemmer(language = \"english\")\n",
        "stemmer_udf = udf(lambda tokens: [stemmer.stem(token) for token in tokens], ArrayType(StringType()))\n",
        "\n",
        "\n",
        "tweets_df = terms_df.withColumn(\"terms_stemmed\", stemmer_udf(\"terms\"))"
      ]
    },
    {
      "cell_type": "markdown",
      "metadata": {
        "id": "vLK2YpWdsiaH"
      },
      "source": [
        "### Removal of unnecessary columns"
      ]
    },
    {
      "cell_type": "code",
      "execution_count": 23,
      "metadata": {
        "id": "RUk2wyD9soOX"
      },
      "outputs": [],
      "source": [
        "tweets_df = tweets_df.drop(\"id\", \"text\", \"tokens\", \"terms\")\n",
        "\n",
        "#tweets_df.show(7, truncate = False)"
      ]
    },
    {
      "cell_type": "markdown",
      "metadata": {
        "id": "5L6ju2yHRESq"
      },
      "source": [
        "---\n",
        "## **Additional cleaning**"
      ]
    },
    {
      "cell_type": "code",
      "execution_count": 24,
      "metadata": {
        "id": "HJJpggTkRT05",
        "colab": {
          "base_uri": "https://localhost:8080/"
        },
        "outputId": "4be5a157-d5c7-46ce-89bb-f982f33bb364"
      },
      "outputs": [
        {
          "output_type": "stream",
          "name": "stdout",
          "text": [
            "Sad tweets =  774763\n",
            "Happy tweets =  767489\n"
          ]
        }
      ],
      "source": [
        "tweets_df.cache()\n",
        "\n",
        "tweets_df = tweets_df.filter(size(tweets_df.terms_stemmed) > 1)\n",
        "\n",
        "sad_tweets = tweets_df.filter(tweets_df.target == 0)\n",
        "happy_tweets = tweets_df.filter(tweets_df.target == 4)\n",
        "\n",
        "sad_tweets_count = sad_tweets.count()\n",
        "happy_tweets_count = happy_tweets.count()\n",
        "\n",
        "print(\"Sad tweets = \", sad_tweets_count)\n",
        "print(\"Happy tweets = \", happy_tweets_count)"
      ]
    },
    {
      "cell_type": "markdown",
      "metadata": {
        "id": "P5zA3f9HRXH0"
      },
      "source": [
        "### After the cleaning Sad and Happy tweets are ***unbalanced***"
      ]
    },
    {
      "cell_type": "code",
      "execution_count": 25,
      "metadata": {
        "id": "IYTHKIqCRgLK",
        "colab": {
          "base_uri": "https://localhost:8080/",
          "height": 430
        },
        "outputId": "c94280c2-bd11-4608-cee3-91c45a933c09"
      },
      "outputs": [
        {
          "output_type": "display_data",
          "data": {
            "text/plain": [
              "<Figure size 640x480 with 1 Axes>"
            ],
            "image/png": "[encoded data removed]"
          },
          "metadata": {}
        }
      ],
      "source": [
        "(figure_, axes_) = plt.subplots()\n",
        "\n",
        "y = [sad_tweets_count, happy_tweets_count]\n",
        "axes_.set_ylabel(\"Number of tweets\")\n",
        "\n",
        "x = [\"Sad tweets\", \"Happy tweets\"]\n",
        "\n",
        "axes_.bar(x, y, color = [\"red\", \"green\"])\n",
        "plt.show()"
      ]
    },
    {
      "cell_type": "markdown",
      "metadata": {
        "id": "uBY026hPgd3h"
      },
      "source": [
        "### Balancing dataframes"
      ]
    },
    {
      "cell_type": "code",
      "execution_count": 26,
      "metadata": {
        "id": "xJygEfWNgmxU"
      },
      "outputs": [],
      "source": [
        "sad_tweets = sad_tweets.select(\"*\").orderBy(rand())\n",
        "sad_tweets = sad_tweets.limit(happy_tweets_count)\n",
        "\n",
        "tweets_df = sad_tweets.union(happy_tweets)"
      ]
    },
    {
      "cell_type": "markdown",
      "metadata": {
        "id": "uY_VvQBrKisT"
      },
      "source": [
        "---\n",
        "## **Word Vector representation**"
      ]
    },
    {
      "cell_type": "markdown",
      "metadata": {
        "id": "g5x_pMftKtt2"
      },
      "source": [
        "### Load **GloVe** embeddings"
      ]
    },
    {
      "cell_type": "code",
      "execution_count": 27,
      "metadata": {
        "id": "NnmMF2HMNcTc",
        "colab": {
          "base_uri": "https://localhost:8080/"
        },
        "outputId": "c5a990c1-dbb1-4d46-e938-488abca5ef34"
      },
      "outputs": [
        {
          "output_type": "stream",
          "name": "stdout",
          "text": [
            "[==================================================] 100.0% 387.1/387.1MB downloaded\n"
          ]
        }
      ],
      "source": [
        "import gensim.downloader as api\n",
        "\n",
        "embeddings = 100\n",
        "word2vector = None\n",
        "\n",
        "if word2vector == None:\n",
        "  word2vector = api.load(\"glove-twitter-\" + str(embeddings))"
      ]
    },
    {
      "cell_type": "markdown",
      "metadata": {
        "id": "T3epcP4Vc48E"
      },
      "source": [
        "### Mapping tokens - embeddings"
      ]
    },
    {
      "cell_type": "code",
      "execution_count": 28,
      "metadata": {
        "id": "QssWZt9MSB2C",
        "colab": {
          "base_uri": "https://localhost:8080/"
        },
        "outputId": "944dfc9b-491a-419f-9c1c-b9b48fbf6440"
      },
      "outputs": [
        {
          "output_type": "stream",
          "name": "stdout",
          "text": [
            "root\n",
            " |-- target: integer (nullable = true)\n",
            " |-- day_name: string (nullable = true)\n",
            " |-- hour: integer (nullable = true)\n",
            " |-- terms_stemmed: array (nullable = true)\n",
            " |    |-- element: string (containsNull = true)\n",
            " |-- tweet_embeddings: string (nullable = true)\n",
            "\n",
            "+------+--------+----+---------------------------------------------------------------+----------------------------------------------------------------------------------------------------------------------------------------------------------------------------------------------------------------------------------------------------------------------------------------------------------------------------------------------------------------------------------------------------------------------------------------------------------------------------------------------------------------------------------------------------------------------------------------------------------------------------------------------------------------------------------------------------------------------------------------------------------------------------------------------------------------------------------------------------------------------------------------------------------------------------------------------------------------------------------------------------------------------------------------------------------------------------------------------------------------------------------------------------------------------------------------------------------------------------------------------------------------------------------------------------------------------------------------------------------------------------------------------------------------------------------------------------------------------------------------------------------------------------------------------------------------------------------------------------------------------------------------------------------------------------------------------------------------------------------------------------------------------------------------------------------------------------------------------------------------------------------------------------------------------------------------------------------------------------------------------------------------------------------------------------------------------------------------------------------------------------------------------------------------------------------------------------------------------------------------+\n",
            "|target|day_name|hour|terms_stemmed                                                  |tweet_embeddings                                                                                                                                                                                                                                                                                                                                                                                                                                                                                                                                                                                                                                                                                                                                                                                                                                                                                                                                                                                                                                                                                                                                                                                                                                                                                                                                                                                                                                                                                                                                                                                                                                                                                                                                                                                                                                                                                                                                                                                                                                                                                                                                                                                                                        |\n",
            "+------+--------+----+---------------------------------------------------------------+----------------------------------------------------------------------------------------------------------------------------------------------------------------------------------------------------------------------------------------------------------------------------------------------------------------------------------------------------------------------------------------------------------------------------------------------------------------------------------------------------------------------------------------------------------------------------------------------------------------------------------------------------------------------------------------------------------------------------------------------------------------------------------------------------------------------------------------------------------------------------------------------------------------------------------------------------------------------------------------------------------------------------------------------------------------------------------------------------------------------------------------------------------------------------------------------------------------------------------------------------------------------------------------------------------------------------------------------------------------------------------------------------------------------------------------------------------------------------------------------------------------------------------------------------------------------------------------------------------------------------------------------------------------------------------------------------------------------------------------------------------------------------------------------------------------------------------------------------------------------------------------------------------------------------------------------------------------------------------------------------------------------------------------------------------------------------------------------------------------------------------------------------------------------------------------------------------------------------------------+\n",
            "|0     |Wed     |3   |[paul, unsatisfi, microwav, meal]                              |[0.22742249071598053, 0.07457000017166138, 0.19883224368095398, -0.2816625013947487, -0.054895248264074326, -0.08846499770879745, 0.03170549985952675, 0.2830200046300888, -0.05142500251531601, -0.006299994885921478, -0.1184450089931488, -0.13206499814987183, -1.3574999570846558, 0.04580000042915344, -0.12669998407363892, 0.28876500576734543, 0.0940537279821001, -0.1281887535005808, -0.17228124663233757, 0.14250625763088465, 0.06818724982440472, -0.07269000262022018, 0.006004996597766876, -0.08396749943494797, 0.13581250235438347, -0.11933749914169312, 0.08305449970066547, -0.17427000403404236, -0.0023192493245005608, -0.14276075409725308, 0.028002500534057617, -0.008842498064041138, -0.4162199944257736, -0.03285349952057004, -0.09196750074625015, 0.20702999271452427, 0.0915095005184412, -0.12208999693393707, -0.020537499338388443, -0.04988250136375427, -6.324984133243561E-4, -0.010896999388933182, -0.08918000757694244, 0.2363324984908104, 0.10973750799894333, -0.06840700004249811, -0.04965469898888841, 0.05068749189376831, 0.05483749508857727, -0.08730249851942062, -0.15161249786615372, -0.07712800055742264, -0.19808750599622726, 0.13904499635100365, -0.21194450557231903, 0.048920005559921265, 0.28048500418663025, -0.0061350017786026, 0.01352124847471714, -0.2099873767583631, 0.15891749784350395, -0.07086750119924545, 0.08628999814391136, 0.09575751423835754, 0.30275750160217285, -0.22219237580429763, 0.2219875007867813, -0.0890247521456331, -0.03977289912290871, 0.06457400321960449, 0.061202503740787506, -0.24203500151634216, 0.4292599931359291, 0.29800499230623245, 0.22761349473148584, -0.13951750099658966, -0.13741250336170197, -0.12953750044107437, 0.14066000655293465, 0.27154750004410744, 0.820000022649765, 0.21205000579357147, 0.02310250699520111, 0.0015524998307228088, -0.20545748993754387, 0.07097025029361248, 0.09287575073540211, -0.06983725167810917, -0.05065250024199486, 0.24663500674068928, -0.007341248914599419, -0.3444399870932102, -0.0801522508263588, 0.016497325123054907, 0.048285000026226044, 0.28871750831604004, -0.03657499700784683, 0.23433500155806541, -0.12967000156641006, -0.06710100040072575]|\n",
            "|0     |Mon     |16  |[big, stack, tool, card]                                       |[-0.14486999437212944, -0.10353500209748745, 0.0842565018683672, -0.062489249277859926, 0.20078500360250473, -0.21135499700903893, 0.19516000524163246, -0.19561250507831573, -0.07608950324356556, -0.15873225033283234, -0.06621499732136726, 0.4436025023460388, -3.1094250082969666, 0.2018234943971038, 0.032464995980262756, -0.015707507729530334, -0.0327257476747036, 0.1213349997997284, 0.057729993015527725, -0.17765171721111983, -0.47284501045942307, 0.2886025011539459, 0.23098350502550602, 0.3596385046839714, -0.344392504543066, 0.061252493411302567, 0.07431399822235107, 0.5097399763762951, 0.28163957525976, -0.18930751085281372, 0.008943424792960286, 0.08695474453270435, 0.09754850715398788, -0.20765250362455845, 0.7541724964976311, 0.326449254527688, 0.29130374640226364, 0.1831222465261817, -0.1365475058555603, 0.10768375033512712, -0.24700749665498734, 0.12234924547374249, -0.5546175092458725, 0.24496500752866268, 0.16969575500115752, -0.31752249598503113, -0.183289997279644, 0.15655500069260597, 0.3292930063325912, 0.3183957589790225, 0.12109499797224998, -0.1695449948310852, -0.5588950142264366, 0.07553250156342983, 0.006595000624656677, 0.19624224212020636, 0.053060574224218726, 0.06723249331116676, -0.5502672595903277, -0.25260069966316223, -0.05126749351620674, -0.14454925246536732, 0.2130810022354126, 0.5441850051283836, 0.3245877455919981, -0.3750437442213297, 0.19222750142216682, 0.20459550339728594, 0.03674999938812107, -0.40108999982476234, -0.3851114884018898, -0.495653735473752, -0.1656692512333393, 0.1641605030745268, -0.2280272487550974, -0.11412749998271465, 0.12127124518156052, -0.1060592494904995, -0.08006750047206879, -0.02492569270543754, 1.5907500386238098, 0.4236467471346259, -0.3372447448782623, -0.3653374910354614, -0.074668999761343, 0.1204912313260138, -0.0688559990376234, -0.07112100441008806, 0.13393472495954484, 0.02497024741023779, -0.25116400234401226, 0.08413100522011518, -0.092181998770684, -0.48650500550866127, 0.7295575141906738, 0.11492249369621277, -0.2597375027835369, 0.06006874516606331, -0.15803050575777888, -0.3364177495241165]                                               |\n",
            "|0     |Tue     |3   |[dont, miss, dont, miss, dont, miss, miss]                     |[-0.12388657246317182, 0.3540014198848179, 0.0772442924124854, 0.2098965687411172, -0.5385000152247292, 0.03139572058405195, 0.7302057061876569, 0.23392856333936965, 0.047088563442230225, 0.7497143064226423, 0.02003085506813867, -0.2665685585566929, -4.325500011444092, -0.0758071414061955, 0.08697858027049474, 0.09481599501201085, -0.148376002907753, -0.18388757216078894, -0.6882488796753543, 0.30470413182462963, 0.13980143197945186, -0.3512814406837736, -0.47784858516284395, 0.1702742874622345, 0.22264142228024347, -0.8531285907541003, 0.11919714084693364, -0.22084000068051474, -0.31382284845624653, -0.7808214383465903, -0.15270533159907376, -0.40547429238046917, -0.36047856722559246, 0.17884629113333567, -0.15145428691591536, 0.3402457045657294, 0.27248142446790424, -0.025991430240018026, 0.8975171531949725, 0.5664099880627224, -0.8827514222690037, 0.26955457244600567, 0.45007000650678364, 0.41878716009003775, -0.2828685790300369, 0.2842642792633602, 0.48001571212496075, -0.842864283493587, 0.24227142546858108, 0.10804700212819236, 0.026447671498837217, 0.14410144090652466, 0.45921570488384794, -0.08926142858607429, 0.6500285821301597, 0.06953171507588454, -0.8018871205193656, 0.05306429096630642, -0.03590599979673113, -0.1484128556081227, -0.1066177168062755, 0.0036014275891440256, -0.1043385820729392, -0.23769001449857438, -0.04368571298463004, -0.05148856980460031, -0.6496785708836147, 0.2010700021471296, -0.17060000555855886, 0.4615885785647801, 0.0054299916539873394, 0.3051082832472665, 0.041189427354506085, -0.430435700075967, -0.2804079907281058, -0.11202405951917171, 0.2655842900276184, 0.04610999992915562, 0.12879585581166403, 0.31403999243463787, 1.0974043096814836, -0.21695857175758906, -0.27146572300365995, -0.4537257126399449, 0.16000314695494516, 0.4488185814448765, 0.15932285572801316, 0.03598142521721976, 0.19056714272924832, 0.15103857219219208, -0.10196571690695626, 0.24226429206984385, -0.00933714210987091, 0.2137512873326029, 0.0475869124223079, -0.06399571469851903, -0.33878713846206665, 0.10889100043901376, 0.07499000430107117, 0.05557914184672492]                                            |\n",
            "|0     |Mon     |6   |[gonna, shut, pc, nao, back, tomorrow, aww, last, week, summer]|[0.04226929694414139, 0.013987193815410137, 0.15889100432395936, -0.18346832988318057, -0.05379070155322552, 0.046667598839849236, 0.3504326019436121, 0.29395399391651156, -0.03561668610200286, 0.13161770217120647, -0.26613699793815615, 0.13392799980938436, -3.7655200004577636, 8.977286983281374E-4, -0.1913080058991909, -0.1865244023501873, -0.2813288033008575, 0.1733848974108696, -0.6265690013766289, -0.3188380022533238, -0.26393920481204985, -0.0615987503901124, 0.13409899771213532, 0.04824524209834635, 0.07123110108077527, -0.7698021024465561, 0.054073899239301684, -0.33363723047077654, 0.08901199838146567, -0.16701799631118774, -0.2674451917409897, 0.15694320499897002, -0.2556110007688403, -0.057511898875236514, -0.23879749663174152, 0.2334360033273697, 0.17432249560952187, -0.054575104638934134, 0.06809240952134132, 0.0942080982029438, -1.019059982895851, -0.014501303434371948, 0.14764480385929346, -0.005580615543294698, -0.0010406063869595529, -0.05705945612862706, 0.04948459658771753, -0.15587989725172519, 0.00888809859752655, 0.3182140052318573, -0.15961549952626228, -0.02200797162950039, 0.2359871419146657, -0.006576091051101685, 0.16019540168344976, -0.12946419976651669, -0.06222639828920364, 0.2724657976999879, 0.09238100051879883, -0.08541210051625966, 0.0644097976386547, -0.15997290071099995, 0.18776960298419, -0.09192169830203056, -0.03579969452694058, -0.2655913919676095, -0.14187269881367684, -0.10729789594188333, 0.16421089321374893, -0.1521880052983761, 0.2169709000736475, 0.2539833596907556, 0.26331000253558157, 0.2184252593666315, -0.12684279382228852, 0.17398319765925407, -0.05280969049781561, 0.11734970323741437, 0.022241400182247163, 0.11288030333817005, 1.4678360283374787, -0.15095553123392164, -0.0010689008980989457, -0.10570429181680083, 0.4584990169852972, 0.13556879833340646, 0.027183894230984152, 0.11017939634621143, 0.2787433797493577, -0.2006823031231761, -0.3001516029238701, 0.09195799529552459, 0.1654716975055635, -0.16057779835537075, -0.1204941441770643, -0.19824929535388947, -0.015114700794219971, 0.2737269061617553, 0.053527099639177324, -0.05491279661655426]                    |\n",
            "|0     |Wed     |10  |[still, dont, like, im, pray, peopl, dont, kill, cudi]         |[-0.22063222693072426, 0.3439986596090926, -0.20742333266470167, 0.22169788637095028, -0.21391533811887106, 0.2842474470121993, 0.28990621947579914, 0.2235406678583887, 0.13787221991353565, 0.5225333472092947, -0.05596222480138143, -0.19035910235510933, -4.110511130756802, 0.21755444672372606, -0.0505855530500412, -0.05766884010841346, 0.043114774860441685, 0.014899108972814348, -0.07877533386150996, -0.05496484041213989, -0.16469977464940813, -0.013529779182540046, -0.2448355538977517, -0.04573911055922508, 0.2643206978423728, -0.006620554460419549, -0.1187468891342481, 0.14667689386341307, -0.20129377922664085, -0.213851112458441, -0.04341257280773587, -0.5435256775882509, -0.07025695268789099, 0.04613888594839308, -0.4272476680990722, 0.06402733135554525, -0.2336925555848413, -0.08090522305832969, 0.2314074511329333, 0.07446643917096986, -0.4310299919711219, 0.13007189085086188, 0.13490735703251427, -0.19570237467996776, -0.028540007770061493, -0.19450577617519432, 0.3615903357664744, -0.3283122181892395, -0.14356622037788233, 0.11816621820131938, -0.21658812923770812, 0.13884522434737948, 0.3299253301488029, 0.00604444079928928, 0.13201888899008432, -0.14200344598955578, -0.6516576636996534, 0.15210777686701882, 0.27767111526595223, -0.029766778979036543, -0.09092222071356243, 0.11776833029256926, 0.10062643678651916, 0.0918200011882517, -0.16046922581477296, -0.39335860643121934, -0.21602845191955566, 0.3494548148786028, -0.18680777814653185, 0.22917222645547655, -0.18992333445284101, 0.35805222888787586, 0.2026201109919283, -0.13395889186196858, 0.007509720796305273, -0.11226555539502038, 0.06307544476456112, 0.06847777631547716, -0.07919178158044815, 0.12632200825545523, 0.9696749018298255, 0.16007522286640274, -0.3520977836516168, -0.239769556456142, 0.1158263910199619, -0.0770593351787991, -0.18304922017786238, -0.10301300427979893, -0.11573286778810951, 0.009599891387754016, -0.002719438738293118, 0.030565881894694433, 0.08181900117132399, 0.17636826386054358, -0.17592626541025108, 0.16622133180499077, -0.27749377944403225, 0.22858977690339088, 0.5611018985509872, 0.004225226947002941]                    |\n",
            "|0     |Sat     |16  |[stop, make, fun, tri]                                         |[-0.27221525739878416, -0.04690250754356384, 0.21564248949289322, 0.0010249949991703033, 0.07683499529957771, 0.11239250004291534, 0.48701750487089157, 0.07596024335362017, 0.29399274475872517, 0.19821249693632126, -0.1746549978852272, -0.35520750284194946, -3.66580006480217, 0.029315500520169735, -0.060192499309778214, -0.24521099776029587, -0.2745030000805855, -0.1826456794515252, -0.21960024908185005, 0.14566250517964363, -0.39147624652832747, 0.09662259847391397, -0.3113900013267994, -0.17296225484460592, 0.08977199532091618, -0.4693402396515012, -0.18388724653050303, 0.13549644977319986, -0.0637512223329395, -0.07249750569462776, -0.06818974670022726, -0.03489275462925434, -0.34577326104044914, 0.06650649572839029, 0.2561750039458275, -0.0011824965476989746, 0.04610750451683998, -0.1279827542603016, 0.20130099589005113, 0.1949495724402368, -0.9434125125408173, 0.2977792490273714, -0.028087500482797623, 0.37390149431303144, 0.013187497854232788, 0.2509224973618984, -0.16361799743026495, 0.023725003004074097, -0.036937493830919266, 0.027797000017017126, -0.060918751172721386, -0.19564250484108925, 0.30565499723888934, -0.052717503160238266, 0.3599274903535843, -0.08888435224071145, -0.5132795069366693, 0.03502225503325462, 0.011906502768397331, -0.04517100239172578, 0.10839325003325939, 0.06982874404639006, 0.20575249940156937, -0.24544200580567122, 0.2201571513141971, -0.1585307540372014, -0.3748750053346157, -0.17203017586143687, -0.31764224427752197, 0.33601749688386917, -0.33672449830919504, 0.2745740059763193, -0.21478749811649323, 0.3186067556962371, 0.06941399537026882, 0.1607930026948452, -0.029024995863437653, -0.2126179952174425, 9.874999523162842E-4, -0.3279375061392784, 1.1790049970149994, 0.042351001873612404, -0.3150999937206507, -0.0678625050932169, 0.22107374668121338, 0.24057074449956417, -0.08160250633955002, -0.25707999616861343, -0.1565870305057615, 0.08063825243152678, -0.33631250262260437, 0.22858500480651855, -0.2041914938017726, -0.3214350054040551, -0.05116575164720416, -0.10781924985349178, -0.21528111416773754, 0.0469523761421442, -0.3013120009563863, -0.3360159993171692]              |\n",
            "|0     |Sat     |6   |[im, east, shore, hospit, doc, gave, inject]                   |[-0.07678428718021937, 0.31083999999931883, -0.13578343178544725, -0.22221714045320237, -0.2898311434047563, -0.1841866980040712, -0.09395142538206917, -0.0053197235933371955, 5.697097097124372E-4, -0.12020928678768021, 0.030334141105413437, 0.16892270850283758, -2.6443670988082886, 0.18712128698825836, 0.26694556857858387, -0.018142851335661753, 0.1814455632120371, -0.0938771420291492, -0.050482562077896934, -0.12471613394362586, 0.08696271479129791, -0.22749571289334977, -0.04391311082456793, -0.059644147753715515, -0.11823400216443199, -0.013424277305603027, -0.03156471624970436, -0.2188357263803482, -0.07769228544618402, -0.17604429115142142, 0.052331723272800446, 0.04793514737061092, -0.08704380461546991, -0.11301183201638716, -0.3811274266668728, -0.039006292287792475, 0.06227356567978859, 0.016832858324050903, 0.11715942514794213, 0.1345114346061434, -0.1053929938269513, -0.07534828382943358, 0.019400425255298615, -0.2123606272507459, 0.017831566610506604, 0.31770075312150375, 0.20439315267971583, 0.21104728217635835, 0.03961871511169842, 0.15309713780879974, 0.17478642453040397, -0.0384815726429224, -0.08209085331431457, 0.07959071493574552, -0.11801714130810328, -0.2929899990558624, -0.1386889568530023, -0.3073628523520061, -0.11532714324338096, -0.0872621408530644, 0.11347771622240543, 0.2695352850215776, 0.07222571117537362, 0.049259729350783994, 0.1375251348529543, -0.018644292439733232, -0.0638142813529287, 0.012369995670659202, 0.23453157927308763, -0.20938984838513924, -0.09372543117829732, 0.13597672006913594, 0.22414428208555495, 0.1440417119967086, 0.06987071143729347, 0.020304712866033827, 0.12061999844653266, 0.08440586073057992, 0.05549685497369085, -0.2864831265594278, 0.8555348494223186, 0.149971427662032, -0.25359900960964815, 0.029326141944953373, 0.01651716697961092, -0.14399828522333077, 0.16766142845153809, -0.15989428758621216, 0.17685599571892194, 0.02284270924116884, 0.0024331505077758004, -0.33734428882598877, 0.24374571229730332, 0.02834143170288631, -0.20526499527373485, 0.045241785501795154, -0.22782443570239203, 0.1907760048551219, -3.1199359468051365E-4, 0.08607542727674757]    |\n",
            "+------+--------+----+---------------------------------------------------------------+----------------------------------------------------------------------------------------------------------------------------------------------------------------------------------------------------------------------------------------------------------------------------------------------------------------------------------------------------------------------------------------------------------------------------------------------------------------------------------------------------------------------------------------------------------------------------------------------------------------------------------------------------------------------------------------------------------------------------------------------------------------------------------------------------------------------------------------------------------------------------------------------------------------------------------------------------------------------------------------------------------------------------------------------------------------------------------------------------------------------------------------------------------------------------------------------------------------------------------------------------------------------------------------------------------------------------------------------------------------------------------------------------------------------------------------------------------------------------------------------------------------------------------------------------------------------------------------------------------------------------------------------------------------------------------------------------------------------------------------------------------------------------------------------------------------------------------------------------------------------------------------------------------------------------------------------------------------------------------------------------------------------------------------------------------------------------------------------------------------------------------------------------------------------------------------------------------------------------------------+\n",
            "only showing top 7 rows\n",
            "\n"
          ]
        }
      ],
      "source": [
        "extractor_udf = udf(lambda tokens: [[float(x) for x in word2vector[token]] if token in word2vector else [float(0.0)]*word2vector[\"tweet\"].shape[0] for token in tokens], ArrayType((ArrayType(FloatType()))))\n",
        "\n",
        "avg_embedding_udf = udf(lambda x :[float(y) for y in np.mean(x, axis = 0)])\n",
        "\n",
        "tweets_embedded = tweets_df.withColumn(\"tweet_embeddings\", extractor_udf(\"terms_stemmed\"))\n",
        "tweets_embedded = tweets_embedded.withColumn(\"tweet_embeddings\", avg_embedding_udf(\"tweet_embeddings\"))\n",
        "\n",
        "tweets_embedded.printSchema()\n",
        "tweets_embedded.show(7, truncate = False)\n"
      ]
    },
    {
      "cell_type": "markdown",
      "metadata": {
        "id": "KbTIOB_ref7U"
      },
      "source": [
        "### Conversion from `ArrayType( ArrayType( Float() ) )` to `VectorUDT()`"
      ]
    },
    {
      "cell_type": "code",
      "execution_count": 29,
      "metadata": {
        "id": "2t-3-JrtfCtC"
      },
      "outputs": [],
      "source": [
        "from pyspark.ml.linalg import Vectors, VectorUDT\n",
        "\n",
        "to_vector_udf = udf(lambda embedded: Vectors.dense(embedded), VectorUDT())\n",
        "\n",
        "tweets_embedded = tweets_embedded.withColumn(\"tweet_embeddings\", to_vector_udf(tweets_embedded.tweet_embeddings))\n"
      ]
    },
    {
      "cell_type": "markdown",
      "metadata": {
        "id": "hdjs_CoYOWBu"
      },
      "source": [
        "---\n",
        "## **Train and Test setup**"
      ]
    },
    {
      "cell_type": "code",
      "execution_count": 30,
      "metadata": {
        "id": "FxAMJ3ziO3g1"
      },
      "outputs": [],
      "source": [
        "#tweets_embedded.cache()\n",
        "\n",
        "(train_df, test_df) = tweets_embedded.randomSplit([0.8, 0.2], seed=1234)\n",
        "\n",
        "train_df_count = train_df.count()"
      ]
    },
    {
      "cell_type": "markdown",
      "metadata": {
        "id": "W0mbRp_58Bdp"
      },
      "source": [
        "### **Assign weights** to unbalanced columns"
      ]
    },
    {
      "cell_type": "code",
      "execution_count": 31,
      "metadata": {
        "id": "thWzMiDn8Enr"
      },
      "outputs": [],
      "source": [
        "# calculate the weights for the train set\n",
        "class_weights_train = train_df.groupBy('target').count().withColumn('class_weight_train', 1 / col('count'))\n",
        "hour_weights_train = train_df.groupBy('hour').count().withColumn('hour_weight_train', col('count') / train_df_count)\n",
        "day_weights_train = train_df.groupBy('day_name').count().withColumn('day_weight_train', col('count') / train_df_count)\n",
        "\n",
        "# join the weights\n",
        "train_df_weighted = train_df.join(class_weights_train, 'target', 'left').join(hour_weights_train, 'hour', 'left').join(day_weights_train, 'day_name', 'left')\n",
        "\n",
        "# fill null values in case of missing values\n",
        "train_df_weighted = train_df_weighted.fillna(0.0, subset=['class_weight_train', 'hour_weight_train', 'day_weight_train'])\n",
        "\n",
        "train_df_weighted = train_df_weighted.withColumn('terms_stemmed', col('terms_stemmed'))\n",
        "train_df_weighted = train_df_weighted.withColumn('tweet_embeddings', col('tweet_embeddings'))\n",
        "\n",
        "# delete \"count\" columns\n",
        "#  cannot delate columns with the same name, so I rename them\n",
        "df_cols = train_df_weighted.columns\n",
        "\n",
        "duplicate_col_index = [idx for idx, val in enumerate(df_cols) if val in df_cols[:idx]]\n",
        "\n",
        "cols_to_remove = list()\n",
        "\n",
        "for i in duplicate_col_index:\n",
        "    df_cols[i] = 'count_'+ str(i)\n",
        "    cols_to_remove.append(col(df_cols[i]))\n",
        "\n",
        "train_df_weighted = train_df_weighted.toDF(*df_cols)\n",
        "\n",
        "cols_to_remove.append(col(\"count\"))\n",
        "train_df_weighted = train_df_weighted.drop(*cols_to_remove)\n",
        "\n",
        "#train_df_weighted.show(5)\n"
      ]
    },
    {
      "cell_type": "markdown",
      "metadata": {
        "id": "YY6nxAOOcoeZ"
      },
      "source": [
        "### Combine weighted columns"
      ]
    },
    {
      "cell_type": "code",
      "execution_count": 32,
      "metadata": {
        "id": "a41p_MOVcl7_"
      },
      "outputs": [],
      "source": [
        "from pyspark.ml.feature import VectorAssembler, CountVectorizer\n",
        "\n",
        "train_df_weighted = train_df_weighted.withColumn(\"combined_weight\", train_df_weighted[\"class_weight_train\"] * train_df_weighted[\"hour_weight_train\"] * train_df_weighted[\"day_weight_train\"])\n",
        "test_df = test_df.withColumn(\"combined_weight\", lit(1.0))\n",
        "\n",
        "assembler = VectorAssembler(inputCols = [\"hour\", \"day_name\", \"tweet_embeddings\"], outputCol = \"features\")\n",
        "\n",
        "# before the VectorAssembler I need to handle the string data \"day_name\"\n",
        "days_map = {\"Mon\": 1, \"Tue\": 2, \"Wed\": 3, \"Thu\": 4, \"Fri\": 5, \"Sat\": 6, \"Sun\": 7}\n",
        "\n",
        "convert_day_name_udf = udf(lambda day_name : days_map[day_name], IntegerType())\n",
        "\n",
        "train_df_weighted = train_df_weighted.withColumn(\"day_name\", convert_day_name_udf(train_df_weighted.day_name))\n",
        "test_df = test_df.withColumn(\"day_name\", convert_day_name_udf(test_df.day_name))\n",
        "\n",
        "# apply the VectorAssembler\n",
        "train_df_weighted = assembler.transform(train_df_weighted).select(\"features\", \"target\", \"combined_weight\")\n",
        "test_df = assembler.transform(test_df).select(\"features\", \"target\", \"combined_weight\")"
      ]
    },
    {
      "cell_type": "markdown",
      "metadata": {
        "id": "mv3hLOsbqpw8"
      },
      "source": [
        "## **Logistic Regression**"
      ]
    },
    {
      "cell_type": "code",
      "execution_count": null,
      "metadata": {
        "id": "3Ddp3HKNqst5"
      },
      "outputs": [],
      "source": [
        "from pyspark.ml.classification import LogisticRegression\n",
        "\n",
        "lr = LogisticRegression(featuresCol='features', labelCol='target', weightCol='combined_weight')\n",
        "lr_model = lr.fit(train_df_weighted)\n",
        "\n",
        "predictions = lr_model.transform(test_df)"
      ]
    },
    {
      "cell_type": "markdown",
      "metadata": {
        "id": "DGRnV9GJAslh"
      },
      "source": [
        "---\n",
        "## Verify data"
      ]
    },
    {
      "cell_type": "code",
      "execution_count": null,
      "metadata": {
        "id": "lEO6FUTeAwF9"
      },
      "outputs": [],
      "source": [
        "#tweets_embedded.printSchema()\n",
        "#tweets_embedded.show(10)\n",
        "\n",
        "#print(\"tot = \", tweets_embedded.count())"
      ]
    },
    {
      "cell_type": "markdown",
      "metadata": {
        "id": "ZpD2gArbjybC"
      },
      "source": [
        "# TODO\n",
        "* **Are useful tokens with len==1 ?**\n",
        "* **chek udf validity for month mapping**\n",
        "* **validation set?**"
      ]
    }
  ],
  "metadata": {
    "accelerator": "GPU",
    "colab": {
      "collapsed_sections": [
        "uY_VvQBrKisT"
      ],
      "provenance": [],
      "authorship_tag": "ABX9TyPkJkMG4LJYjBTJN/s/1sUS",
      "include_colab_link": true
    },
    "kernelspec": {
      "display_name": "Python 3",
      "name": "python3"
    },
    "language_info": {
      "name": "python"
    }
  },
  "nbformat": 4,
  "nbformat_minor": 0
}