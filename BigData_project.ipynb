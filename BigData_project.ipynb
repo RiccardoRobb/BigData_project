{
  "cells": [
    {
      "cell_type": "markdown",
      "metadata": {
        "id": "view-in-github",
        "colab_type": "text"
      },
      "source": [
        "<a href=\"https://colab.research.google.com/github/RiccardoRobb/BigData_project/blob/main/BigData_project.ipynb\" target=\"_parent\"><img src=\"https://colab.research.google.com/assets/colab-badge.svg\" alt=\"Open In Colab\"/></a>"
      ]
    },
    {
      "cell_type": "markdown",
      "metadata": {
        "id": "ydnT0-krmCTZ"
      },
      "source": [
        "# **Twitter sentiment analysis**\n",
        "### BigData 2023 project\n",
        "\n",
        "[@Author](https://github.com/RiccardoRobb): Riccardo Ruberto 1860609"
      ]
    },
    {
      "cell_type": "markdown",
      "metadata": {
        "id": "TaC0pFVy5ha-"
      },
      "source": [
        "---\n",
        "## **Inital configuration**\n",
        "### PySpark installation"
      ]
    },
    {
      "cell_type": "code",
      "execution_count": 1,
      "metadata": {
        "colab": {
          "base_uri": "https://localhost:8080/"
        },
        "id": "P9pfBiCD4wMp",
        "outputId": "cae833b5-cbdd-412a-c282-234860286c77"
      },
      "outputs": [
        {
          "output_type": "stream",
          "name": "stdout",
          "text": [
            "Collecting pyspark\n",
            "  Downloading pyspark-3.4.1.tar.gz (310.8 MB)\n",
            "\u001b[2K     \u001b[90m━━━━━━━━━━━━━━━━━━━━━━━━━━━━━━━━━━━━━━━\u001b[0m \u001b[32m310.8/310.8 MB\u001b[0m \u001b[31m4.1 MB/s\u001b[0m eta \u001b[36m0:00:00\u001b[0m\n",
            "\u001b[?25h  Preparing metadata (setup.py) ... \u001b[?25l\u001b[?25hdone\n",
            "Requirement already satisfied: py4j==0.10.9.7 in /usr/local/lib/python3.10/dist-packages (from pyspark) (0.10.9.7)\n",
            "Building wheels for collected packages: pyspark\n",
            "  Building wheel for pyspark (setup.py) ... \u001b[?25l\u001b[?25hdone\n",
            "  Created wheel for pyspark: filename=pyspark-3.4.1-py2.py3-none-any.whl size=311285398 sha256=1a931c133258aa99554c511d0daea526e64333ca32dc1dcde7b5606e85cb1814\n",
            "  Stored in directory: /root/.cache/pip/wheels/0d/77/a3/ff2f74cc9ab41f8f594dabf0579c2a7c6de920d584206e0834\n",
            "Successfully built pyspark\n",
            "Installing collected packages: pyspark\n",
            "Successfully installed pyspark-3.4.1\n"
          ]
        }
      ],
      "source": [
        "! pip install pyspark"
      ]
    },
    {
      "cell_type": "markdown",
      "metadata": {
        "id": "r5rRWp3R5xKn"
      },
      "source": [
        "### Useful imports"
      ]
    },
    {
      "cell_type": "code",
      "execution_count": 2,
      "metadata": {
        "id": "DZyT2VD7ZMb6"
      },
      "outputs": [],
      "source": [
        "import pyspark\n",
        "from pyspark.sql import *\n",
        "from pyspark.sql.types import *\n",
        "from pyspark.sql.functions import *\n",
        "from pyspark import SparkContext, SparkConf\n",
        "\n",
        "import matplotlib.pyplot as plt\n",
        "import seaborn as sns\n",
        "%matplotlib inline"
      ]
    },
    {
      "cell_type": "markdown",
      "metadata": {
        "id": "sMZu4CcD51-e"
      },
      "source": [
        "### Spark configuration"
      ]
    },
    {
      "cell_type": "code",
      "execution_count": 3,
      "metadata": {
        "id": "Zc_wOE8Fl7aN"
      },
      "outputs": [],
      "source": [
        "# create the session\n",
        "conf = SparkConf().\\\n",
        "                set('spark.ui.port', \"8000\").\\\n",
        "                set('spark.executor.memory', '4G').\\\n",
        "                set('spark.driver.memory', '45G').\\\n",
        "                set('spark.driver.maxResultSize', '10G').\\\n",
        "                setAppName(\"Twitter sentiment analysis\").\\\n",
        "                setMaster(\"local[*]\")\n",
        "\n",
        "# create the context\n",
        "sc = pyspark.SparkContext(conf=conf)\n",
        "spark = SparkSession.builder.getOrCreate()"
      ]
    },
    {
      "cell_type": "markdown",
      "metadata": {
        "id": "VJSs9ejr58TM"
      },
      "source": [
        "### Check spark configurations"
      ]
    },
    {
      "cell_type": "code",
      "execution_count": 4,
      "metadata": {
        "colab": {
          "base_uri": "https://localhost:8080/",
          "height": 219
        },
        "id": "-rHsaeM75DvA",
        "outputId": "6cd9eb8b-3618-42cd-b17f-11aa4187abaa"
      },
      "outputs": [
        {
          "output_type": "execute_result",
          "data": {
            "text/plain": [
              "<pyspark.sql.session.SparkSession at 0x7efffcadd000>"
            ],
            "text/html": [
              "\n",
              "            <div>\n",
              "                <p><b>SparkSession - in-memory</b></p>\n",
              "                \n",
              "        <div>\n",
              "            <p><b>SparkContext</b></p>\n",
              "\n",
              "            <p><a href=\"http://9e051fcb5db8:8000\">Spark UI</a></p>\n",
              "\n",
              "            <dl>\n",
              "              <dt>Version</dt>\n",
              "                <dd><code>v3.4.1</code></dd>\n",
              "              <dt>Master</dt>\n",
              "                <dd><code>local[*]</code></dd>\n",
              "              <dt>AppName</dt>\n",
              "                <dd><code>Twitter sentiment analysis</code></dd>\n",
              "            </dl>\n",
              "        </div>\n",
              "        \n",
              "            </div>\n",
              "        "
            ]
          },
          "metadata": {},
          "execution_count": 4
        }
      ],
      "source": [
        "spark"
      ]
    },
    {
      "cell_type": "code",
      "execution_count": 5,
      "metadata": {
        "colab": {
          "base_uri": "https://localhost:8080/"
        },
        "id": "hTx8THde5L9T",
        "outputId": "81a614d4-f837-4908-c0ca-a25610688074"
      },
      "outputs": [
        {
          "output_type": "execute_result",
          "data": {
            "text/plain": [
              "[('spark.driver.host', '9e051fcb5db8'),\n",
              " ('spark.app.submitTime', '1688463303215'),\n",
              " ('spark.driver.memory', '45G'),\n",
              " ('spark.executor.id', 'driver'),\n",
              " ('spark.sql.warehouse.dir', 'file:/content/spark-warehouse'),\n",
              " ('spark.ui.port', '8000'),\n",
              " ('spark.app.startTime', '1688463303493'),\n",
              " ('spark.driver.maxResultSize', '10G'),\n",
              " ('spark.driver.extraJavaOptions',\n",
              "  '-Djava.net.preferIPv6Addresses=false -XX:+IgnoreUnrecognizedVMOptions --add-opens=java.base/java.lang=ALL-UNNAMED --add-opens=java.base/java.lang.invoke=ALL-UNNAMED --add-opens=java.base/java.lang.reflect=ALL-UNNAMED --add-opens=java.base/java.io=ALL-UNNAMED --add-opens=java.base/java.net=ALL-UNNAMED --add-opens=java.base/java.nio=ALL-UNNAMED --add-opens=java.base/java.util=ALL-UNNAMED --add-opens=java.base/java.util.concurrent=ALL-UNNAMED --add-opens=java.base/java.util.concurrent.atomic=ALL-UNNAMED --add-opens=java.base/sun.nio.ch=ALL-UNNAMED --add-opens=java.base/sun.nio.cs=ALL-UNNAMED --add-opens=java.base/sun.security.action=ALL-UNNAMED --add-opens=java.base/sun.util.calendar=ALL-UNNAMED --add-opens=java.security.jgss/sun.security.krb5=ALL-UNNAMED -Djdk.reflect.useDirectMethodHandle=false'),\n",
              " ('spark.app.name', 'Twitter sentiment analysis'),\n",
              " ('spark.rdd.compress', 'True'),\n",
              " ('spark.app.id', 'local-1688463305868'),\n",
              " ('spark.serializer.objectStreamReset', '100'),\n",
              " ('spark.master', 'local[*]'),\n",
              " ('spark.submit.pyFiles', ''),\n",
              " ('spark.submit.deployMode', 'client'),\n",
              " ('spark.driver.port', '40429'),\n",
              " ('spark.executor.memory', '4G'),\n",
              " ('spark.ui.showConsoleProgress', 'true'),\n",
              " ('spark.executor.extraJavaOptions',\n",
              "  '-Djava.net.preferIPv6Addresses=false -XX:+IgnoreUnrecognizedVMOptions --add-opens=java.base/java.lang=ALL-UNNAMED --add-opens=java.base/java.lang.invoke=ALL-UNNAMED --add-opens=java.base/java.lang.reflect=ALL-UNNAMED --add-opens=java.base/java.io=ALL-UNNAMED --add-opens=java.base/java.net=ALL-UNNAMED --add-opens=java.base/java.nio=ALL-UNNAMED --add-opens=java.base/java.util=ALL-UNNAMED --add-opens=java.base/java.util.concurrent=ALL-UNNAMED --add-opens=java.base/java.util.concurrent.atomic=ALL-UNNAMED --add-opens=java.base/sun.nio.ch=ALL-UNNAMED --add-opens=java.base/sun.nio.cs=ALL-UNNAMED --add-opens=java.base/sun.security.action=ALL-UNNAMED --add-opens=java.base/sun.util.calendar=ALL-UNNAMED --add-opens=java.security.jgss/sun.security.krb5=ALL-UNNAMED -Djdk.reflect.useDirectMethodHandle=false')]"
            ]
          },
          "metadata": {},
          "execution_count": 5
        }
      ],
      "source": [
        "sc._conf.getAll()"
      ]
    },
    {
      "cell_type": "markdown",
      "metadata": {
        "id": "qrHRiI0C-jDI"
      },
      "source": [
        "---\n",
        "## Load dataset [***Sentiment140***]\n",
        "### Download dataset"
      ]
    },
    {
      "cell_type": "code",
      "execution_count": 6,
      "metadata": {
        "colab": {
          "base_uri": "https://localhost:8080/"
        },
        "id": "zayTBDQL98iG",
        "outputId": "587cd70f-49e8-4e86-da7b-fcefda6f7146"
      },
      "outputs": [
        {
          "output_type": "stream",
          "name": "stdout",
          "text": [
            "--2023-07-04 09:35:08--  https://raw.githubusercontent.com/RiccardoRobb/BigData_project/main/Sentiment140.zip\n",
            "Resolving raw.githubusercontent.com (raw.githubusercontent.com)... 185.199.108.133, 185.199.109.133, 185.199.110.133, ...\n",
            "Connecting to raw.githubusercontent.com (raw.githubusercontent.com)|185.199.108.133|:443... connected.\n",
            "HTTP request sent, awaiting response... 200 OK\n",
            "Length: 84855679 (81M) [application/zip]\n",
            "Saving to: ‘Sentiment140.zip’\n",
            "\n",
            "Sentiment140.zip    100%[===================>]  80.92M   196MB/s    in 0.4s    \n",
            "\n",
            "2023-07-04 09:35:09 (196 MB/s) - ‘Sentiment140.zip’ saved [84855679/84855679]\n",
            "\n",
            "Archive:  ./Sentiment140.zip\n",
            "  inflating: training.1600000.processed.noemoticon.csv  \n"
          ]
        }
      ],
      "source": [
        "! wget https://raw.githubusercontent.com/RiccardoRobb/BigData_project/main/Sentiment140.zip\n",
        "\n",
        "! unzip \"./*.zip\" && rm *.zip\n",
        "! mv training.1600000.processed.noemoticon.csv train140.csv"
      ]
    },
    {
      "cell_type": "markdown",
      "metadata": {
        "id": "hAbLzmUGXNu_"
      },
      "source": [
        "### Create data frame [***Sentiment140***]\n",
        "1600000 tweets"
      ]
    },
    {
      "cell_type": "code",
      "execution_count": 7,
      "metadata": {
        "id": "e7UAiEc-_GEv"
      },
      "outputs": [],
      "source": [
        "schema = StructType([ \\\n",
        "    StructField(\"target\",IntegerType(),True), \\\n",
        "    StructField(\"id\",LongType(),True), \\\n",
        "    StructField(\"full_date\",StringType(),True), \\\n",
        "    StructField(\"flag\", StringType(), True), \\\n",
        "    StructField(\"user\", StringType(), True), \\\n",
        "    StructField(\"text\", StringType(), True) \\\n",
        "  ])\n",
        "\n",
        "df = spark.read.csv('./train140.csv', schema=schema, header=\"false\")"
      ]
    },
    {
      "cell_type": "markdown",
      "metadata": {
        "id": "NUGsEwMyXR9d"
      },
      "source": [
        "---\n",
        "## **Inital cleaning**\n",
        "### Removal of unnecessary columns"
      ]
    },
    {
      "cell_type": "code",
      "execution_count": 8,
      "metadata": {
        "colab": {
          "base_uri": "https://localhost:8080/"
        },
        "id": "jfTVRLBRXTDx",
        "outputId": "31ca5753-e9e1-4b32-ec22-8d8b8a3ecf45"
      },
      "outputs": [
        {
          "output_type": "stream",
          "name": "stdout",
          "text": [
            "1\n"
          ]
        }
      ],
      "source": [
        "# sentiment of the tweet is not affected by the \"user\"\n",
        "df = df.drop(\"user\")\n",
        "\n",
        "# verify \"flag\" utility\n",
        "print(df.select(countDistinct(\"flag\")).collect()[0][0])\n",
        "\n",
        "# \"flag\" has only one value == NO_QUERY, so I delete it\n",
        "df = df.drop(\"flag\")"
      ]
    },
    {
      "cell_type": "markdown",
      "metadata": {
        "id": "efsWAcIVXjxt"
      },
      "source": [
        "### From ***date*** to ***day_name***; ***hour***; ***date***"
      ]
    },
    {
      "cell_type": "code",
      "execution_count": 9,
      "metadata": {
        "id": "CnXFsS1rXsjI"
      },
      "outputs": [],
      "source": [
        "months_map = {\"Jan\": \"01\", \"Feb\": \"02\", \"Mar\": \"03\", \"Apr\": \"04\", \"May\": \"05\", \"Jun\": \"06\", \"Jul\": \"07\", \"Aug\": \"08\", \"Sep\": \"09\", \"Oct\": \"10\", \"Nov\": \"11\", \"Dec\": \"12\"}\n",
        "\n",
        "convert_date_udf = udf(lambda month_name : months_map[month_name], StringType())"
      ]
    },
    {
      "cell_type": "markdown",
      "metadata": {
        "id": "kUg1WK_Ml0Au"
      },
      "source": [
        "### From **hour:min:mill** to int **hour**"
      ]
    },
    {
      "cell_type": "code",
      "execution_count": 10,
      "metadata": {
        "id": "QrCqebf9l9uP"
      },
      "outputs": [],
      "source": [
        "convert_hour_udf = udf(lambda time: int(time[:2]), IntegerType())"
      ]
    },
    {
      "cell_type": "code",
      "execution_count": 11,
      "metadata": {
        "id": "FcXyz4aKg_ul"
      },
      "outputs": [],
      "source": [
        "split_col = pyspark.sql.functions.split(df['full_date'], ' ')\n",
        "\n",
        "df = df.withColumn(\"day_name\", split_col.getItem(0)) \\\n",
        "      .withColumn(\"hour\", convert_hour_udf(split_col.getItem(3))) \\\n",
        "      .withColumn(\"date\", to_date( concat_ws(\"-\", split_col.getItem(2), convert_date_udf(split_col.getItem(1)), split_col.getItem(5)), \"dd-MM-yyyy\"))\n",
        "\n",
        "df = df.drop(\"full_date\")"
      ]
    },
    {
      "cell_type": "markdown",
      "metadata": {
        "id": "6CyYJJi59XKs"
      },
      "source": [
        "---\n",
        "## **Data analysis**\n",
        "### ***target*** values analisys"
      ]
    },
    {
      "cell_type": "code",
      "execution_count": 12,
      "metadata": {
        "id": "b1JWoNnM9k4k"
      },
      "outputs": [],
      "source": [
        "#df.select(\"target\").distinct().show()\n",
        "# \"target\" value is or 0 or 4"
      ]
    },
    {
      "cell_type": "code",
      "execution_count": 13,
      "metadata": {
        "colab": {
          "base_uri": "https://localhost:8080/"
        },
        "id": "ehZD6TQNAH6H",
        "outputId": "85e95d4d-06c5-464b-9a61-1ace534c1ec3"
      },
      "outputs": [
        {
          "output_type": "stream",
          "name": "stdout",
          "text": [
            "Sad tweets =  800000\n",
            "Happy tweets =  800000\n"
          ]
        }
      ],
      "source": [
        "sad_tweets = df.filter(col(\"target\") == 0)\n",
        "happy_tweets = df.filter(col(\"target\") == 4)\n",
        "\n",
        "print(\"Sad tweets = \", sad_tweets.count())\n",
        "print(\"Happy tweets = \", happy_tweets.count())"
      ]
    },
    {
      "cell_type": "markdown",
      "metadata": {
        "id": "_n13xetpApkt"
      },
      "source": [
        "Sad tweets and happy tweets are balanced."
      ]
    },
    {
      "cell_type": "markdown",
      "metadata": {
        "id": "zW2CBtpkBIGM"
      },
      "source": [
        "### Time frame of interest"
      ]
    },
    {
      "cell_type": "code",
      "execution_count": 14,
      "metadata": {
        "colab": {
          "base_uri": "https://localhost:8080/"
        },
        "id": "fNQmo6WsBQDD",
        "outputId": "93832687-360c-4aaa-a7d3-8b5fb0e6089f"
      },
      "outputs": [
        {
          "output_type": "stream",
          "name": "stdout",
          "text": [
            "Min date =  2009-04-06\n",
            "Max date =  2009-06-25\n"
          ]
        }
      ],
      "source": [
        "print(\"Min date = \", df.select(min(df.date)).collect()[0][0])\n",
        "print(\"Max date = \", df.select(max(df.date)).collect()[0][0])"
      ]
    },
    {
      "cell_type": "markdown",
      "metadata": {
        "id": "5PXQSmfOCezG"
      },
      "source": [
        "The time frame used is too small, datas were collected in 2 months. \\\\\n",
        "*Using data column will be useful only if we try to predict tweets written during the [2009-04-06, 2009-06-25] period.*\n",
        "\n",
        "### Better to delete the ***date*** column"
      ]
    },
    {
      "cell_type": "code",
      "execution_count": 15,
      "metadata": {
        "id": "gwpxRRdnDZrI"
      },
      "outputs": [],
      "source": [
        "df = df.drop(\"date\")"
      ]
    },
    {
      "cell_type": "markdown",
      "metadata": {
        "id": "DAE60S3iFRpF"
      },
      "source": [
        "---\n",
        "## **Data processing**\n",
        "### Case normalization"
      ]
    },
    {
      "cell_type": "code",
      "execution_count": 16,
      "metadata": {
        "id": "qSNd63XFTdlK"
      },
      "outputs": [],
      "source": [
        "# used for all columns to see if null values are present\n",
        "# df.filter(col(\"text\").isNull()).show()\n",
        "\n",
        "df = df.withColumn(\"text\", lower(col(\"text\")))"
      ]
    },
    {
      "cell_type": "markdown",
      "metadata": {
        "id": "qJSbjy6kTQEV"
      },
      "source": [
        "### Username and links removal"
      ]
    },
    {
      "cell_type": "code",
      "execution_count": 17,
      "metadata": {
        "id": "gSkQ5dCkGDJX"
      },
      "outputs": [],
      "source": [
        "import re\n",
        "\n",
        "# twitter ids can contain alphanumeric and '_' characters\n",
        "username_regex = r\"@[A-Za-z0-9_]+\"\n",
        "\n",
        "# http:// / https:// links\n",
        "link_regex1 = r\"https?://[^ ]+\"\n",
        "\n",
        "# www. links\n",
        "link_regex2 = r\"www.[^ ]+\"\n",
        "\n",
        "\n",
        "master_regex = r\"|\".join((username_regex, link_regex1, link_regex2))\n",
        "\n",
        "df = df.withColumn(\"text\", regexp_replace(df.text, master_regex, \"\"))"
      ]
    },
    {
      "cell_type": "markdown",
      "metadata": {
        "id": "tQNB7bpRaxIG"
      },
      "source": [
        "### Filter out punctual symbols"
      ]
    },
    {
      "cell_type": "code",
      "execution_count": 18,
      "metadata": {
        "id": "6ILeqT4Ha22N"
      },
      "outputs": [],
      "source": [
        "df = df.withColumn(\"text\", regexp_replace(df.text, \"[^a-zA-Z\\s]\", \"\"))"
      ]
    },
    {
      "cell_type": "markdown",
      "metadata": {
        "id": "bwH-VfJXU71D"
      },
      "source": [
        "### Trimming"
      ]
    },
    {
      "cell_type": "code",
      "execution_count": 19,
      "metadata": {
        "id": "NSeeMi1QU-nN"
      },
      "outputs": [],
      "source": [
        "df = df.withColumn(\"text\", trim(col(\"text\")))\n",
        "\n",
        "# extra whitespaces\n",
        "df = df.withColumn(\"text\", trim(regexp_replace(df.text, \" +\", \" \")))"
      ]
    },
    {
      "cell_type": "markdown",
      "metadata": {
        "id": "We8YznuapL3U"
      },
      "source": [
        "### Tokenization"
      ]
    },
    {
      "cell_type": "code",
      "execution_count": 20,
      "metadata": {
        "id": "0p6KKbDhpOAF"
      },
      "outputs": [],
      "source": [
        "from pyspark.ml.feature import Tokenizer\n",
        "\n",
        "tokenizer = Tokenizer(inputCol = \"text\", outputCol = \"tokens\")\n",
        "tokens_df = tokenizer.transform(df)"
      ]
    },
    {
      "cell_type": "markdown",
      "metadata": {
        "id": "UOQCWCA3qo0h"
      },
      "source": [
        "### Stopwords removal"
      ]
    },
    {
      "cell_type": "code",
      "execution_count": 21,
      "metadata": {
        "id": "rnulIkVIqrtl"
      },
      "outputs": [],
      "source": [
        "from pyspark.ml.feature import StopWordsRemover\n",
        "\n",
        "stopwords_remover = StopWordsRemover(inputCol = \"tokens\", outputCol = \"terms\")\n",
        "terms_df = stopwords_remover.transform(tokens_df)"
      ]
    },
    {
      "cell_type": "markdown",
      "metadata": {
        "id": "e7fcc-7xrMB1"
      },
      "source": [
        "### Stemming"
      ]
    },
    {
      "cell_type": "code",
      "execution_count": 22,
      "metadata": {
        "id": "VOGvpgdirOOs"
      },
      "outputs": [],
      "source": [
        "from nltk.stem.snowball import SnowballStemmer\n",
        "\n",
        "stemmer = SnowballStemmer(language = \"english\")\n",
        "stemmer_udf = udf(lambda tokens: [stemmer.stem(token) for token in tokens], ArrayType(StringType()))\n",
        "\n",
        "\n",
        "tweets_df = terms_df.withColumn(\"terms_stemmed\", stemmer_udf(\"terms\"))"
      ]
    },
    {
      "cell_type": "markdown",
      "metadata": {
        "id": "vLK2YpWdsiaH"
      },
      "source": [
        "### Removal of unnecessary columns"
      ]
    },
    {
      "cell_type": "code",
      "execution_count": 23,
      "metadata": {
        "id": "RUk2wyD9soOX"
      },
      "outputs": [],
      "source": [
        "tweets_df = tweets_df.drop(\"id\", \"text\", \"tokens\", \"terms\")\n",
        "\n",
        "#tweets_df.show(7, truncate = False)"
      ]
    },
    {
      "cell_type": "markdown",
      "metadata": {
        "id": "5L6ju2yHRESq"
      },
      "source": [
        "---\n",
        "## **Additional cleaning**"
      ]
    },
    {
      "cell_type": "code",
      "execution_count": 24,
      "metadata": {
        "colab": {
          "base_uri": "https://localhost:8080/"
        },
        "id": "HJJpggTkRT05",
        "outputId": "70a89beb-dc6c-43a2-cfe9-be016a9cbe33"
      },
      "outputs": [
        {
          "output_type": "stream",
          "name": "stdout",
          "text": [
            "Sad tweets =  774763\n",
            "Happy tweets =  767489\n"
          ]
        }
      ],
      "source": [
        "tweets_df.cache()\n",
        "\n",
        "tweets_df = tweets_df.filter(size(tweets_df.terms_stemmed) > 1)\n",
        "\n",
        "sad_tweets = tweets_df.filter(tweets_df.target == 0)\n",
        "happy_tweets = tweets_df.filter(tweets_df.target == 4)\n",
        "\n",
        "sad_tweets_count = sad_tweets.count()\n",
        "happy_tweets_count = happy_tweets.count()\n",
        "\n",
        "print(\"Sad tweets = \", sad_tweets_count)\n",
        "print(\"Happy tweets = \", happy_tweets_count)"
      ]
    },
    {
      "cell_type": "markdown",
      "metadata": {
        "id": "P5zA3f9HRXH0"
      },
      "source": [
        "### After the cleaning Sad and Happy tweets are ***unbalanced***"
      ]
    },
    {
      "cell_type": "code",
      "execution_count": 25,
      "metadata": {
        "colab": {
          "base_uri": "https://localhost:8080/",
          "height": 430
        },
        "id": "IYTHKIqCRgLK",
        "outputId": "6ddbac92-32dc-4ce4-a6de-a2283942f5b1"
      },
      "outputs": [
        {
          "output_type": "display_data",
          "data": {
            "text/plain": [
              "<Figure size 640x480 with 1 Axes>"
            ],
            "image/png": "[encoded data removed]"
          },
          "metadata": {}
        }
      ],
      "source": [
        "(figure_, axes_) = plt.subplots()\n",
        "\n",
        "y = [sad_tweets_count, happy_tweets_count]\n",
        "axes_.set_ylabel(\"Number of tweets\")\n",
        "\n",
        "x = [\"Sad tweets\", \"Happy tweets\"]\n",
        "\n",
        "axes_.bar(x, y, color = [\"red\", \"green\"])\n",
        "plt.show()"
      ]
    },
    {
      "cell_type": "markdown",
      "metadata": {
        "id": "uBY026hPgd3h"
      },
      "source": [
        "### Balancing dataframes"
      ]
    },
    {
      "cell_type": "code",
      "execution_count": 26,
      "metadata": {
        "id": "xJygEfWNgmxU"
      },
      "outputs": [],
      "source": [
        "sad_tweets = sad_tweets.select(\"*\").orderBy(rand())\n",
        "sad_tweets = sad_tweets.limit(happy_tweets_count)\n",
        "\n",
        "tweets_df = sad_tweets.union(happy_tweets)"
      ]
    },
    {
      "cell_type": "markdown",
      "metadata": {
        "id": "uY_VvQBrKisT"
      },
      "source": [
        "---\n",
        "## **Word Vector representation**"
      ]
    },
    {
      "cell_type": "markdown",
      "metadata": {
        "id": "g5x_pMftKtt2"
      },
      "source": [
        "### Load **GloVe** embeddings"
      ]
    },
    {
      "cell_type": "code",
      "execution_count": 27,
      "metadata": {
        "colab": {
          "base_uri": "https://localhost:8080/"
        },
        "id": "NnmMF2HMNcTc",
        "outputId": "279fef9a-a499-4438-cadb-7296f9b10a73"
      },
      "outputs": [
        {
          "output_type": "stream",
          "name": "stdout",
          "text": [
            "[==================================================] 100.0% 387.1/387.1MB downloaded\n"
          ]
        }
      ],
      "source": [
        "import gensim.downloader as api\n",
        "\n",
        "embeddings = 100\n",
        "word2vector = None\n",
        "\n",
        "if word2vector == None:\n",
        "  word2vector = api.load(\"glove-twitter-\" + str(embeddings))"
      ]
    },
    {
      "cell_type": "markdown",
      "metadata": {
        "id": "T3epcP4Vc48E"
      },
      "source": [
        "### Mapping tokens - embeddings"
      ]
    },
    {
      "cell_type": "code",
      "execution_count": 28,
      "metadata": {
        "colab": {
          "base_uri": "https://localhost:8080/"
        },
        "id": "QssWZt9MSB2C",
        "outputId": "dd552dc3-7cbb-457f-a3ad-1c34931177fc"
      },
      "outputs": [
        {
          "output_type": "stream",
          "name": "stdout",
          "text": [
            "root\n",
            " |-- target: integer (nullable = true)\n",
            " |-- day_name: string (nullable = true)\n",
            " |-- hour: integer (nullable = true)\n",
            " |-- terms_stemmed: array (nullable = true)\n",
            " |    |-- element: string (containsNull = true)\n",
            " |-- tweet_embeddings: string (nullable = true)\n",
            "\n",
            "+------+--------+----+--------------------------------------------------------------------------------------------------------------+---------------------------------------------------------------------------------------------------------------------------------------------------------------------------------------------------------------------------------------------------------------------------------------------------------------------------------------------------------------------------------------------------------------------------------------------------------------------------------------------------------------------------------------------------------------------------------------------------------------------------------------------------------------------------------------------------------------------------------------------------------------------------------------------------------------------------------------------------------------------------------------------------------------------------------------------------------------------------------------------------------------------------------------------------------------------------------------------------------------------------------------------------------------------------------------------------------------------------------------------------------------------------------------------------------------------------------------------------------------------------------------------------------------------------------------------------------------------------------------------------------------------------------------------------------------------------------------------------------------------------------------------------------------------------------------------------------------------------------------------------------------------------------------------------------------------------------------------------------------------------------------------------------------------------------------------------------------------------------------------------------------------------------------------------------------------------------------------------------------------------------------------------------------------------------------------------------------------------------------+\n",
            "|target|day_name|hour|terms_stemmed                                                                                                 |tweet_embeddings                                                                                                                                                                                                                                                                                                                                                                                                                                                                                                                                                                                                                                                                                                                                                                                                                                                                                                                                                                                                                                                                                                                                                                                                                                                                                                                                                                                                                                                                                                                                                                                                                                                                                                                                                                                                                                                                                                                                                                                                                                                                                                                                                                                                                       |\n",
            "+------+--------+----+--------------------------------------------------------------------------------------------------------------+---------------------------------------------------------------------------------------------------------------------------------------------------------------------------------------------------------------------------------------------------------------------------------------------------------------------------------------------------------------------------------------------------------------------------------------------------------------------------------------------------------------------------------------------------------------------------------------------------------------------------------------------------------------------------------------------------------------------------------------------------------------------------------------------------------------------------------------------------------------------------------------------------------------------------------------------------------------------------------------------------------------------------------------------------------------------------------------------------------------------------------------------------------------------------------------------------------------------------------------------------------------------------------------------------------------------------------------------------------------------------------------------------------------------------------------------------------------------------------------------------------------------------------------------------------------------------------------------------------------------------------------------------------------------------------------------------------------------------------------------------------------------------------------------------------------------------------------------------------------------------------------------------------------------------------------------------------------------------------------------------------------------------------------------------------------------------------------------------------------------------------------------------------------------------------------------------------------------------------------+\n",
            "|0     |Thu     |21  |[great, ear, infect]                                                                                          |[-0.2427766670783361, 0.3171466688315074, -0.6651033560434977, 0.47226732907195884, -0.10627666860818863, 0.19917000830173492, -0.11768500010172527, -0.43641442029426497, 0.2819133400917053, -0.4819599936405818, 0.04967000335454941, 0.48281001547972363, -2.9770065943400064, -0.09808333218097687, -0.3840533395608266, -0.13048733646670976, -0.3010133405526479, -0.13951333363850912, 0.04907966839770476, 0.04786366472641627, -0.13322665790716806, 0.3188333362340927, 0.07072766808172067, 0.32275200138489407, 0.18613766754666963, 0.8585799833138784, -0.08308666944503784, 0.08938999970753987, 0.20314001043637595, -0.03504034038633108, 0.13604999581972757, -0.38176000366608304, -0.16198499500751495, -0.07174159656278789, -0.386470024784406, 0.09242733319600423, 0.1330353431403637, -0.5207033256689707, -0.40666332840919495, 0.23767168571551642, 0.18528667092323303, -0.28044000019629794, -0.008908665428558985, 0.23606333136558533, 0.35131333271662396, 0.30605200429757434, 0.1381623266885678, 0.08597666770219803, 0.3009166717529297, 0.16979100244740644, 0.40127066522836685, 0.045136695417265095, 0.13108666241168976, 0.026640017827351887, 0.6741300125916799, 0.2716606662919124, 0.004700005054473877, 0.17175666987895966, 0.3732100228468577, -0.1916566640138626, 0.03778667002916336, -0.19835333029429117, -0.3100556656718254, 0.14204799383878708, 0.10987999786933263, 0.15995999177296957, 0.11791599790255229, -0.2836333264907201, -0.21893667181332907, 0.5602699915568033, -0.03551000605026881, -0.046416670083999634, -0.09547999501228333, 0.2992600003878276, 0.04419666528701782, 0.10090666233251493, 0.32621899495522183, -0.23480765769879022, -0.30812166072428226, -0.06438333044449489, 1.1274400154749553, 0.3452366714676221, -0.34896065667271614, 0.10559333364168803, 0.4098033507664998, -0.29419665535291034, -0.2290466626485189, -0.24707533419132233, 0.2829786737759908, -0.07587599878509839, 0.09842333197593689, -0.4893996625517805, 0.4956479372146229, 0.16656667490800223, -0.14512133101622263, -0.20954999327659607, 0.17713000842680535, -0.16400666534900665, 0.03358733902374903, 0.14155333240826926]                                  |\n",
            "|0     |Fri     |21  |[actual, roll, way, downhil, ive, roll, back, last, mani, year, oop, oh, sisyphus]                            |[0.1050038469525484, 0.009858923319440622, 0.12275945903876653, -0.14226576743217614, 0.10178253799676895, 0.028847539510864478, 0.08465469198731276, -0.01738814952281805, -0.09145106848042744, 0.08263030834496021, -0.08314830867143777, -0.003993849341685955, -2.885726947050828, -0.03810443553643731, -0.05437104701279448, 0.11110999779059337, -0.0034303844261627933, 0.01104392483830452, -0.3255376907495352, -0.14444330700028402, -0.01050153410492035, 0.04314030405993645, 0.13786239420565274, 0.043469004619580046, -0.009451284073293209, -0.3314646929502487, -0.22027153607744437, -0.16825385835881418, 0.0980651520479184, -0.3563068234003507, -0.06736899482516143, 0.2213737706725414, 0.006495233625173569, 0.16590046481444284, 0.027481534160100497, 0.15166023287635583, 0.08504122624603602, -0.06554900081111835, 0.2691429221572784, 0.02404669435838094, -0.439039079615703, -0.0387899990265186, -0.10332915000617504, -0.02531531260599597, 0.057235003663943365, -0.05761719473566, 0.12049268576531456, 0.20240600407123566, 0.06995300002969228, 0.12426692247390747, 0.03600545829305282, 0.2177779250420057, 0.07483169221534179, -0.07748690369324042, 0.12469769240571903, -0.1840335877182392, 0.035619244810032584, 0.01697123279938331, 0.17997461958573416, -0.008920670057145448, 0.10313961196404237, -0.11397930062734164, 0.03173999717602363, -0.059690154444139734, -0.05303717963397503, -0.1425130023406102, -0.10527307826739091, 0.1241346185023968, 0.003636301710055425, -0.01770846201823308, 0.057165696357305236, -0.041318457860213056, 0.16586923255370215, -0.005357262320243395, 0.12051076957812676, 0.09396315308717582, 0.15146068970744425, 0.010525578328479942, 0.0999376905652193, 0.1564375410716121, 1.3094092252162786, 0.034280513162509754, -0.11668669489713815, 0.059873149945185736, -0.01802946111330619, -0.014437380318458263, -0.12791254099171895, -0.0373520002915309, 0.06580037938860747, -0.042328077798279434, -0.03751592467037531, 0.2698017731308937, -0.09126476785884453, -0.06338591357836357, -0.30800000176979947, -0.03191730437370447, -0.1435169245188053, 0.19774384338122147, 0.29688854114367413, -0.1658201487018512]       |\n",
            "|0     |Fri     |2   |[guy, give, free, gb, white, iphon, gs, pleas, contract, doesnt, run, till, jan, cant, afford, payg, one, lol]|[-0.1184873343962762, 0.0924628767081433, -0.0016723347620831595, 0.12006481597200036, -0.27614031180726467, -0.2628553898798095, 0.1120583787560463, 0.155562995829516, 0.15195738922597635, 0.18567527996169197, 0.10632608949931131, 0.029702441456417244, -3.114206509457694, 0.18265283273326027, -0.17727100083397496, -0.16681722748196787, -0.11674789841830109, 0.2696728888485167, -0.01475172789974345, -0.13647189115484556, 0.018297584261745214, 0.20415158374493736, 0.10576439483298196, 0.005403333033124606, -0.10887796421431833, -0.045554063438127436, 0.14408183108187383, -0.10211806216587622, -0.20211338893406922, -0.15288465974542, 0.031312221454249486, 0.08180488604638311, -0.28772944941495854, 0.0852525540524059, 0.14657728013116866, 0.03612105610469977, 0.08194127244253953, -0.09503114153631032, 0.11171121667656633, 0.06293398263450298, -0.6166161654724015, 0.34269144220484626, -0.022337622630099457, -0.11154634112285243, 0.02317994160370694, -0.313799113035202, -0.012722494908505015, -0.2737505046857728, -0.06579702590695685, 0.34781722641653484, -0.020717390049766336, -0.009678495530452993, -0.07514959814337392, 0.05257494954599275, 0.08747378126200703, 0.2049643855748905, 0.11073144380417135, 0.051354223448369235, -0.19645946307314766, -0.06781698551235928, 0.03498622045541803, 0.1517553348094225, 0.10577886551941952, 0.1471883331735929, -0.015250612878137164, 0.009685110921661058, -0.06576299832926856, 0.24579033462537658, 0.07215210764358441, -0.0062744904102550614, -0.030163426676558122, -0.10099579530975057, -0.03324639026282562, 0.10647373871567349, -0.08244644516768555, -0.003204272853003608, 0.025680623198341992, 0.13463777717616823, 0.03789162022035776, 0.002638195925909612, 1.2765809988809957, -0.10082410896817844, -0.15254411059949133, -0.21780660564804244, 0.13813577367303273, -0.09006311439184679, -0.2352193324930138, -0.08366555379082759, -0.05969716649916437, 0.19715989039589962, -0.2179617765876982, -0.08947972270349662, 0.09866705702410804, -0.05452066665101382, 0.24158394316004383, -0.25337310921814704, 0.062050221798320614, -0.009229797249039015, -0.05076511230112778, 0.053043777123093605] |\n",
            "|0     |Mon     |3   |[mayb, im, bitter, im, begin, find, follow, celeb, tweet, depress, work, time]                                |[-0.2638976701224844, 0.21049066400155425, -0.23945791631316146, -0.1891413318614165, -0.1555959234635035, 0.42089116511245567, 0.3670008306701978, -0.05825691514958938, 0.023799251144131024, 0.41914616199210286, -0.21460999734699726, -0.3482818305492401, -3.607433279355367, -0.04813491723810633, -0.3313670875504613, 0.09499783099939425, 0.1557608333726724, -0.0029975886767109237, -0.3667664999763171, -0.21920674480497837, 0.1164162470959127, -0.020207499464352924, -0.3188449203347166, 0.0019790815810362497, -0.25445516717930633, -0.20167024495700994, 0.12311884085647762, -0.17640542099252343, -0.17462936743201377, -0.09270058075586955, -0.10016358302285273, -0.05775766276443998, -0.2023406793596223, -0.08573416930933793, 0.05159782152622938, -0.010801914458473524, 0.2443208328137795, -0.05029339007645225, 0.04944725024203459, 0.17180417602260908, -0.7676466579238573, 0.03009966512521108, 0.3175074979662895, -0.15835956464676806, -0.05023090939115112, 0.023915169139703114, -0.05184749513864517, -0.29424932909508544, -0.33539924832681817, 0.4024961634228627, -0.028447168568770092, 0.0013748354588945706, -0.060032172594219446, -0.1738620043421785, 0.204735421265165, -0.03788498016850402, -0.34578516411905486, -4.774996389945348E-4, 0.15818500518798828, 0.14373916573822498, 0.06376875199687977, -0.12374733528122306, 0.2187392506748438, 0.040094830095767975, -0.179272375574025, -0.17017007052587965, 0.20726890970642367, 0.26041950347522896, -0.11635932993764679, 0.17930100035543242, -0.2339191666493813, 0.2167123400916656, 0.3153066684802373, -0.03245416718224684, 0.16158083143333593, 0.23946166162689528, 0.02375224178346495, -0.08825666457414627, 0.14738336480028616, -0.06953373442714413, 1.1077750852952402, 0.1543241689602534, -0.27985025973369676, -0.26710616797208786, 0.3520274894932906, 0.21946082931632796, -0.0451834953079621, -0.1529807361851757, -0.05713104906802376, -0.2190847508609295, -3.261830036838849E-4, 0.027896250675742824, 0.011253833305090666, 0.05257541251679262, -0.07263363525271416, -0.09299040546951194, -0.2687735079477231, 0.26949859131127596, 0.43063592181230587, -0.09658109031928082]          |\n",
            "|0     |Fri     |4   |[sim, realli, beauti, prototyp, scari, lol, play, yukki, think, prototyp, one]                                |[0.0119884539056908, 0.004374541342258453, 0.12243576500226151, 0.120395562145859, -0.07943090864203194, 0.042903725396503105, 0.006825817325575786, -0.08403518321839246, 0.12244418195702812, 0.12783081423152576, -0.29952090521427716, 0.004734272137284279, -2.0362136214971542, -0.017405181107195942, -0.022833730686794628, -0.14835446412590417, 0.07239545746283098, -0.06348072940653021, -0.03270700302991, 0.020303500223566185, 0.1789519893090156, 0.19734595464119178, 0.054290727796879684, -0.02281799776987596, -0.18574318238957363, -0.13839817182584244, 0.11994699981402267, -0.08053763752633875, -0.008198783299039033, -0.13016636060042816, 0.018851633098992435, -0.03673218393867666, 0.1555072611028498, 7.599057121710343E-4, -0.32109727642752905, 0.12593909014355054, 0.0574399127878926, -0.2657350924882022, 0.03364908762953498, 0.0013616918162866073, -0.4149908992377194, 0.07571472549303011, 0.12978640232573857, -0.034616392105817795, -0.1649183617396788, -0.007748998193578286, 0.11555308577689258, -0.02725363573567434, 0.036913183094425636, -0.03294000300494107, 0.02615918049758131, 0.15107754490930925, 0.08575436100363731, -0.06299145062538711, 0.08201945166696202, 0.07029172557998788, -0.15814172611995178, 0.17065973275087096, -0.04881909083236347, -0.06315227123824033, 0.10846107355742292, 0.0452051842585206, -0.07000336288051172, 0.1319241842085665, 0.05907105349681594, -0.05385417931459167, -0.2388985434716398, 0.1025133610449054, -0.0853673666715622, 0.15204681659286673, 0.023106637326153843, 0.1044373596933755, -0.15698200608180327, -0.11817301691255787, -0.23977526713331992, -0.21797545525160703, -0.09841391173276035, 0.16556845131245526, -0.08514709093353966, -1.674748279831626E-4, 0.4514208200641654, 0.150515905496749, -0.18851163306019522, -0.12651817940852858, 0.07648363709449768, 0.0014790920540690422, -0.15668380867943846, -0.26498000594702636, -0.07695036110552875, -0.05745827626775612, -0.01598018678751859, 0.03631154786456715, 0.015595183115113865, 0.014457094059749083, -0.017878274517980488, 0.030079180205410175, -0.042901183436201376, 0.05707173134115609, 0.09977563470602036, 0.02381382103670727]|\n",
            "|0     |Sun     |0   |[wait, wait, wait, go, church, omg, charact, isnt, enough]                                                    |[0.06820599734783173, 0.4609620057874256, 0.12477167033486897, 0.20342088407940334, -0.20840011268026298, -0.10744944463173549, 0.6024266613854302, 0.33211367370353806, 0.002817331709795528, 0.16650271865849695, -0.1362396656639046, -0.16756277903914452, -3.7738289369477167, 0.37847667104668087, -0.24083311524656084, -0.17365999933746126, 0.09449978907489115, 0.018611059782819614, -0.22983077747954261, -0.05048811063170433, -0.06150811641580529, 0.17862322243551412, -0.035866446793079376, 0.06446600208679835, 0.13032744659317863, 0.1627122147215737, 0.05035844672885206, -0.34622666074170005, 0.12580889049503538, -0.2557644446690877, -0.1352468869752354, 0.18878244432724184, -0.17660066899326113, -0.06591210514307022, -0.36225756174988216, 0.25502998961342704, 0.21806477506955466, -0.031023591342899535, 0.18068333135710823, 0.12140366683403651, -0.655516685711013, -0.14484260840496668, 0.25378244411614204, 0.030596165283997025, 0.033498884903060064, 0.23132889303896162, 0.36274556318918866, -0.23679422959685326, -0.20560844439185327, 0.4161645571390788, -0.25050777031315696, 0.2221611092487971, 0.24666533898562193, 0.019456115861733753, 0.0047861093448268045, -0.20404988527297974, 0.12595455762412813, 0.24592244459523094, 0.03419089193145434, 0.04241177853610781, 0.33831867741213906, 0.023872664405239954, 0.16990221871270073, -0.28050000468889874, 0.05186255193418927, -0.07704000257783467, -0.16037456277343962, 0.06183288743098577, -0.20834822124905056, 0.14498222205373976, 0.1204522235525979, 0.26423778302139705, 0.309302445087168, 0.07964532905154759, -0.03925866447389126, 0.1282403324213293, 0.14235777325100368, 0.16223722447951636, 0.16764666471216413, 0.1288655565844642, 1.3279877735508814, -0.08798900163835949, -0.1903187744319439, -0.19609677439762485, 0.36546288554867107, -0.05891255413492521, -0.24453366547822952, -0.18803488297594917, 0.14501221974690756, -0.04319295452700721, -0.11897688607374828, 0.24518399933973947, 0.2084815555976497, -0.01948847335168264, -0.15923522619737518, 0.08423655645714866, 0.15366588595012823, 0.21562755521800783, 0.1666707748340236, -0.2672921096285184]                      |\n",
            "|0     |Tue     |1   |[omgsh, d, im, hog, agre, never, ever]                                                                        |[-0.15124839371336357, 0.40199714047568186, 0.2752362843602896, -0.01665658480487764, -0.09938428870269231, 0.005095711776188442, 0.03390299901366234, -0.14393856908593858, 0.14098643085786275, 0.2239985689520836, 6.22183084487915E-4, 0.14907157394502843, -2.905489981174469, 0.22247656993567944, 0.01984857129199164, 0.08319571614265442, 0.17183228795017516, -0.07349943316408566, -0.3766004246260439, 0.041360144902552874, 0.11262685592685427, 0.3330499955586025, 0.008512855640479497, 0.054465859330126216, 0.16212728513138636, -0.22576143060411727, 0.10060786030122212, -0.07463285539831434, -0.1273387178246464, -0.20474381571901695, 0.054983432803835185, -0.13883349785049046, 0.14245119867181139, -0.10235200383301292, -0.2902519889175892, 0.04273799806833267, 0.05966056936553547, -5.180026803697858E-4, 0.011670853410448347, 0.04916142778737204, -0.4683518462947437, 0.08198457197951418, 0.1862300011728491, -0.028997624924938594, -0.15302100471620048, 0.020296289452484677, 0.05765428287642343, -0.20306143377508437, 0.2371955726827894, 0.0748442794595446, -0.24112714614186967, 0.4001184308103153, 0.08385385679347175, -0.10816243184464318, 0.0044765738504273555, -0.14106000108378275, -0.0810127119932856, 0.06426713722092765, -2.4142861366271973E-4, -0.07878898729437164, -0.14664799720048904, -0.1363797155874116, -0.17556285339274577, -0.01371143332549504, 0.1307642843042101, -0.10379571574074882, -0.09750914440623351, 0.25906000658869743, -0.0708525755575725, 0.3703192908849035, -0.06650138084244515, -0.016343430216823305, 0.12362828478217125, -0.3272742617077061, 0.024324857762881687, -0.10025585150080067, -0.10894300136715174, 0.07324786111712456, -0.025762420679841722, 0.1406224433864866, 0.9291928538254329, 0.33376571110316683, -0.5109111476423485, -0.024969139535512243, 0.31932143015520914, 0.3245675736772163, -0.22224557186876023, -0.4345628576619284, -0.09204814263752528, 0.06966742580490452, -0.2184665666094848, 0.4422385735171182, 0.18641285598278046, 0.06633956810193402, -0.22044414335063525, -0.058267919130490294, -0.21035123490063207, -0.038104285086904256, 0.4443542872156416, -0.14930142888001033]          |\n",
            "+------+--------+----+--------------------------------------------------------------------------------------------------------------+---------------------------------------------------------------------------------------------------------------------------------------------------------------------------------------------------------------------------------------------------------------------------------------------------------------------------------------------------------------------------------------------------------------------------------------------------------------------------------------------------------------------------------------------------------------------------------------------------------------------------------------------------------------------------------------------------------------------------------------------------------------------------------------------------------------------------------------------------------------------------------------------------------------------------------------------------------------------------------------------------------------------------------------------------------------------------------------------------------------------------------------------------------------------------------------------------------------------------------------------------------------------------------------------------------------------------------------------------------------------------------------------------------------------------------------------------------------------------------------------------------------------------------------------------------------------------------------------------------------------------------------------------------------------------------------------------------------------------------------------------------------------------------------------------------------------------------------------------------------------------------------------------------------------------------------------------------------------------------------------------------------------------------------------------------------------------------------------------------------------------------------------------------------------------------------------------------------------------------------+\n",
            "only showing top 7 rows\n",
            "\n"
          ]
        }
      ],
      "source": [
        "extractor_udf = udf(lambda tokens: [[float(x) for x in word2vector[token]] if token in word2vector else [float(0.0)]*word2vector[\"tweet\"].shape[0] for token in tokens], ArrayType((ArrayType(FloatType()))))\n",
        "\n",
        "avg_embedding_udf = udf(lambda x :[float(y) for y in np.mean(x, axis = 0)])\n",
        "\n",
        "tweets_embedded = tweets_df.withColumn(\"tweet_embeddings\", extractor_udf(\"terms_stemmed\"))\n",
        "tweets_embedded = tweets_embedded.withColumn(\"tweet_embeddings\", avg_embedding_udf(\"tweet_embeddings\"))\n",
        "\n",
        "tweets_embedded.printSchema()\n",
        "tweets_embedded.show(7, truncate = False)\n"
      ]
    },
    {
      "cell_type": "markdown",
      "metadata": {
        "id": "KbTIOB_ref7U"
      },
      "source": [
        "### Conversion from `ArrayType( ArrayType( Float() ) )` to `VectorUDT()`"
      ]
    },
    {
      "cell_type": "code",
      "execution_count": 29,
      "metadata": {
        "id": "2t-3-JrtfCtC"
      },
      "outputs": [],
      "source": [
        "from pyspark.ml.linalg import Vectors, VectorUDT\n",
        "\n",
        "to_vector_udf = udf(lambda embedded: Vectors.dense(embedded), VectorUDT())\n",
        "\n",
        "tweets_embedded = tweets_embedded.withColumn(\"tweet_embeddings\", to_vector_udf(tweets_embedded.tweet_embeddings))\n"
      ]
    },
    {
      "cell_type": "markdown",
      "metadata": {
        "id": "hdjs_CoYOWBu"
      },
      "source": [
        "---\n",
        "## **Train and Test setup**"
      ]
    },
    {
      "cell_type": "code",
      "execution_count": 30,
      "metadata": {
        "id": "FxAMJ3ziO3g1"
      },
      "outputs": [],
      "source": [
        "#tweets_embedded.cache()\n",
        "\n",
        "(train_df, test_df) = tweets_embedded.randomSplit([0.8, 0.2], seed=1234)\n",
        "\n",
        "train_df_count = train_df.count()"
      ]
    },
    {
      "cell_type": "markdown",
      "metadata": {
        "id": "W0mbRp_58Bdp"
      },
      "source": [
        "### **Assign weights** to unbalanced columns"
      ]
    },
    {
      "cell_type": "code",
      "execution_count": 31,
      "metadata": {
        "id": "thWzMiDn8Enr"
      },
      "outputs": [],
      "source": [
        "# calculate the weights for the train set\n",
        "class_weights_train = train_df.groupBy('target').count().withColumn('class_weight_train', 1 / col('count'))\n",
        "hour_weights_train = train_df.groupBy('hour').count().withColumn('hour_weight_train', col('count') / train_df_count)\n",
        "day_weights_train = train_df.groupBy('day_name').count().withColumn('day_weight_train', col('count') / train_df_count)\n",
        "\n",
        "# join the weights\n",
        "train_df_weighted = train_df.join(class_weights_train, 'target', 'left').join(hour_weights_train, 'hour', 'left').join(day_weights_train, 'day_name', 'left')\n",
        "\n",
        "# fill null values in case of missing values\n",
        "train_df_weighted = train_df_weighted.fillna(0.0, subset=['class_weight_train', 'hour_weight_train', 'day_weight_train'])\n",
        "\n",
        "train_df_weighted = train_df_weighted.withColumn('terms_stemmed', col('terms_stemmed'))\n",
        "train_df_weighted = train_df_weighted.withColumn('tweet_embeddings', col('tweet_embeddings'))\n",
        "\n",
        "# delete \"count\" columns\n",
        "#  cannot delate columns with the same name, so I rename them\n",
        "df_cols = train_df_weighted.columns\n",
        "\n",
        "duplicate_col_index = [idx for idx, val in enumerate(df_cols) if val in df_cols[:idx]]\n",
        "\n",
        "cols_to_remove = list()\n",
        "\n",
        "for i in duplicate_col_index:\n",
        "    df_cols[i] = 'count_'+ str(i)\n",
        "    cols_to_remove.append(col(df_cols[i]))\n",
        "\n",
        "train_df_weighted = train_df_weighted.toDF(*df_cols)\n",
        "\n",
        "cols_to_remove.append(col(\"count\"))\n",
        "train_df_weighted = train_df_weighted.drop(*cols_to_remove)\n",
        "\n",
        "#train_df_weighted.show(5)\n"
      ]
    },
    {
      "cell_type": "markdown",
      "metadata": {
        "id": "YY6nxAOOcoeZ"
      },
      "source": [
        "### Combine weighted columns"
      ]
    },
    {
      "cell_type": "code",
      "execution_count": 32,
      "metadata": {
        "id": "a41p_MOVcl7_"
      },
      "outputs": [],
      "source": [
        "from pyspark.ml.feature import VectorAssembler, CountVectorizer\n",
        "\n",
        "train_df_weighted = train_df_weighted.withColumn(\"combined_weight\", train_df_weighted[\"class_weight_train\"] * train_df_weighted[\"hour_weight_train\"] * train_df_weighted[\"day_weight_train\"])\n",
        "test_df = test_df.withColumn(\"combined_weight\", lit(1.0))\n",
        "\n",
        "assembler = VectorAssembler(inputCols = [\"hour\", \"day_name\", \"tweet_embeddings\"], outputCol = \"features\")\n",
        "\n",
        "# before the VectorAssembler I need to handle the string data \"day_name\"\n",
        "days_map = {\"Mon\": 1, \"Tue\": 2, \"Wed\": 3, \"Thu\": 4, \"Fri\": 5, \"Sat\": 6, \"Sun\": 7}\n",
        "\n",
        "convert_day_name_udf = udf(lambda day_name : days_map[day_name], IntegerType())\n",
        "\n",
        "train_df_weighted = train_df_weighted.withColumn(\"day_name\", convert_day_name_udf(train_df_weighted.day_name))\n",
        "test_df = test_df.withColumn(\"day_name\", convert_day_name_udf(test_df.day_name))\n",
        "\n",
        "# apply the VectorAssembler\n",
        "train_df_weighted = assembler.transform(train_df_weighted).select(\"features\", \"target\", \"combined_weight\")\n",
        "test_df = assembler.transform(test_df).select(\"features\", \"target\", \"combined_weight\")"
      ]
    },
    {
      "cell_type": "markdown",
      "metadata": {
        "id": "I85VDce0YJnh"
      },
      "source": [
        "## **Load ready-to-use dataset**\n",
        "Load train and test cleaned and preprocessed datasetes `.parquet`"
      ]
    },
    {
      "cell_type": "code",
      "execution_count": 33,
      "metadata": {
        "id": "ZFJ_Hw4yYPlP"
      },
      "outputs": [],
      "source": [
        "#from google.colab import files\n",
        "\n",
        "#train_dataset_parquet = files.upload()\n",
        "#test_dataset_parquet = files.upload()"
      ]
    },
    {
      "cell_type": "markdown",
      "metadata": {
        "id": "mv3hLOsbqpw8"
      },
      "source": [
        "## **Logistic Regression**"
      ]
    },
    {
      "cell_type": "code",
      "execution_count": 34,
      "metadata": {
        "id": "3Ddp3HKNqst5"
      },
      "outputs": [],
      "source": [
        "from pyspark.ml.classification import LogisticRegression\n",
        "\n",
        "lr = LogisticRegression(featuresCol='features', labelCol='target', weightCol='combined_weight')\n",
        "lr_model = lr.fit(train_df_weighted)\n",
        "\n",
        "predictions = lr_model.transform(test_df)"
      ]
    },
    {
      "cell_type": "markdown",
      "source": [
        "### Save model"
      ],
      "metadata": {
        "id": "FN2-tY1RpHuX"
      }
    },
    {
      "cell_type": "code",
      "source": [
        "lr_model.save(\"LogisticRegressionModel\")"
      ],
      "metadata": {
        "id": "I5WWQ728fQfI"
      },
      "execution_count": 41,
      "outputs": []
    },
    {
      "cell_type": "markdown",
      "source": [
        "### Calculate accuracy"
      ],
      "metadata": {
        "id": "rXkZUShupK5l"
      }
    },
    {
      "cell_type": "code",
      "source": [
        "correct_predictions = predictions.filter(predictions.prediction == predictions.target).count()\n",
        "total_predictions = predictions.count()\n",
        "\n",
        "accuracy = correct_predictions / total_predictions\n",
        "print(\"Accuracy:\", accuracy)"
      ],
      "metadata": {
        "colab": {
          "base_uri": "https://localhost:8080/"
        },
        "id": "Or4tA2eRjnHu",
        "outputId": "82a118c5-f632-424d-94f9-3851cb6d048d"
      },
      "execution_count": 40,
      "outputs": [
        {
          "output_type": "stream",
          "name": "stdout",
          "text": [
            "Accuracy: 0.7135691175703178\n"
          ]
        }
      ]
    },
    {
      "cell_type": "markdown",
      "metadata": {
        "id": "DGRnV9GJAslh"
      },
      "source": [
        "---\n",
        "## Verify data"
      ]
    },
    {
      "cell_type": "code",
      "execution_count": 35,
      "metadata": {
        "id": "lEO6FUTeAwF9"
      },
      "outputs": [],
      "source": [
        "#tweets_embedded.printSchema()\n",
        "#tweets_embedded.show(10)\n",
        "\n",
        "#print(\"tot = \", tweets_embedded.count())"
      ]
    },
    {
      "cell_type": "markdown",
      "metadata": {
        "id": "ZpD2gArbjybC"
      },
      "source": [
        "# TODO\n",
        "* **Are useful tokens with len==1 ?**\n",
        "* **chek udf validity for month/day mapping**\n",
        "* **validation set?**"
      ]
    },
    {
      "cell_type": "code",
      "execution_count": 35,
      "metadata": {
        "id": "tAb77yZ9fzMG"
      },
      "outputs": [],
      "source": []
    },
    {
      "cell_type": "code",
      "execution_count": 35,
      "metadata": {
        "id": "pafL7Li0jyXW"
      },
      "outputs": [],
      "source": []
    }
  ],
  "metadata": {
    "colab": {
      "machine_shape": "hm",
      "provenance": [],
      "include_colab_link": true
    },
    "kernelspec": {
      "display_name": "Python 3",
      "name": "python3"
    }
  },
  "nbformat": 4,
  "nbformat_minor": 0
}