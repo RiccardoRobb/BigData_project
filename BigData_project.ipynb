{
  "cells": [
    {
      "cell_type": "markdown",
      "metadata": {
        "id": "view-in-github",
        "colab_type": "text"
      },
      "source": [
        "<a href=\"https://colab.research.google.com/github/RiccardoRobb/BigData_project/blob/main/BigData_project.ipynb\" target=\"_parent\"><img src=\"https://colab.research.google.com/assets/colab-badge.svg\" alt=\"Open In Colab\"/></a>"
      ]
    },
    {
      "cell_type": "markdown",
      "metadata": {
        "id": "ydnT0-krmCTZ"
      },
      "source": [
        "# **Twitter sentiment analysis**\n",
        "### BigData 2023 project\n",
        "\n",
        "[@Author](https://github.com/RiccardoRobb): Riccardo Ruberto 1860609"
      ]
    },
    {
      "cell_type": "markdown",
      "metadata": {
        "id": "TaC0pFVy5ha-"
      },
      "source": [
        "---\n",
        "## **Inital configuration**\n",
        "### PySpark installation"
      ]
    },
    {
      "cell_type": "code",
      "execution_count": 1,
      "metadata": {
        "colab": {
          "base_uri": "https://localhost:8080/"
        },
        "id": "P9pfBiCD4wMp",
        "outputId": "853fbb09-1aca-4f48-d8f3-9eaa5e2c1ac8"
      },
      "outputs": [
        {
          "output_type": "stream",
          "name": "stdout",
          "text": [
            "Looking in indexes: https://pypi.org/simple, https://us-python.pkg.dev/colab-wheels/public/simple/\n",
            "Requirement already satisfied: pyspark in /usr/local/lib/python3.10/dist-packages (3.4.0)\n",
            "Requirement already satisfied: py4j==0.10.9.7 in /usr/local/lib/python3.10/dist-packages (from pyspark) (0.10.9.7)\n"
          ]
        }
      ],
      "source": [
        "! pip install pyspark"
      ]
    },
    {
      "cell_type": "markdown",
      "metadata": {
        "id": "r5rRWp3R5xKn"
      },
      "source": [
        "### Useful imports"
      ]
    },
    {
      "cell_type": "code",
      "execution_count": 2,
      "metadata": {
        "id": "DZyT2VD7ZMb6"
      },
      "outputs": [],
      "source": [
        "import pyspark\n",
        "from pyspark.sql import *\n",
        "from pyspark.sql.types import *\n",
        "from pyspark.sql.functions import *\n",
        "from pyspark import SparkContext, SparkConf"
      ]
    },
    {
      "cell_type": "markdown",
      "metadata": {
        "id": "sMZu4CcD51-e"
      },
      "source": [
        "### Spark configuration"
      ]
    },
    {
      "cell_type": "code",
      "execution_count": 3,
      "metadata": {
        "id": "Zc_wOE8Fl7aN"
      },
      "outputs": [],
      "source": [
        "# Create the session\n",
        "conf = SparkConf().\\\n",
        "                set('spark.ui.port', \"8000\").\\\n",
        "                set('spark.executor.memory', '4G').\\\n",
        "                set('spark.driver.memory', '45G').\\\n",
        "                set('spark.driver.maxResultSize', '10G').\\\n",
        "                setAppName(\"Twitter sentiment analysis\").\\\n",
        "                setMaster(\"local[*]\")\n",
        "\n",
        "# Create the context\n",
        "sc = pyspark.SparkContext(conf=conf)\n",
        "spark = SparkSession.builder.getOrCreate()"
      ]
    },
    {
      "cell_type": "markdown",
      "metadata": {
        "id": "VJSs9ejr58TM"
      },
      "source": [
        "### Check spark configurations"
      ]
    },
    {
      "cell_type": "code",
      "execution_count": 4,
      "metadata": {
        "colab": {
          "base_uri": "https://localhost:8080/",
          "height": 219
        },
        "id": "-rHsaeM75DvA",
        "outputId": "4997dd66-551a-40e7-d20a-0a2819c4a4a7"
      },
      "outputs": [
        {
          "output_type": "execute_result",
          "data": {
            "text/plain": [
              "<pyspark.sql.session.SparkSession at 0x7f8b86f40880>"
            ],
            "text/html": [
              "\n",
              "            <div>\n",
              "                <p><b>SparkSession - in-memory</b></p>\n",
              "                \n",
              "        <div>\n",
              "            <p><b>SparkContext</b></p>\n",
              "\n",
              "            <p><a href=\"http://3f3bb809a0c2:8000\">Spark UI</a></p>\n",
              "\n",
              "            <dl>\n",
              "              <dt>Version</dt>\n",
              "                <dd><code>v3.4.0</code></dd>\n",
              "              <dt>Master</dt>\n",
              "                <dd><code>local[*]</code></dd>\n",
              "              <dt>AppName</dt>\n",
              "                <dd><code>Twitter sentiment analysis</code></dd>\n",
              "            </dl>\n",
              "        </div>\n",
              "        \n",
              "            </div>\n",
              "        "
            ]
          },
          "metadata": {},
          "execution_count": 4
        }
      ],
      "source": [
        "spark"
      ]
    },
    {
      "cell_type": "code",
      "execution_count": 5,
      "metadata": {
        "colab": {
          "base_uri": "https://localhost:8080/"
        },
        "id": "hTx8THde5L9T",
        "outputId": "232f1581-45c2-4da3-fd9f-e632b03a513a"
      },
      "outputs": [
        {
          "output_type": "execute_result",
          "data": {
            "text/plain": [
              "[('spark.app.startTime', '1687451462806'),\n",
              " ('spark.driver.memory', '45G'),\n",
              " ('spark.driver.port', '32923'),\n",
              " ('spark.executor.id', 'driver'),\n",
              " ('spark.ui.port', '8000'),\n",
              " ('spark.sql.warehouse.dir', 'file:/content/spark-warehouse'),\n",
              " ('spark.driver.maxResultSize', '10G'),\n",
              " ('spark.driver.extraJavaOptions',\n",
              "  '-Djava.net.preferIPv6Addresses=false -XX:+IgnoreUnrecognizedVMOptions --add-opens=java.base/java.lang=ALL-UNNAMED --add-opens=java.base/java.lang.invoke=ALL-UNNAMED --add-opens=java.base/java.lang.reflect=ALL-UNNAMED --add-opens=java.base/java.io=ALL-UNNAMED --add-opens=java.base/java.net=ALL-UNNAMED --add-opens=java.base/java.nio=ALL-UNNAMED --add-opens=java.base/java.util=ALL-UNNAMED --add-opens=java.base/java.util.concurrent=ALL-UNNAMED --add-opens=java.base/java.util.concurrent.atomic=ALL-UNNAMED --add-opens=java.base/sun.nio.ch=ALL-UNNAMED --add-opens=java.base/sun.nio.cs=ALL-UNNAMED --add-opens=java.base/sun.security.action=ALL-UNNAMED --add-opens=java.base/sun.util.calendar=ALL-UNNAMED --add-opens=java.security.jgss/sun.security.krb5=ALL-UNNAMED -Djdk.reflect.useDirectMethodHandle=false'),\n",
              " ('spark.app.name', 'Twitter sentiment analysis'),\n",
              " ('spark.rdd.compress', 'True'),\n",
              " ('spark.serializer.objectStreamReset', '100'),\n",
              " ('spark.master', 'local[*]'),\n",
              " ('spark.submit.pyFiles', ''),\n",
              " ('spark.submit.deployMode', 'client'),\n",
              " ('spark.driver.host', '3f3bb809a0c2'),\n",
              " ('spark.app.submitTime', '1687451462540'),\n",
              " ('spark.executor.memory', '4G'),\n",
              " ('spark.ui.showConsoleProgress', 'true'),\n",
              " ('spark.app.id', 'local-1687451465264'),\n",
              " ('spark.executor.extraJavaOptions',\n",
              "  '-Djava.net.preferIPv6Addresses=false -XX:+IgnoreUnrecognizedVMOptions --add-opens=java.base/java.lang=ALL-UNNAMED --add-opens=java.base/java.lang.invoke=ALL-UNNAMED --add-opens=java.base/java.lang.reflect=ALL-UNNAMED --add-opens=java.base/java.io=ALL-UNNAMED --add-opens=java.base/java.net=ALL-UNNAMED --add-opens=java.base/java.nio=ALL-UNNAMED --add-opens=java.base/java.util=ALL-UNNAMED --add-opens=java.base/java.util.concurrent=ALL-UNNAMED --add-opens=java.base/java.util.concurrent.atomic=ALL-UNNAMED --add-opens=java.base/sun.nio.ch=ALL-UNNAMED --add-opens=java.base/sun.nio.cs=ALL-UNNAMED --add-opens=java.base/sun.security.action=ALL-UNNAMED --add-opens=java.base/sun.util.calendar=ALL-UNNAMED --add-opens=java.security.jgss/sun.security.krb5=ALL-UNNAMED -Djdk.reflect.useDirectMethodHandle=false')]"
            ]
          },
          "metadata": {},
          "execution_count": 5
        }
      ],
      "source": [
        "sc._conf.getAll()"
      ]
    },
    {
      "cell_type": "markdown",
      "metadata": {
        "id": "qrHRiI0C-jDI"
      },
      "source": [
        "---\n",
        "## Load dataset [***Sentiment140***]\n",
        "### Download dataset"
      ]
    },
    {
      "cell_type": "code",
      "execution_count": 6,
      "metadata": {
        "colab": {
          "base_uri": "https://localhost:8080/"
        },
        "id": "zayTBDQL98iG",
        "outputId": "62399e93-47bd-44a3-a708-fff992abd386"
      },
      "outputs": [
        {
          "output_type": "stream",
          "name": "stdout",
          "text": [
            "--2023-06-22 16:31:09--  https://raw.githubusercontent.com/RiccardoRobb/BigData_project/main/Sentiment140.zip\n",
            "Resolving raw.githubusercontent.com (raw.githubusercontent.com)... 185.199.108.133, 185.199.109.133, 185.199.110.133, ...\n",
            "Connecting to raw.githubusercontent.com (raw.githubusercontent.com)|185.199.108.133|:443... connected.\n",
            "HTTP request sent, awaiting response... 200 OK\n",
            "Length: 84855679 (81M) [application/zip]\n",
            "Saving to: ‘Sentiment140.zip’\n",
            "\n",
            "Sentiment140.zip    100%[===================>]  80.92M   223MB/s    in 0.4s    \n",
            "\n",
            "2023-06-22 16:31:09 (223 MB/s) - ‘Sentiment140.zip’ saved [84855679/84855679]\n",
            "\n",
            "Archive:  ./Sentiment140.zip\n",
            "  inflating: training.1600000.processed.noemoticon.csv  \n"
          ]
        }
      ],
      "source": [
        "! wget https://raw.githubusercontent.com/RiccardoRobb/BigData_project/main/Sentiment140.zip\n",
        "\n",
        "! unzip \"./*.zip\" && rm *.zip\n",
        "! mv training.1600000.processed.noemoticon.csv train140.csv"
      ]
    },
    {
      "cell_type": "markdown",
      "metadata": {
        "id": "hAbLzmUGXNu_"
      },
      "source": [
        "### Create data frame [***Sentiment140***]\n",
        "1600000 tweets"
      ]
    },
    {
      "cell_type": "code",
      "execution_count": 7,
      "metadata": {
        "id": "e7UAiEc-_GEv"
      },
      "outputs": [],
      "source": [
        "schema = StructType([ \\\n",
        "    StructField(\"target\",IntegerType(),True), \\\n",
        "    StructField(\"id\",LongType(),True), \\\n",
        "    StructField(\"full_date\",StringType(),True), \\\n",
        "    StructField(\"flag\", StringType(), True), \\\n",
        "    StructField(\"user\", StringType(), True), \\\n",
        "    StructField(\"text\", StringType(), True) \\\n",
        "  ])\n",
        "\n",
        "df = spark.read.csv('./train140.csv', schema=schema, header=\"false\")"
      ]
    },
    {
      "cell_type": "markdown",
      "metadata": {
        "id": "NUGsEwMyXR9d"
      },
      "source": [
        "---\n",
        "## **Inital cleaning**\n",
        "### Removal of unnecessary columns"
      ]
    },
    {
      "cell_type": "code",
      "execution_count": 8,
      "metadata": {
        "colab": {
          "base_uri": "https://localhost:8080/"
        },
        "id": "jfTVRLBRXTDx",
        "outputId": "5d1146cd-2cd0-4cb9-f3d2-276d26bfa061"
      },
      "outputs": [
        {
          "output_type": "stream",
          "name": "stdout",
          "text": [
            "1\n"
          ]
        }
      ],
      "source": [
        "# sentiment of the tweet is not affected by the \"user\"\n",
        "df = df.drop(\"user\")\n",
        "\n",
        "# verify \"flag\" utility\n",
        "print(df.select(countDistinct(\"flag\")).collect()[0][0])\n",
        "\n",
        "# \"flag\" has only one value == NO_QUERY, so I delete it\n",
        "df = df.drop(\"flag\")"
      ]
    },
    {
      "cell_type": "markdown",
      "metadata": {
        "id": "efsWAcIVXjxt"
      },
      "source": [
        "### From ***date*** to ***day_name***; ***hour***; ***date***"
      ]
    },
    {
      "cell_type": "code",
      "execution_count": 9,
      "metadata": {
        "id": "CnXFsS1rXsjI"
      },
      "outputs": [],
      "source": [
        "months_map = {\"Jan\": \"01\", \"Feb\": \"02\", \"Mar\": \"03\", \"Apr\": \"04\", \"May\": \"05\", \"Jun\": \"06\", \"Jul\": \"07\", \"Aug\": \"08\", \"Sep\": \"09\", \"Oct\": \"10\", \"Nov\": \"11\", \"Dec\": \"12\"}\n",
        "\n",
        "convert_date_udf = udf(lambda month_name : months_map[month_name], StringType())"
      ]
    },
    {
      "cell_type": "code",
      "execution_count": 10,
      "metadata": {
        "id": "FcXyz4aKg_ul"
      },
      "outputs": [],
      "source": [
        "split_col = pyspark.sql.functions.split(df['full_date'], ' ')\n",
        "\n",
        "df = df.withColumn(\"day_name\", split_col.getItem(0)) \\\n",
        "      .withColumn(\"hour\", split_col.getItem(3)) \\\n",
        "      .withColumn(\"date\", to_date( concat_ws(\"-\", split_col.getItem(2), convert_date_udf(split_col.getItem(1)), split_col.getItem(5)), \"dd-MM-yyyy\"))\n",
        "\n",
        "df = df.drop(\"full_date\")"
      ]
    },
    {
      "cell_type": "markdown",
      "metadata": {
        "id": "6CyYJJi59XKs"
      },
      "source": [
        "---\n",
        "## **Data analysis**\n",
        "### ***target*** values analisys"
      ]
    },
    {
      "cell_type": "code",
      "execution_count": 11,
      "metadata": {
        "colab": {
          "base_uri": "https://localhost:8080/"
        },
        "id": "b1JWoNnM9k4k",
        "outputId": "02ab11f6-d7d8-4f7e-830d-832ca5b58734"
      },
      "outputs": [
        {
          "output_type": "stream",
          "name": "stdout",
          "text": [
            "+------+\n",
            "|target|\n",
            "+------+\n",
            "|     4|\n",
            "|     0|\n",
            "+------+\n",
            "\n"
          ]
        }
      ],
      "source": [
        "df.select(\"target\").distinct().show()\n",
        "# \"target\" value is or 0 or 4"
      ]
    },
    {
      "cell_type": "code",
      "execution_count": 12,
      "metadata": {
        "colab": {
          "base_uri": "https://localhost:8080/"
        },
        "id": "ehZD6TQNAH6H",
        "outputId": "d3d57d8f-48b6-454d-b7d9-a20f858b06ca"
      },
      "outputs": [
        {
          "output_type": "stream",
          "name": "stdout",
          "text": [
            "Sad tweets =  800000\n",
            "Happy tweets =  800000\n"
          ]
        }
      ],
      "source": [
        "sad_tweets = df.filter(col(\"target\") == 0)\n",
        "happy_tweets = df.filter(col(\"target\") == 4)\n",
        "\n",
        "print(\"Sad tweets = \", sad_tweets.count())\n",
        "print(\"Happy tweets = \", happy_tweets.count())"
      ]
    },
    {
      "cell_type": "markdown",
      "metadata": {
        "id": "_n13xetpApkt"
      },
      "source": [
        "Sad tweets and happy tweets are balanced."
      ]
    },
    {
      "cell_type": "markdown",
      "metadata": {
        "id": "zW2CBtpkBIGM"
      },
      "source": [
        "### Time frame of interest"
      ]
    },
    {
      "cell_type": "code",
      "execution_count": 13,
      "metadata": {
        "colab": {
          "base_uri": "https://localhost:8080/"
        },
        "id": "fNQmo6WsBQDD",
        "outputId": "455bf886-0826-4634-a450-669f7224c016"
      },
      "outputs": [
        {
          "output_type": "stream",
          "name": "stdout",
          "text": [
            "Min date =  2009-04-06\n",
            "Max date =  2009-06-25\n"
          ]
        }
      ],
      "source": [
        "print(\"Min date = \", df.select(min(df.date)).collect()[0][0])\n",
        "print(\"Max date = \", df.select(max(df.date)).collect()[0][0])"
      ]
    },
    {
      "cell_type": "markdown",
      "metadata": {
        "id": "5PXQSmfOCezG"
      },
      "source": [
        "The time frame used is too small, datas were collected in 2 months.\n",
        "*Using data column will be useful only if we try to predict tweets written during the [2009-04-06, 2009-06-25] period.*\n",
        "\n",
        "### Better to delete the ***date*** column"
      ]
    },
    {
      "cell_type": "code",
      "execution_count": 14,
      "metadata": {
        "id": "gwpxRRdnDZrI"
      },
      "outputs": [],
      "source": [
        "df = df.drop(\"date\")"
      ]
    },
    {
      "cell_type": "markdown",
      "metadata": {
        "id": "DAE60S3iFRpF"
      },
      "source": [
        "---\n",
        "## **Data processing**\n",
        "### Case normalization"
      ]
    },
    {
      "cell_type": "code",
      "execution_count": 15,
      "metadata": {
        "id": "qSNd63XFTdlK"
      },
      "outputs": [],
      "source": [
        "# used for all columns to see if null values are present\n",
        "# df.filter(col(\"text\").isNull()).show()\n",
        "\n",
        "df = df.withColumn(\"text\", lower(col(\"text\")))"
      ]
    },
    {
      "cell_type": "markdown",
      "metadata": {
        "id": "qJSbjy6kTQEV"
      },
      "source": [
        "### Username and links removal"
      ]
    },
    {
      "cell_type": "code",
      "execution_count": 16,
      "metadata": {
        "id": "gSkQ5dCkGDJX"
      },
      "outputs": [],
      "source": [
        "import re\n",
        "\n",
        "# twitter ids can contain alphanumeric and '_' characters\n",
        "username_regex = r\"@[A-Za-z0-9_]+\"\n",
        "\n",
        "# http:// / https:// links\n",
        "link_regex1 = r\"https?://[^ ]+\"\n",
        "\n",
        "# www. links\n",
        "link_regex2 = r\"www.[^ ]+\"\n",
        "\n",
        "\n",
        "master_regex = r\"|\".join((username_regex, link_regex1, link_regex2))\n",
        "\n",
        "df = df.withColumn(\"text\", regexp_replace(df.text, master_regex, \"\"))"
      ]
    },
    {
      "cell_type": "markdown",
      "metadata": {
        "id": "tQNB7bpRaxIG"
      },
      "source": [
        "### Filter out punctual symbols"
      ]
    },
    {
      "cell_type": "code",
      "execution_count": 17,
      "metadata": {
        "id": "6ILeqT4Ha22N"
      },
      "outputs": [],
      "source": [
        "df = df.withColumn(\"text\", regexp_replace(df.text, \"[^a-zA-Z\\s]\", \"\"))"
      ]
    },
    {
      "cell_type": "markdown",
      "metadata": {
        "id": "bwH-VfJXU71D"
      },
      "source": [
        "### Trimming"
      ]
    },
    {
      "cell_type": "code",
      "execution_count": 18,
      "metadata": {
        "id": "NSeeMi1QU-nN"
      },
      "outputs": [],
      "source": [
        "df = df.withColumn(\"text\", trim(col(\"text\")))\n",
        "\n",
        "# extra whitespaces\n",
        "df = df.withColumn(\"text\", trim(regexp_replace(df.text, \" +\", \" \")))"
      ]
    },
    {
      "cell_type": "markdown",
      "metadata": {
        "id": "We8YznuapL3U"
      },
      "source": [
        "### Tokenization"
      ]
    },
    {
      "cell_type": "code",
      "execution_count": 19,
      "metadata": {
        "id": "0p6KKbDhpOAF"
      },
      "outputs": [],
      "source": [
        "from pyspark.ml.feature import Tokenizer\n",
        "\n",
        "tokenizer = Tokenizer(inputCol = \"text\", outputCol = \"tokens\")\n",
        "tokens_df = tokenizer.transform(df)"
      ]
    },
    {
      "cell_type": "markdown",
      "metadata": {
        "id": "UOQCWCA3qo0h"
      },
      "source": [
        "### Stopwords removal"
      ]
    },
    {
      "cell_type": "code",
      "execution_count": 20,
      "metadata": {
        "id": "rnulIkVIqrtl"
      },
      "outputs": [],
      "source": [
        "from pyspark.ml.feature import StopWordsRemover\n",
        "\n",
        "stopwords_remover = StopWordsRemover(inputCol = \"tokens\", outputCol = \"terms\")\n",
        "terms_df = stopwords_remover.transform(tokens_df)"
      ]
    },
    {
      "cell_type": "markdown",
      "metadata": {
        "id": "e7fcc-7xrMB1"
      },
      "source": [
        "### Stemming"
      ]
    },
    {
      "cell_type": "code",
      "execution_count": 21,
      "metadata": {
        "id": "VOGvpgdirOOs"
      },
      "outputs": [],
      "source": [
        "from nltk.stem.snowball import SnowballStemmer\n",
        "\n",
        "stemmer = SnowballStemmer(language = \"english\")\n",
        "stemmer_udf = udf(lambda tokens: [stemmer.stem(token) for token in tokens], ArrayType(StringType()))\n",
        "\n",
        "\n",
        "tweets_df = terms_df.withColumn(\"terms_stemmed\", stemmer_udf(\"terms\"))"
      ]
    },
    {
      "cell_type": "markdown",
      "metadata": {
        "id": "vLK2YpWdsiaH"
      },
      "source": [
        "### Removal of unnecessary columns"
      ]
    },
    {
      "cell_type": "code",
      "execution_count": 22,
      "metadata": {
        "colab": {
          "base_uri": "https://localhost:8080/"
        },
        "id": "RUk2wyD9soOX",
        "outputId": "9ea0c753-cddf-4514-82e8-dc415117e219"
      },
      "outputs": [
        {
          "output_type": "stream",
          "name": "stdout",
          "text": [
            "+------+--------+--------+-----------------------------------------------------------------------------------+\n",
            "|target|day_name|hour    |terms_stemmed                                                                      |\n",
            "+------+--------+--------+-----------------------------------------------------------------------------------+\n",
            "|0     |Mon     |22:19:45|[awww, that, bummer, shoulda, got, david, carr, third, day, d]                     |\n",
            "|0     |Mon     |22:19:49|[upset, cant, updat, facebook, text, might, cri, result, school, today, also, blah]|\n",
            "|0     |Mon     |22:19:53|[dive, mani, time, ball, manag, save, rest, go, bound]                             |\n",
            "|0     |Mon     |22:19:57|[whole, bodi, feel, itchi, like, fire]                                             |\n",
            "|0     |Mon     |22:19:57|[behav, im, mad, cant, see]                                                        |\n",
            "|0     |Mon     |22:20:00|[whole, crew]                                                                      |\n",
            "|0     |Mon     |22:20:03|[need, hug]                                                                        |\n",
            "+------+--------+--------+-----------------------------------------------------------------------------------+\n",
            "only showing top 7 rows\n",
            "\n"
          ]
        }
      ],
      "source": [
        "tweets_df = tweets_df.drop(\"id\", \"text\", \"tokens\", \"terms\")\n",
        "\n",
        "tweets_df.show(7, truncate = False)"
      ]
    },
    {
      "cell_type": "markdown",
      "metadata": {
        "id": "uY_VvQBrKisT"
      },
      "source": [
        "---\n",
        "## **Word Vector representation**"
      ]
    },
    {
      "cell_type": "markdown",
      "metadata": {
        "id": "g5x_pMftKtt2"
      },
      "source": [
        "### Load **GloVe** embeddings"
      ]
    },
    {
      "cell_type": "code",
      "execution_count": 23,
      "metadata": {
        "id": "NnmMF2HMNcTc"
      },
      "outputs": [],
      "source": [
        "import gensim.downloader as api\n",
        "\n",
        "embeddings = 100\n",
        "word2vector = None\n",
        "\n",
        "if word2vector == None:\n",
        "  word2vector = api.load(\"glove-twitter-\" + str(embeddings))"
      ]
    },
    {
      "cell_type": "markdown",
      "source": [
        "### Mapping tokens - embeddings"
      ],
      "metadata": {
        "id": "T3epcP4Vc48E"
      }
    },
    {
      "cell_type": "code",
      "execution_count": 31,
      "metadata": {
        "colab": {
          "base_uri": "https://localhost:8080/"
        },
        "id": "QssWZt9MSB2C",
        "outputId": "bf18afdd-d711-4cdb-a1c9-3042b36ffdfb"
      },
      "outputs": [
        {
          "output_type": "stream",
          "name": "stdout",
          "text": [
            "root\n",
            " |-- target: integer (nullable = true)\n",
            " |-- day_name: string (nullable = true)\n",
            " |-- hour: string (nullable = true)\n",
            " |-- terms_stemmed: array (nullable = true)\n",
            " |    |-- element: string (containsNull = true)\n",
            " |-- tweet_embeddings: string (nullable = true)\n",
            "\n",
            "+------+--------+--------+-----------------------------------------------------------------------------------+-------------------------------------------------------------------------------------------------------------------------------------------------------------------------------------------------------------------------------------------------------------------------------------------------------------------------------------------------------------------------------------------------------------------------------------------------------------------------------------------------------------------------------------------------------------------------------------------------------------------------------------------------------------------------------------------------------------------------------------------------------------------------------------------------------------------------------------------------------------------------------------------------------------------------------------------------------------------------------------------------------------------------------------------------------------------------------------------------------------------------------------------------------------------------------------------------------------------------------------------------------------------------------------------------------------------------------------------------------------------------------------------------------------------------------------------------------------------------------------------------------------------------------------------------------------------------------------------------------------------------------------------------------------------------------------------------------------------------------------------------------------------------------------------------------------------------------------------------------------------------------------------------------------------------------------------------------------------------------------------------------------------------------------------------------------------------------------------------------------------------------------------------------------------------------------------------------------------------------------------------+\n",
            "|target|day_name|hour    |terms_stemmed                                                                      |tweet_embeddings                                                                                                                                                                                                                                                                                                                                                                                                                                                                                                                                                                                                                                                                                                                                                                                                                                                                                                                                                                                                                                                                                                                                                                                                                                                                                                                                                                                                                                                                                                                                                                                                                                                                                                                                                                                                                                                                                                                                                                                                                                                                                                                                                                                                                                 |\n",
            "+------+--------+--------+-----------------------------------------------------------------------------------+-------------------------------------------------------------------------------------------------------------------------------------------------------------------------------------------------------------------------------------------------------------------------------------------------------------------------------------------------------------------------------------------------------------------------------------------------------------------------------------------------------------------------------------------------------------------------------------------------------------------------------------------------------------------------------------------------------------------------------------------------------------------------------------------------------------------------------------------------------------------------------------------------------------------------------------------------------------------------------------------------------------------------------------------------------------------------------------------------------------------------------------------------------------------------------------------------------------------------------------------------------------------------------------------------------------------------------------------------------------------------------------------------------------------------------------------------------------------------------------------------------------------------------------------------------------------------------------------------------------------------------------------------------------------------------------------------------------------------------------------------------------------------------------------------------------------------------------------------------------------------------------------------------------------------------------------------------------------------------------------------------------------------------------------------------------------------------------------------------------------------------------------------------------------------------------------------------------------------------------------------+\n",
            "|0     |Mon     |22:19:45|[awww, that, bummer, shoulda, got, david, carr, third, day, d]                     |[0.18341409750282764, 0.22973500266671182, 0.3077669948339462, -0.12800339683890344, -0.04659460000693798, -0.3176806025207043, 0.033714601397514345, -0.04300030469894409, -0.18510460257530212, -0.028550693392753602, 0.05145351942628622, 0.1757762987166643, -3.065074014663696, 0.0065379031002521515, 0.29412800446152687, 0.012893804907798767, -0.011511999368667602, -0.10287509625777602, -0.18064099363982677, 0.06936489474028348, 0.14558269679546357, -0.028888402879238127, 0.15701200440526009, -0.09869939982891082, -0.0578862939029932, -0.26964920610189436, -0.11415250198915601, -0.201336401514709, -0.022866102494299413, -0.449944007396698, -0.009547001123428345, 0.03275950097013265, -0.018008746113628148, 0.09519140534102917, -0.12580299526453018, 0.2922820024192333, -0.09437049627304077, -0.1532458944944665, -0.004358298704028129, -0.009793395921587945, -0.27522390242666006, 0.027446196973323823, 0.17043499872088433, -0.12219189405441284, -0.2519004995003343, -0.18804960064589976, 0.09675170183181762, 0.08788909614086152, 0.27090639621019363, 0.2632757415063679, 0.08418129673227667, 0.051621997356414796, 0.11744120083749295, 0.06171140028163791, -0.09334720214828848, 0.10129189547151327, -0.016480200737714768, -0.015292602777481078, 0.09267689995467662, -0.10943046812899411, -0.13858600109815597, 0.012689985102042556, 0.07814560001716017, -0.019481499027460814, 0.006315994262695313, -0.08458817973732949, -0.2601489990949631, -0.11870189588516951, -0.023650799319148062, -0.03634049743413925, -0.11828250028192996, -0.013705506920814514, 0.37106809969991444, -0.14168080147355794, 0.166688397154212, -0.16373989656567572, 0.14390269480645657, 0.329220001026988, -0.2057715967297554, 0.23633020073175431, 1.4456989899277688, 0.14435680266469716, -0.010871094465255738, 0.0655686005949974, -0.08076600283384323, 0.06969099789857865, -0.10355508206412196, -0.0549032986164093, -4.099000245332718E-4, -0.03951610401272774, -0.12151350006461144, 0.09841400682926178, 0.0050306014716625215, 0.0062292953953146935, -0.2418337032198906, -0.023359300941228865, -0.13134079051669686, -0.07906820327043533, 0.18186639957129955, -0.07841471880674362]|\n",
            "|0     |Mon     |22:19:49|[upset, cant, updat, facebook, text, might, cri, result, school, today, also, blah]|[-0.0266941636800766, 0.38246966525912285, 0.033000976972592376, -0.19463824294507504, 0.02283489591597269, 0.18362184194847941, 0.1333678358544906, 0.08493799685190122, 0.136291672475636, 0.4515373302468409, -0.23753491401051482, -0.31750641980518896, -3.4547574693957963, 0.11040714437452455, -0.14964249730110168, -0.07031674931446712, -0.012728575617074966, -0.04490957905848821, -0.4607738363556564, -0.43782250583171844, -0.045761579647660255, 0.014836506297190985, -0.26651824824512005, 0.19938000539938608, -0.2738141690691312, -0.004846741755803426, -0.008125172927975655, -0.24498941951120892, -0.04780941619537771, -0.29491140398507315, 0.018531667689482372, 0.0379495844244957, -0.1732252131526669, -0.045427911604444184, -0.024189664827038843, 0.053821918865044914, 0.10471433587372303, -0.09570625641693671, 0.19622425199486315, -0.23146608440826336, -0.5980371621747812, 0.07158449750083189, 0.11168966558761895, -0.13045166929562887, 0.041021586706240974, -0.1579405882706245, 0.19681675266474485, 0.036977182389212736, -0.3722393314043681, 0.28434191170769435, 0.06927178900999327, 0.03714833315461874, -0.024000002692143124, -0.06431866763159633, 0.3678499994178613, 0.07594508367280166, -0.3236631651719411, -0.020574167370796204, 0.08174249778191249, -0.05774183594621718, -0.06544057931751013, 0.11303404941766833, 0.22947741532698274, 0.06887999533986051, -0.1159320855513215, 0.012844416312873363, 0.06399783868497859, 0.0183041753868262, -0.005909993002812068, -0.03509851323906332, -0.20944337100566676, 0.20813598778719702, 0.2762975840208431, -0.19098208968838057, 0.1868169972052177, -0.010633581938842932, 0.13567666709423065, 0.17178458658357462, -0.14569783055533966, -0.06332808205236991, 0.9384504073920349, -0.0097993283222119, -0.0352995910992225, -0.1858220809760193, 0.31867550623913604, 0.09272783265138666, 0.10338541741172473, 0.004793963162228465, -0.0035902513191103935, -0.3032680006387333, -0.2655666656792164, 0.20455433490375677, 0.1088449986030658, 0.06640282785519958, 0.14135641821970543, -0.1587917502814283, -0.16502442218673727, 0.2180629950016737, 0.02822535069814573, -0.034213168236116566]                 |\n",
            "|0     |Mon     |22:19:53|[dive, mani, time, ball, manag, save, rest, go, bound]                             |[-0.30684978225164944, 0.17427266327043375, 0.26788655751281315, -0.41448666403690976, 0.031006666728191905, 0.0793877790371577, 0.3176684495475557, 0.15663644754224354, 0.06847288190490669, 0.11675577693515354, -0.23720888959036934, -0.03293098136782646, -3.0814777347776623, 0.22151999672253928, -0.05480444265736474, -0.1549597846137153, -0.0645531134472953, 0.23720899514026111, -0.18076377734541893, -0.07200684253540304, -0.13615855615999964, 0.11323444214132097, 0.2822313255940874, -0.014141887840297487, 0.10127377923991945, -0.21806778344843122, 0.05476068632884158, 0.24822533710135353, 0.028345333205329046, -0.010329192297326194, 0.017723894988497097, 0.0238388923721181, -0.14100466503037346, 0.0867618860469924, 0.2677671055619915, 0.21698244661092758, 0.20896443559063804, -0.17661964981299308, 0.1325166616588831, 0.3039608916474713, -0.39791887833012474, -0.07722983290700035, -0.1869919995466868, -0.1818833334578408, 0.16300233657885757, 0.18954630734192002, 0.2845044434070587, -0.08661955760584937, 0.1486510005262163, 0.28009023678734796, 0.1547633380525642, -0.10187688883807924, 0.374714669254091, 0.1106066641708215, -0.043694335139460035, -0.07099518904255496, 0.11601321937309371, -0.030450885080628924, 0.0937004503276613, 0.20592910620487398, 0.1893887874773807, 0.33033667008082074, -0.1671032210191091, -0.03443155510144101, -0.13580272496781415, -0.19749333792262608, -0.00827333496676551, -0.08629466427697076, -0.10192556348111895, -0.054651106604271464, -0.21071610289315382, 0.13119344164927801, 0.2142859339300129, 0.16698722375763786, 0.13190554661883247, 0.03417866790874137, 0.28746921139665776, -0.2854296970439868, -0.08471854941712485, -0.11865099436706966, 1.0052978065278795, 0.020613334245151944, -0.09603250502712196, -0.27632888820436263, 0.19911777559253904, 0.18000821562276947, 0.08607100571195285, -0.2347183268931177, 0.08764177478022045, -0.021475665788683627, 0.25404897125230896, 0.06036144495010376, -0.06991210414303674, 0.015172822142226828, -0.04721089183456368, -0.08758742144952218, 0.07155410862631267, 0.37025510602527195, -0.043118217339118324, -0.04731408876573874]                             |\n",
            "|0     |Mon     |22:19:57|[whole, bodi, feel, itchi, like, fire]                                             |[-0.19439949467778206, 0.17411632680644593, -0.25891150658329326, 0.05244026806515952, -0.05166466968754927, 0.1382495053112507, 0.04793449491262436, -0.054890477641796075, -0.1910448429795603, 0.22559567292531332, -0.24683066302289566, 0.12292816489934921, -3.228043352564176, -0.018495168536901474, -0.40178878609246266, 0.38316090682928916, 0.06546359928324819, -0.2169472260090212, 0.09103667984406154, 0.30220332617561024, -0.20082532552381357, 0.21622333923975626, -0.21027666547646126, 1.5283065537611643E-4, 0.028669667119781177, 0.2388450006643931, 0.27361465369661647, 0.13774549836913744, 0.10488500694433849, -0.14290666580200195, 0.1450378457084298, 0.003827599653353294, 0.039687336422502995, -0.015886832028627396, -0.2110700011253357, -0.2068436567982038, -0.031475670635700226, 0.06635500490665436, -0.18608566435674825, 0.04871433538695177, -0.28610331813494366, 0.4953579977154732, -0.03967586671933532, -0.03301006695255637, 0.20098833305140337, 0.13332999994357428, 0.5641649936636289, 0.47972333679596585, -0.08669266756623983, 0.37918432351822656, -0.06700332773228486, 0.4044666786988576, 0.33873967578013736, -0.07290328208667536, 0.05210500458876292, -0.011498993262648582, 0.10912834604581197, -0.15308499770859876, 0.35737499594688416, 0.06284116829435031, -0.03609666104118029, 0.18484850352009138, -0.3317376704265674, -0.20468100532889366, 0.1333733362456163, -0.0032933255036671958, 0.11871499319871266, -0.18782983534038067, 0.2355940043926239, -0.18953332801659903, 0.30157333115736645, 0.14575016995271048, 0.005487332430978616, 0.16642999462783337, 0.0442216694355011, 0.17657999694347382, -0.08640349904696147, -0.10078050382435322, -0.08260500803589821, -0.24742583247522512, 1.02649666244785, -0.31715966885288555, -0.44712166984875995, 0.027083454576010507, -0.2371266633272171, 0.13122000203778347, 0.3203050034741561, -0.253518335831662, -0.02047983556985855, -0.08159383479505777, 0.2879221613208453, 0.21337999713917574, 0.21706166118383408, 0.05222019972279668, -0.15032000094652176, 0.338538333773613, -0.021192992106080055, -0.08563567015031974, 0.21944000820318857, -0.18949999939650297]                          |\n",
            "|0     |Mon     |22:19:57|[behav, im, mad, cant, see]                                                        |[-0.21843940168619155, 0.5047439962625504, -0.2139594003558159, 0.03399401009082794, -0.036200200766325, 0.2555562026798725, 0.17167919725179673, -0.09615659266710282, 0.017268001288175582, 0.6205659925937652, -0.3949021935462952, -0.2797562047839165, -3.7707039594650267, 0.0912878006696701, 0.074208003282547, -0.24071399569511415, 0.27361000180244444, 0.07766200006008148, -0.10371739454567433, -0.2163019984960556, 0.11877640485763549, 0.2720120020210743, -0.1541426010429859, 0.18990619778633117, -0.01578599214553833, -6.278067827224732E-4, 0.2730769976973534, 0.10466379821300506, -0.4515286578796804, -0.4578519999980927, -0.04903200175613165, -0.38158999681472777, 0.2133842917624861, -0.20198000520467757, -0.2758863940834999, -0.059996212273836134, -0.10280960127711296, 0.11516151931136846, 0.06653980035334825, 0.18053599298000336, -0.5923839926719665, -0.01305999606847763, 0.7241960048675538, 0.09716072105802595, -0.08907400369644165, 0.1926923893392086, 0.5916060119867325, 0.08894201219081879, -0.2734000086784363, 0.4697779923677444, -0.6144020065665246, 0.13400364080443977, 0.2531088002026081, -0.24964240193367004, 0.31334599256515505, -0.21059920266270638, -0.25905799865722656, 0.04773198962211609, 0.2956214025616646, -0.08592799976468087, 0.11839879676699638, 0.18359000384807586, 0.16208999156951903, -0.09436241015791894, -0.0925372026860714, 0.03458799123764038, 0.02336100786924362, 0.302605602145195, -0.17340799868106843, 0.141190005838871, -0.4525940090417862, 0.5014566078782081, 0.2547442015260458, -0.33261079229414464, -0.11984800323843955, -0.05867999792098999, 0.022347995638847352, 0.22775799930095672, 0.12329739779233932, -0.03332638218998909, 0.9794000148773193, 0.41441799998283385, -0.7746619999408721, -0.14665099792182446, 0.09414599537849426, 0.10110159404575825, 0.06784000396728515, -0.17743239924311638, 0.1588415890932083, 0.14081821404397488, -0.0778380036354065, 0.32355599403381347, 0.2884642120450735, 0.15711599886417388, 0.16435452383011578, 0.23361061309697106, -0.042023805901408195, 0.17381759881973266, 0.37345600724220274, -0.11410859748721122]                                                      |\n",
            "|0     |Mon     |22:20:00|[whole, crew]                                                                      |[0.01776999980211258, 0.19424500316381454, 0.18074001371860504, -0.528995007276535, 0.04023500019684434, 0.021650999784469604, 0.23284000158309937, 0.37201499938964844, -0.07006350019946694, -0.32194799929857254, 0.2352300062775612, 0.16071299463510513, -3.8077499866485596, 0.265578493475914, 0.22550310555379838, 0.3214559853076935, -0.12235999759286642, 0.054834991693496704, -0.3793399930000305, 0.3391899988055229, -0.3896999955177307, -0.14576999843120575, -0.05215000361204147, 0.04400999844074249, 0.1281074956059456, -0.004234999418258667, 0.12174650095403194, 0.023634999990463257, -0.3213550001382828, 0.2952350005507469, -0.5374950021505356, -0.2646399959921837, -0.31826499104499817, -0.08892500400543213, -0.1932149976491928, 0.15266501158475876, 0.60487499833107, -0.02751499880105257, -0.409766498953104, 0.02685999870300293, -0.33560000360012054, -0.013384000398218632, -0.07351250015199184, -0.3405650034546852, 0.044915005564689636, -0.015344992280006409, 0.19403499364852905, 0.34929001331329346, 0.30530500411987305, -0.17830199608579278, -0.3212850093841553, 0.4664900079369545, 0.23179499804973602, 0.1062001537065953, -0.5517449975013733, 0.20853500068187714, -0.478300005197525, -0.19897998869419098, 0.21276050619781017, -0.26437000185251236, -0.2664550021290779, -0.4319149851799011, 0.21668799966573715, 0.3250829894095659, -0.6168799996376038, -0.44649501144886017, -0.16475499421358109, 0.03793500084429979, 0.017491500824689865, -0.2588049992918968, -0.007760003209114075, -0.26982951164245605, 0.08700399845838547, 0.16976999677717686, 0.35541000962257385, 0.5602999925613403, 0.03706000745296478, -0.07021449878811836, 0.3543200045824051, -0.12148799560964108, 1.6828999519348145, -0.14826499670743942, -0.5995549857616425, 0.01735001802444458, -0.2438099905848503, -0.08683135116007179, -0.19199499487876892, 0.24426499754190445, 0.30919500440359116, 0.07876050285995007, 0.2173449955880642, 0.5154699832201004, 0.2021549940109253, -0.504610002040863, -0.24527999758720398, 0.12904050573706627, 0.12998599745333195, -0.047224998474121094, -0.12392500042915344, -0.04279499966651201]                                             |\n",
            "|0     |Mon     |22:20:03|[need, hug]                                                                        |[-0.10630649980157614, 0.6989350020885468, 0.10279500111937523, 0.383915014564991, -0.05296950228512287, -0.7165949940681458, 1.0936149954795837, 0.20138400793075562, -0.025534994900226593, -0.24946248903870583, 0.07798000052571297, -0.4004654921591282, -4.067650079727173, 0.3796600103378296, -0.6728399991989136, -0.2153250128030777, -0.17866500467061996, -0.2894799932837486, -0.41268500685691833, -0.2509950026869774, -0.338175006210804, 0.1360114999115467, -0.10040549747645855, 0.4396750032901764, 0.025930002331733704, 0.20220350287854671, 0.30980000644922256, 0.23643499612808228, -0.31252850964665413, -0.5616500079631805, 0.010525017976760864, -0.35841501504182816, -0.4727350026369095, 0.7311400175094604, 0.014018499292433262, 0.025624502450227737, 0.14802800118923187, -0.4825949966907501, 0.486955001950264, 0.42417900264263153, -0.5801400244235992, 0.017580002546310425, 0.1744449958205223, 0.2684500068426132, 0.21697050519287586, 0.2528049945831299, 0.12794849649071693, -0.23977000266313553, 0.17991499602794647, 0.33525000512599945, -0.35842499136924744, 0.28402500599622726, 0.5613449960947037, -0.23496998846530914, 0.17426501214504242, 0.4830849915742874, -0.0247499942779541, 0.47319498658180237, 0.3317749947309494, 0.20025049522519112, 0.05959499627351761, 0.0716400071978569, -0.02854899875819683, 0.45006000995635986, -0.06668000295758247, -0.6267600059509277, -0.56495501101017, -0.21432000398635864, -0.026969999074935913, 0.40865500271320343, 0.015990000683814287, 0.05567999184131622, -0.15681099332869053, -0.4708550125360489, 0.10630499571561813, -0.29983000457286835, -0.016253664420219138, -0.3633500039577484, -0.1838650032877922, 0.00893498957157135, 1.3069149851799011, -0.1377350017428398, -0.47056999802589417, -0.26691050454974174, 0.05795200169086456, 0.07643850054591894, -0.2647149935364723, 0.23689350113272667, 0.17927000671625137, 0.46825501322746277, -0.1063150018453598, -0.277489997446537, -0.07322744827251881, 0.31394999474287033, 0.03349300101399422, -0.5385800004005432, -0.2980149984359741, -0.18515999615192413, 0.20586999505758286, 0.0754410985391587]                                                     |\n",
            "+------+--------+--------+-----------------------------------------------------------------------------------+-------------------------------------------------------------------------------------------------------------------------------------------------------------------------------------------------------------------------------------------------------------------------------------------------------------------------------------------------------------------------------------------------------------------------------------------------------------------------------------------------------------------------------------------------------------------------------------------------------------------------------------------------------------------------------------------------------------------------------------------------------------------------------------------------------------------------------------------------------------------------------------------------------------------------------------------------------------------------------------------------------------------------------------------------------------------------------------------------------------------------------------------------------------------------------------------------------------------------------------------------------------------------------------------------------------------------------------------------------------------------------------------------------------------------------------------------------------------------------------------------------------------------------------------------------------------------------------------------------------------------------------------------------------------------------------------------------------------------------------------------------------------------------------------------------------------------------------------------------------------------------------------------------------------------------------------------------------------------------------------------------------------------------------------------------------------------------------------------------------------------------------------------------------------------------------------------------------------------------------------------+\n",
            "only showing top 7 rows\n",
            "\n"
          ]
        }
      ],
      "source": [
        "extractor_udf = udf(lambda tokens: [[float(x) for x in word2vector[token]] if token in word2vector else [float(0.0)]*word2vector[\"tweet\"].shape[0] for token in tokens], ArrayType((ArrayType(FloatType()))))\n",
        "\n",
        "avg_embedding_udf = udf(lambda x :[float(y) for y in np.mean(x, axis = 0)])\n",
        "\n",
        "tweets_embedded = tweets_df.withColumn(\"tweet_embeddings\", extractor_udf(\"terms_stemmed\"))\n",
        "tweets_embedded = tweets_embedded.withColumn(\"tweet_embeddings\", avg_embedding_udf(\"tweet_embeddings\"))\n",
        "\n",
        "tweets_embedded.printSchema()\n",
        "tweets_embedded.show(7, truncate = False)\n"
      ]
    },
    {
      "cell_type": "markdown",
      "source": [
        "### Conversion from `ArrayType( ArrayType( Float() ) )` to `VectorUDT()`"
      ],
      "metadata": {
        "id": "KbTIOB_ref7U"
      }
    },
    {
      "cell_type": "code",
      "source": [
        "from pyspark.ml.linalg import Vectors, VectorUDT\n",
        "\n",
        "to_vector_udf = udf(lambda embedded: Vectors.dense(embedded), VectorUDT())\n",
        "\n",
        "tweets_embedded = tweets_embedded.withColumn(\"tweet_embeddings\", to_vector_udf(tweets_embedded.tweet_embeddings))\n"
      ],
      "metadata": {
        "colab": {
          "base_uri": "https://localhost:8080/"
        },
        "id": "2t-3-JrtfCtC",
        "outputId": "2eb93bb5-6f0f-400e-e6c5-26452762fe04"
      },
      "execution_count": 35,
      "outputs": [
        {
          "output_type": "stream",
          "name": "stdout",
          "text": [
            "+------+--------+--------+--------------------+--------------------+\n",
            "|target|day_name|    hour|       terms_stemmed|    tweet_embeddings|\n",
            "+------+--------+--------+--------------------+--------------------+\n",
            "|     0|     Mon|22:19:45|[awww, that, bumm...|[0.18341409750282...|\n",
            "|     0|     Fri|22:19:45|[xmen, diff, end,...|[0.37050456181168...|\n",
            "+------+--------+--------+--------------------+--------------------+\n",
            "only showing top 2 rows\n",
            "\n"
          ]
        }
      ]
    },
    {
      "cell_type": "markdown",
      "source": [
        "---\n",
        "## **Train and Test setup**"
      ],
      "metadata": {
        "id": "WZJVaFAdi6Sz"
      }
    },
    {
      "cell_type": "code",
      "source": [
        "tweets_embedded.show(2)\n",
        "\n",
        "tweets_embedded.filter(size(tweets_embedded.terms_stemmed) <= 2).show\n",
        "\n",
        "(train_df, test_df) = tweets_embedded.randomSplit([0.8, 0.2], seed=11)\n",
        "\n",
        "print(train_df)\n",
        "print(tweets_embedded)\n",
        "print(train_df.dtypes)\n",
        "train_df.printSchema()\n",
        "\n"
      ],
      "metadata": {
        "colab": {
          "base_uri": "https://localhost:8080/"
        },
        "id": "XrYabBn3jlYK",
        "outputId": "3e2aaa3f-a881-4922-c96c-f81a8536fd29"
      },
      "execution_count": 43,
      "outputs": [
        {
          "output_type": "stream",
          "name": "stdout",
          "text": [
            "+------+--------+--------+--------------------+--------------------+\n",
            "|target|day_name|    hour|       terms_stemmed|    tweet_embeddings|\n",
            "+------+--------+--------+--------------------+--------------------+\n",
            "|     0|     Mon|22:19:45|[awww, that, bumm...|[0.18341409750282...|\n",
            "|     0|     Mon|22:19:49|[upset, cant, upd...|[-0.0266941636800...|\n",
            "+------+--------+--------+--------------------+--------------------+\n",
            "only showing top 2 rows\n",
            "\n",
            "DataFrame[target: int, day_name: string, hour: string, terms_stemmed: array<string>, tweet_embeddings: vector]\n",
            "DataFrame[target: int, day_name: string, hour: string, terms_stemmed: array<string>, tweet_embeddings: vector]\n",
            "[('target', 'int'), ('day_name', 'string'), ('hour', 'string'), ('terms_stemmed', 'array<string>'), ('tweet_embeddings', 'vector')]\n",
            "root\n",
            " |-- target: integer (nullable = true)\n",
            " |-- day_name: string (nullable = true)\n",
            " |-- hour: string (nullable = true)\n",
            " |-- terms_stemmed: array (nullable = true)\n",
            " |    |-- element: string (containsNull = true)\n",
            " |-- tweet_embeddings: vector (nullable = true)\n",
            "\n"
          ]
        }
      ]
    },
    {
      "cell_type": "markdown",
      "metadata": {
        "id": "DGRnV9GJAslh"
      },
      "source": [
        "---\n",
        "## Verify data"
      ]
    },
    {
      "cell_type": "code",
      "execution_count": 27,
      "metadata": {
        "colab": {
          "base_uri": "https://localhost:8080/"
        },
        "id": "lEO6FUTeAwF9",
        "outputId": "881779c2-b164-4fb3-e858-286e154f5b54"
      },
      "outputs": [
        {
          "output_type": "stream",
          "name": "stdout",
          "text": [
            "root\n",
            " |-- target: integer (nullable = true)\n",
            " |-- day_name: string (nullable = true)\n",
            " |-- hour: string (nullable = true)\n",
            " |-- terms_stemmed: array (nullable = true)\n",
            " |    |-- element: string (containsNull = true)\n",
            " |-- tweet_embeddings: vector (nullable = true)\n",
            "\n",
            "+------+--------+--------+--------------------+--------------------+\n",
            "|target|day_name|    hour|       terms_stemmed|    tweet_embeddings|\n",
            "+------+--------+--------+--------------------+--------------------+\n",
            "|     0|     Mon|22:19:45|[awww, that, bumm...|[0.18341409750282...|\n",
            "|     0|     Mon|22:19:49|[upset, cant, upd...|[-0.0266941636800...|\n",
            "|     0|     Mon|22:19:53|[dive, mani, time...|[-0.3068497822516...|\n",
            "|     0|     Mon|22:19:57|[whole, bodi, fee...|[-0.1943994946777...|\n",
            "|     0|     Mon|22:19:57|[behav, im, mad, ...|[-0.2184394016861...|\n",
            "|     0|     Mon|22:20:00|       [whole, crew]|[0.01776999980211...|\n",
            "|     0|     Mon|22:20:03|         [need, hug]|[-0.1063064998015...|\n",
            "|     0|     Mon|22:20:03|[hey, long, time,...|[0.18936884861726...|\n",
            "|     0|     Mon|22:20:05|       [nope, didnt]|[0.34355498850345...|\n",
            "|     0|     Mon|22:20:09|        [que, muera]|[0.44865600764751...|\n",
            "+------+--------+--------+--------------------+--------------------+\n",
            "only showing top 10 rows\n",
            "\n",
            "tot =  1600000\n"
          ]
        }
      ],
      "source": [
        "tweets_embedded.printSchema()\n",
        "tweets_embedded.show(10)\n",
        "\n",
        "print(\"tot = \", tweets_embedded.count())"
      ]
    },
    {
      "cell_type": "markdown",
      "metadata": {
        "id": "ZpD2gArbjybC"
      },
      "source": [
        "# TODO\n",
        "* **Are useful tokens with len==1 ?**\n",
        "* **chek udf validity for month mapping**"
      ]
    }
  ],
  "metadata": {
    "accelerator": "GPU",
    "colab": {
      "provenance": [],
      "authorship_tag": "ABX9TyPiy/kc9OnOVy6cspPt9keh",
      "include_colab_link": true
    },
    "kernelspec": {
      "display_name": "Python 3",
      "name": "python3"
    },
    "language_info": {
      "name": "python"
    }
  },
  "nbformat": 4,
  "nbformat_minor": 0
}