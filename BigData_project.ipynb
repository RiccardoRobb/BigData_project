{
  "cells": [
    {
      "cell_type": "markdown",
      "metadata": {
        "id": "view-in-github",
        "colab_type": "text"
      },
      "source": [
        "<a href=\"https://colab.research.google.com/github/RiccardoRobb/BigData_project/blob/main/BigData_project.ipynb\" target=\"_parent\"><img src=\"https://colab.research.google.com/assets/colab-badge.svg\" alt=\"Open In Colab\"/></a>"
      ]
    },
    {
      "cell_type": "markdown",
      "metadata": {
        "id": "ydnT0-krmCTZ"
      },
      "source": [
        "# **Twitter sentiment analysis**\n",
        "### BigData 2023 project\n",
        "\n",
        "[@Author](https://github.com/RiccardoRobb): Riccardo Ruberto 1860609"
      ]
    },
    {
      "cell_type": "markdown",
      "metadata": {
        "id": "TaC0pFVy5ha-"
      },
      "source": [
        "---\n",
        "## **Inital configuration**\n",
        "### PySpark installation"
      ]
    },
    {
      "cell_type": "code",
      "execution_count": 1,
      "metadata": {
        "colab": {
          "base_uri": "https://localhost:8080/"
        },
        "id": "P9pfBiCD4wMp",
        "outputId": "ec398eca-cf6f-4e30-f350-d673fcdf83be"
      },
      "outputs": [
        {
          "output_type": "stream",
          "name": "stdout",
          "text": [
            "Looking in indexes: https://pypi.org/simple, https://us-python.pkg.dev/colab-wheels/public/simple/\n",
            "Requirement already satisfied: pyspark in /usr/local/lib/python3.10/dist-packages (3.4.1)\n",
            "Requirement already satisfied: py4j==0.10.9.7 in /usr/local/lib/python3.10/dist-packages (from pyspark) (0.10.9.7)\n"
          ]
        }
      ],
      "source": [
        "! pip install pyspark"
      ]
    },
    {
      "cell_type": "markdown",
      "metadata": {
        "id": "r5rRWp3R5xKn"
      },
      "source": [
        "### Useful imports"
      ]
    },
    {
      "cell_type": "code",
      "execution_count": 2,
      "metadata": {
        "id": "DZyT2VD7ZMb6"
      },
      "outputs": [],
      "source": [
        "import pyspark\n",
        "from pyspark.sql import *\n",
        "from pyspark.sql.types import *\n",
        "from pyspark.sql.functions import *\n",
        "from pyspark import SparkContext, SparkConf\n",
        "\n",
        "import matplotlib.pyplot as plt\n",
        "import seaborn as sns\n",
        "%matplotlib inline"
      ]
    },
    {
      "cell_type": "markdown",
      "metadata": {
        "id": "sMZu4CcD51-e"
      },
      "source": [
        "### Spark configuration"
      ]
    },
    {
      "cell_type": "code",
      "execution_count": 3,
      "metadata": {
        "id": "Zc_wOE8Fl7aN"
      },
      "outputs": [],
      "source": [
        "# Create the session\n",
        "conf = SparkConf().\\\n",
        "                set('spark.ui.port', \"8000\").\\\n",
        "                set('spark.executor.memory', '4G').\\\n",
        "                set('spark.driver.memory', '45G').\\\n",
        "                set('spark.driver.maxResultSize', '10G').\\\n",
        "                setAppName(\"Twitter sentiment analysis\").\\\n",
        "                setMaster(\"local[*]\")\n",
        "\n",
        "# Create the context\n",
        "sc = pyspark.SparkContext(conf=conf)\n",
        "spark = SparkSession.builder.getOrCreate()"
      ]
    },
    {
      "cell_type": "markdown",
      "metadata": {
        "id": "VJSs9ejr58TM"
      },
      "source": [
        "### Check spark configurations"
      ]
    },
    {
      "cell_type": "code",
      "execution_count": 4,
      "metadata": {
        "colab": {
          "base_uri": "https://localhost:8080/",
          "height": 219
        },
        "id": "-rHsaeM75DvA",
        "outputId": "48718be2-eb18-4b7e-b029-d1e93d90a088"
      },
      "outputs": [
        {
          "output_type": "execute_result",
          "data": {
            "text/plain": [
              "<pyspark.sql.session.SparkSession at 0x7fb47fc03340>"
            ],
            "text/html": [
              "\n",
              "            <div>\n",
              "                <p><b>SparkSession - in-memory</b></p>\n",
              "                \n",
              "        <div>\n",
              "            <p><b>SparkContext</b></p>\n",
              "\n",
              "            <p><a href=\"http://5367826745f4:8000\">Spark UI</a></p>\n",
              "\n",
              "            <dl>\n",
              "              <dt>Version</dt>\n",
              "                <dd><code>v3.4.1</code></dd>\n",
              "              <dt>Master</dt>\n",
              "                <dd><code>local[*]</code></dd>\n",
              "              <dt>AppName</dt>\n",
              "                <dd><code>Twitter sentiment analysis</code></dd>\n",
              "            </dl>\n",
              "        </div>\n",
              "        \n",
              "            </div>\n",
              "        "
            ]
          },
          "metadata": {},
          "execution_count": 4
        }
      ],
      "source": [
        "spark"
      ]
    },
    {
      "cell_type": "code",
      "execution_count": 5,
      "metadata": {
        "colab": {
          "base_uri": "https://localhost:8080/"
        },
        "id": "hTx8THde5L9T",
        "outputId": "fc6d5243-5fc5-460d-862c-128b955f2a64"
      },
      "outputs": [
        {
          "output_type": "execute_result",
          "data": {
            "text/plain": [
              "[('spark.app.submitTime', '1687529532493'),\n",
              " ('spark.driver.memory', '45G'),\n",
              " ('spark.driver.port', '45979'),\n",
              " ('spark.executor.id', 'driver'),\n",
              " ('spark.app.startTime', '1687529532927'),\n",
              " ('spark.ui.port', '8000'),\n",
              " ('spark.sql.warehouse.dir', 'file:/content/spark-warehouse'),\n",
              " ('spark.driver.maxResultSize', '10G'),\n",
              " ('spark.driver.extraJavaOptions',\n",
              "  '-Djava.net.preferIPv6Addresses=false -XX:+IgnoreUnrecognizedVMOptions --add-opens=java.base/java.lang=ALL-UNNAMED --add-opens=java.base/java.lang.invoke=ALL-UNNAMED --add-opens=java.base/java.lang.reflect=ALL-UNNAMED --add-opens=java.base/java.io=ALL-UNNAMED --add-opens=java.base/java.net=ALL-UNNAMED --add-opens=java.base/java.nio=ALL-UNNAMED --add-opens=java.base/java.util=ALL-UNNAMED --add-opens=java.base/java.util.concurrent=ALL-UNNAMED --add-opens=java.base/java.util.concurrent.atomic=ALL-UNNAMED --add-opens=java.base/sun.nio.ch=ALL-UNNAMED --add-opens=java.base/sun.nio.cs=ALL-UNNAMED --add-opens=java.base/sun.security.action=ALL-UNNAMED --add-opens=java.base/sun.util.calendar=ALL-UNNAMED --add-opens=java.security.jgss/sun.security.krb5=ALL-UNNAMED -Djdk.reflect.useDirectMethodHandle=false'),\n",
              " ('spark.app.name', 'Twitter sentiment analysis'),\n",
              " ('spark.driver.host', '5367826745f4'),\n",
              " ('spark.rdd.compress', 'True'),\n",
              " ('spark.serializer.objectStreamReset', '100'),\n",
              " ('spark.master', 'local[*]'),\n",
              " ('spark.submit.pyFiles', ''),\n",
              " ('spark.submit.deployMode', 'client'),\n",
              " ('spark.executor.memory', '4G'),\n",
              " ('spark.app.id', 'local-1687529536120'),\n",
              " ('spark.ui.showConsoleProgress', 'true'),\n",
              " ('spark.executor.extraJavaOptions',\n",
              "  '-Djava.net.preferIPv6Addresses=false -XX:+IgnoreUnrecognizedVMOptions --add-opens=java.base/java.lang=ALL-UNNAMED --add-opens=java.base/java.lang.invoke=ALL-UNNAMED --add-opens=java.base/java.lang.reflect=ALL-UNNAMED --add-opens=java.base/java.io=ALL-UNNAMED --add-opens=java.base/java.net=ALL-UNNAMED --add-opens=java.base/java.nio=ALL-UNNAMED --add-opens=java.base/java.util=ALL-UNNAMED --add-opens=java.base/java.util.concurrent=ALL-UNNAMED --add-opens=java.base/java.util.concurrent.atomic=ALL-UNNAMED --add-opens=java.base/sun.nio.ch=ALL-UNNAMED --add-opens=java.base/sun.nio.cs=ALL-UNNAMED --add-opens=java.base/sun.security.action=ALL-UNNAMED --add-opens=java.base/sun.util.calendar=ALL-UNNAMED --add-opens=java.security.jgss/sun.security.krb5=ALL-UNNAMED -Djdk.reflect.useDirectMethodHandle=false')]"
            ]
          },
          "metadata": {},
          "execution_count": 5
        }
      ],
      "source": [
        "sc._conf.getAll()"
      ]
    },
    {
      "cell_type": "markdown",
      "metadata": {
        "id": "qrHRiI0C-jDI"
      },
      "source": [
        "---\n",
        "## Load dataset [***Sentiment140***]\n",
        "### Download dataset"
      ]
    },
    {
      "cell_type": "code",
      "execution_count": 6,
      "metadata": {
        "colab": {
          "base_uri": "https://localhost:8080/"
        },
        "id": "zayTBDQL98iG",
        "outputId": "49875cd2-b051-43a0-c2af-8d1776adc0a1"
      },
      "outputs": [
        {
          "output_type": "stream",
          "name": "stdout",
          "text": [
            "--2023-06-23 14:12:22--  https://raw.githubusercontent.com/RiccardoRobb/BigData_project/main/Sentiment140.zip\n",
            "Resolving raw.githubusercontent.com (raw.githubusercontent.com)... 185.199.108.133, 185.199.109.133, 185.199.110.133, ...\n",
            "Connecting to raw.githubusercontent.com (raw.githubusercontent.com)|185.199.108.133|:443... connected.\n",
            "HTTP request sent, awaiting response... 200 OK\n",
            "Length: 84855679 (81M) [application/zip]\n",
            "Saving to: ‘Sentiment140.zip’\n",
            "\n",
            "Sentiment140.zip    100%[===================>]  80.92M   150MB/s    in 0.5s    \n",
            "\n",
            "2023-06-23 14:12:23 (150 MB/s) - ‘Sentiment140.zip’ saved [84855679/84855679]\n",
            "\n",
            "Archive:  ./Sentiment140.zip\n",
            "  inflating: training.1600000.processed.noemoticon.csv  \n"
          ]
        }
      ],
      "source": [
        "! wget https://raw.githubusercontent.com/RiccardoRobb/BigData_project/main/Sentiment140.zip\n",
        "\n",
        "! unzip \"./*.zip\" && rm *.zip\n",
        "! mv training.1600000.processed.noemoticon.csv train140.csv"
      ]
    },
    {
      "cell_type": "markdown",
      "metadata": {
        "id": "hAbLzmUGXNu_"
      },
      "source": [
        "### Create data frame [***Sentiment140***]\n",
        "1600000 tweets"
      ]
    },
    {
      "cell_type": "code",
      "execution_count": 7,
      "metadata": {
        "id": "e7UAiEc-_GEv"
      },
      "outputs": [],
      "source": [
        "schema = StructType([ \\\n",
        "    StructField(\"target\",IntegerType(),True), \\\n",
        "    StructField(\"id\",LongType(),True), \\\n",
        "    StructField(\"full_date\",StringType(),True), \\\n",
        "    StructField(\"flag\", StringType(), True), \\\n",
        "    StructField(\"user\", StringType(), True), \\\n",
        "    StructField(\"text\", StringType(), True) \\\n",
        "  ])\n",
        "\n",
        "df = spark.read.csv('./train140.csv', schema=schema, header=\"false\")"
      ]
    },
    {
      "cell_type": "markdown",
      "metadata": {
        "id": "NUGsEwMyXR9d"
      },
      "source": [
        "---\n",
        "## **Inital cleaning**\n",
        "### Removal of unnecessary columns"
      ]
    },
    {
      "cell_type": "code",
      "execution_count": 8,
      "metadata": {
        "colab": {
          "base_uri": "https://localhost:8080/"
        },
        "id": "jfTVRLBRXTDx",
        "outputId": "cf719909-a2b2-4852-e44d-f238bccfeddc"
      },
      "outputs": [
        {
          "output_type": "stream",
          "name": "stdout",
          "text": [
            "1\n"
          ]
        }
      ],
      "source": [
        "# sentiment of the tweet is not affected by the \"user\"\n",
        "df = df.drop(\"user\")\n",
        "\n",
        "# verify \"flag\" utility\n",
        "print(df.select(countDistinct(\"flag\")).collect()[0][0])\n",
        "\n",
        "# \"flag\" has only one value == NO_QUERY, so I delete it\n",
        "df = df.drop(\"flag\")"
      ]
    },
    {
      "cell_type": "markdown",
      "metadata": {
        "id": "efsWAcIVXjxt"
      },
      "source": [
        "### From ***date*** to ***day_name***; ***hour***; ***date***"
      ]
    },
    {
      "cell_type": "code",
      "execution_count": 9,
      "metadata": {
        "id": "CnXFsS1rXsjI"
      },
      "outputs": [],
      "source": [
        "months_map = {\"Jan\": \"01\", \"Feb\": \"02\", \"Mar\": \"03\", \"Apr\": \"04\", \"May\": \"05\", \"Jun\": \"06\", \"Jul\": \"07\", \"Aug\": \"08\", \"Sep\": \"09\", \"Oct\": \"10\", \"Nov\": \"11\", \"Dec\": \"12\"}\n",
        "\n",
        "convert_date_udf = udf(lambda month_name : months_map[month_name], StringType())"
      ]
    },
    {
      "cell_type": "markdown",
      "source": [
        "### From **hour:min:mill** to int **hour**"
      ],
      "metadata": {
        "id": "kUg1WK_Ml0Au"
      }
    },
    {
      "cell_type": "code",
      "source": [
        "convert_hour_udf = udf(lambda time: int(time[:2]), IntegerType())"
      ],
      "metadata": {
        "id": "QrCqebf9l9uP"
      },
      "execution_count": 10,
      "outputs": []
    },
    {
      "cell_type": "code",
      "execution_count": 11,
      "metadata": {
        "id": "FcXyz4aKg_ul"
      },
      "outputs": [],
      "source": [
        "split_col = pyspark.sql.functions.split(df['full_date'], ' ')\n",
        "\n",
        "df = df.withColumn(\"day_name\", split_col.getItem(0)) \\\n",
        "      .withColumn(\"hour\", convert_hour_udf(split_col.getItem(3))) \\\n",
        "      .withColumn(\"date\", to_date( concat_ws(\"-\", split_col.getItem(2), convert_date_udf(split_col.getItem(1)), split_col.getItem(5)), \"dd-MM-yyyy\"))\n",
        "\n",
        "df = df.drop(\"full_date\")"
      ]
    },
    {
      "cell_type": "markdown",
      "metadata": {
        "id": "6CyYJJi59XKs"
      },
      "source": [
        "---\n",
        "## **Data analysis**\n",
        "### ***target*** values analisys"
      ]
    },
    {
      "cell_type": "code",
      "execution_count": 12,
      "metadata": {
        "colab": {
          "base_uri": "https://localhost:8080/"
        },
        "id": "b1JWoNnM9k4k",
        "outputId": "ee44b647-c0b7-46dd-8d6b-5469db352919"
      },
      "outputs": [
        {
          "output_type": "stream",
          "name": "stdout",
          "text": [
            "+------+\n",
            "|target|\n",
            "+------+\n",
            "|     4|\n",
            "|     0|\n",
            "+------+\n",
            "\n"
          ]
        }
      ],
      "source": [
        "df.select(\"target\").distinct().show()\n",
        "# \"target\" value is or 0 or 4"
      ]
    },
    {
      "cell_type": "code",
      "execution_count": 13,
      "metadata": {
        "colab": {
          "base_uri": "https://localhost:8080/"
        },
        "id": "ehZD6TQNAH6H",
        "outputId": "a0f1da7c-2d89-4b7f-d427-56df02d2d105"
      },
      "outputs": [
        {
          "output_type": "stream",
          "name": "stdout",
          "text": [
            "Sad tweets =  800000\n",
            "Happy tweets =  800000\n"
          ]
        }
      ],
      "source": [
        "sad_tweets = df.filter(col(\"target\") == 0)\n",
        "happy_tweets = df.filter(col(\"target\") == 4)\n",
        "\n",
        "print(\"Sad tweets = \", sad_tweets.count())\n",
        "print(\"Happy tweets = \", happy_tweets.count())"
      ]
    },
    {
      "cell_type": "markdown",
      "metadata": {
        "id": "_n13xetpApkt"
      },
      "source": [
        "Sad tweets and happy tweets are balanced."
      ]
    },
    {
      "cell_type": "markdown",
      "metadata": {
        "id": "zW2CBtpkBIGM"
      },
      "source": [
        "### Time frame of interest"
      ]
    },
    {
      "cell_type": "code",
      "execution_count": 14,
      "metadata": {
        "colab": {
          "base_uri": "https://localhost:8080/"
        },
        "id": "fNQmo6WsBQDD",
        "outputId": "dedd6b59-bf18-475e-cdd2-9a6ae770faa6"
      },
      "outputs": [
        {
          "output_type": "stream",
          "name": "stdout",
          "text": [
            "Min date =  2009-04-06\n",
            "Max date =  2009-06-25\n"
          ]
        }
      ],
      "source": [
        "print(\"Min date = \", df.select(min(df.date)).collect()[0][0])\n",
        "print(\"Max date = \", df.select(max(df.date)).collect()[0][0])"
      ]
    },
    {
      "cell_type": "markdown",
      "metadata": {
        "id": "5PXQSmfOCezG"
      },
      "source": [
        "The time frame used is too small, datas were collected in 2 months. \\\\\n",
        "*Using data column will be useful only if we try to predict tweets written during the [2009-04-06, 2009-06-25] period.*\n",
        "\n",
        "### Better to delete the ***date*** column"
      ]
    },
    {
      "cell_type": "code",
      "execution_count": 15,
      "metadata": {
        "id": "gwpxRRdnDZrI"
      },
      "outputs": [],
      "source": [
        "df = df.drop(\"date\")"
      ]
    },
    {
      "cell_type": "markdown",
      "metadata": {
        "id": "DAE60S3iFRpF"
      },
      "source": [
        "---\n",
        "## **Data processing**\n",
        "### Case normalization"
      ]
    },
    {
      "cell_type": "code",
      "execution_count": 16,
      "metadata": {
        "id": "qSNd63XFTdlK"
      },
      "outputs": [],
      "source": [
        "# used for all columns to see if null values are present\n",
        "# df.filter(col(\"text\").isNull()).show()\n",
        "\n",
        "df = df.withColumn(\"text\", lower(col(\"text\")))"
      ]
    },
    {
      "cell_type": "markdown",
      "metadata": {
        "id": "qJSbjy6kTQEV"
      },
      "source": [
        "### Username and links removal"
      ]
    },
    {
      "cell_type": "code",
      "execution_count": 17,
      "metadata": {
        "id": "gSkQ5dCkGDJX"
      },
      "outputs": [],
      "source": [
        "import re\n",
        "\n",
        "# twitter ids can contain alphanumeric and '_' characters\n",
        "username_regex = r\"@[A-Za-z0-9_]+\"\n",
        "\n",
        "# http:// / https:// links\n",
        "link_regex1 = r\"https?://[^ ]+\"\n",
        "\n",
        "# www. links\n",
        "link_regex2 = r\"www.[^ ]+\"\n",
        "\n",
        "\n",
        "master_regex = r\"|\".join((username_regex, link_regex1, link_regex2))\n",
        "\n",
        "df = df.withColumn(\"text\", regexp_replace(df.text, master_regex, \"\"))"
      ]
    },
    {
      "cell_type": "markdown",
      "metadata": {
        "id": "tQNB7bpRaxIG"
      },
      "source": [
        "### Filter out punctual symbols"
      ]
    },
    {
      "cell_type": "code",
      "execution_count": 18,
      "metadata": {
        "id": "6ILeqT4Ha22N"
      },
      "outputs": [],
      "source": [
        "df = df.withColumn(\"text\", regexp_replace(df.text, \"[^a-zA-Z\\s]\", \"\"))"
      ]
    },
    {
      "cell_type": "markdown",
      "metadata": {
        "id": "bwH-VfJXU71D"
      },
      "source": [
        "### Trimming"
      ]
    },
    {
      "cell_type": "code",
      "execution_count": 19,
      "metadata": {
        "id": "NSeeMi1QU-nN"
      },
      "outputs": [],
      "source": [
        "df = df.withColumn(\"text\", trim(col(\"text\")))\n",
        "\n",
        "# extra whitespaces\n",
        "df = df.withColumn(\"text\", trim(regexp_replace(df.text, \" +\", \" \")))"
      ]
    },
    {
      "cell_type": "markdown",
      "metadata": {
        "id": "We8YznuapL3U"
      },
      "source": [
        "### Tokenization"
      ]
    },
    {
      "cell_type": "code",
      "execution_count": 20,
      "metadata": {
        "id": "0p6KKbDhpOAF"
      },
      "outputs": [],
      "source": [
        "from pyspark.ml.feature import Tokenizer\n",
        "\n",
        "tokenizer = Tokenizer(inputCol = \"text\", outputCol = \"tokens\")\n",
        "tokens_df = tokenizer.transform(df)"
      ]
    },
    {
      "cell_type": "markdown",
      "metadata": {
        "id": "UOQCWCA3qo0h"
      },
      "source": [
        "### Stopwords removal"
      ]
    },
    {
      "cell_type": "code",
      "execution_count": 21,
      "metadata": {
        "id": "rnulIkVIqrtl"
      },
      "outputs": [],
      "source": [
        "from pyspark.ml.feature import StopWordsRemover\n",
        "\n",
        "stopwords_remover = StopWordsRemover(inputCol = \"tokens\", outputCol = \"terms\")\n",
        "terms_df = stopwords_remover.transform(tokens_df)"
      ]
    },
    {
      "cell_type": "markdown",
      "metadata": {
        "id": "e7fcc-7xrMB1"
      },
      "source": [
        "### Stemming"
      ]
    },
    {
      "cell_type": "code",
      "execution_count": 22,
      "metadata": {
        "id": "VOGvpgdirOOs"
      },
      "outputs": [],
      "source": [
        "from nltk.stem.snowball import SnowballStemmer\n",
        "\n",
        "stemmer = SnowballStemmer(language = \"english\")\n",
        "stemmer_udf = udf(lambda tokens: [stemmer.stem(token) for token in tokens], ArrayType(StringType()))\n",
        "\n",
        "\n",
        "tweets_df = terms_df.withColumn(\"terms_stemmed\", stemmer_udf(\"terms\"))"
      ]
    },
    {
      "cell_type": "markdown",
      "metadata": {
        "id": "vLK2YpWdsiaH"
      },
      "source": [
        "### Removal of unnecessary columns"
      ]
    },
    {
      "cell_type": "code",
      "execution_count": 23,
      "metadata": {
        "colab": {
          "base_uri": "https://localhost:8080/"
        },
        "id": "RUk2wyD9soOX",
        "outputId": "23b97f82-4b9a-4874-e234-15b4ab5d70f3"
      },
      "outputs": [
        {
          "output_type": "stream",
          "name": "stdout",
          "text": [
            "+------+--------+----+-----------------------------------------------------------------------------------+\n",
            "|target|day_name|hour|terms_stemmed                                                                      |\n",
            "+------+--------+----+-----------------------------------------------------------------------------------+\n",
            "|0     |Mon     |22  |[awww, that, bummer, shoulda, got, david, carr, third, day, d]                     |\n",
            "|0     |Mon     |22  |[upset, cant, updat, facebook, text, might, cri, result, school, today, also, blah]|\n",
            "|0     |Mon     |22  |[dive, mani, time, ball, manag, save, rest, go, bound]                             |\n",
            "|0     |Mon     |22  |[whole, bodi, feel, itchi, like, fire]                                             |\n",
            "|0     |Mon     |22  |[behav, im, mad, cant, see]                                                        |\n",
            "|0     |Mon     |22  |[whole, crew]                                                                      |\n",
            "|0     |Mon     |22  |[need, hug]                                                                        |\n",
            "+------+--------+----+-----------------------------------------------------------------------------------+\n",
            "only showing top 7 rows\n",
            "\n"
          ]
        }
      ],
      "source": [
        "tweets_df = tweets_df.drop(\"id\", \"text\", \"tokens\", \"terms\")\n",
        "\n",
        "tweets_df.show(7, truncate = False)"
      ]
    },
    {
      "cell_type": "markdown",
      "source": [
        "---\n",
        "## **Additional cleaning**"
      ],
      "metadata": {
        "id": "5L6ju2yHRESq"
      }
    },
    {
      "cell_type": "code",
      "source": [
        "tweets_df.cache()\n",
        "\n",
        "tweets_df = tweets_df.filter(size(tweets_df.terms_stemmed) > 1)\n",
        "\n",
        "sad_tweets = tweets_df.filter(tweets_df.target == 0)\n",
        "happy_tweets = tweets_df.filter(tweets_df.target == 4)\n",
        "\n",
        "sad_tweets_count = sad_tweets.count()\n",
        "happy_tweets_count = happy_tweets.count()\n",
        "\n",
        "print(\"Sad tweets = \", sad_tweets_count)\n",
        "print(\"Happy tweets = \", happy_tweets_count)"
      ],
      "metadata": {
        "colab": {
          "base_uri": "https://localhost:8080/"
        },
        "id": "HJJpggTkRT05",
        "outputId": "73b3eb11-1023-4ce8-c00b-3a40b54f77be"
      },
      "execution_count": 24,
      "outputs": [
        {
          "output_type": "stream",
          "name": "stdout",
          "text": [
            "Sad tweets =  774763\n",
            "Happy tweets =  767489\n"
          ]
        }
      ]
    },
    {
      "cell_type": "markdown",
      "source": [
        "### After the cleaning Sad and Happy tweets are ***unbalanced***"
      ],
      "metadata": {
        "id": "P5zA3f9HRXH0"
      }
    },
    {
      "cell_type": "code",
      "source": [
        "(figure_, axes_) = plt.subplots()\n",
        "\n",
        "y = [sad_tweets_count, happy_tweets_count]\n",
        "axes_.set_ylabel(\"Number of tweets\")\n",
        "\n",
        "x = [\"Sad tweets\", \"Happy tweets\"]\n",
        "\n",
        "axes_.bar(x, y, color = [\"red\", \"green\"])\n",
        "plt.show()"
      ],
      "metadata": {
        "colab": {
          "base_uri": "https://localhost:8080/",
          "height": 430
        },
        "id": "IYTHKIqCRgLK",
        "outputId": "7a970fac-dadc-4ae0-9362-3dcbd0dcf879"
      },
      "execution_count": 25,
      "outputs": [
        {
          "output_type": "display_data",
          "data": {
            "text/plain": [
              "<Figure size 640x480 with 1 Axes>"
            ],
            "image/png": "[encoded data removed]"
          },
          "metadata": {}
        }
      ]
    },
    {
      "cell_type": "markdown",
      "source": [
        "### Balancing dataframes"
      ],
      "metadata": {
        "id": "uBY026hPgd3h"
      }
    },
    {
      "cell_type": "code",
      "source": [
        "sad_tweets = sad_tweets.select(\"*\").orderBy(rand())\n",
        "sad_tweets = sad_tweets.limit(happy_tweets_count)\n",
        "\n",
        "tweets_df = sad_tweets.union(happy_tweets)"
      ],
      "metadata": {
        "id": "xJygEfWNgmxU"
      },
      "execution_count": 26,
      "outputs": []
    },
    {
      "cell_type": "markdown",
      "metadata": {
        "id": "uY_VvQBrKisT"
      },
      "source": [
        "---\n",
        "## **Word Vector representation**"
      ]
    },
    {
      "cell_type": "markdown",
      "metadata": {
        "id": "g5x_pMftKtt2"
      },
      "source": [
        "### Load **GloVe** embeddings"
      ]
    },
    {
      "cell_type": "code",
      "execution_count": 27,
      "metadata": {
        "id": "NnmMF2HMNcTc"
      },
      "outputs": [],
      "source": [
        "import gensim.downloader as api\n",
        "\n",
        "embeddings = 100\n",
        "word2vector = None\n",
        "\n",
        "if word2vector == None:\n",
        "  word2vector = api.load(\"glove-twitter-\" + str(embeddings))"
      ]
    },
    {
      "cell_type": "markdown",
      "source": [
        "### Mapping tokens - embeddings"
      ],
      "metadata": {
        "id": "T3epcP4Vc48E"
      }
    },
    {
      "cell_type": "code",
      "execution_count": 28,
      "metadata": {
        "id": "QssWZt9MSB2C",
        "colab": {
          "base_uri": "https://localhost:8080/"
        },
        "outputId": "57ce980f-d68a-43f9-899f-95e0998a41fa"
      },
      "outputs": [
        {
          "output_type": "stream",
          "name": "stdout",
          "text": [
            "root\n",
            " |-- target: integer (nullable = true)\n",
            " |-- day_name: string (nullable = true)\n",
            " |-- hour: integer (nullable = true)\n",
            " |-- terms_stemmed: array (nullable = true)\n",
            " |    |-- element: string (containsNull = true)\n",
            " |-- tweet_embeddings: string (nullable = true)\n",
            "\n",
            "+------+--------+----+---------------------------------------------------------------------------------------+-------------------------------------------------------------------------------------------------------------------------------------------------------------------------------------------------------------------------------------------------------------------------------------------------------------------------------------------------------------------------------------------------------------------------------------------------------------------------------------------------------------------------------------------------------------------------------------------------------------------------------------------------------------------------------------------------------------------------------------------------------------------------------------------------------------------------------------------------------------------------------------------------------------------------------------------------------------------------------------------------------------------------------------------------------------------------------------------------------------------------------------------------------------------------------------------------------------------------------------------------------------------------------------------------------------------------------------------------------------------------------------------------------------------------------------------------------------------------------------------------------------------------------------------------------------------------------------------------------------------------------------------------------------------------------------------------------------------------------------------------------------------------------------------------------------------------------------------------------------------------------------------------------------------------------------------------------------------------------------------------------------------------------------------------------------------------------------------------------------------------------------------------------------------------------------------------------------------------------+\n",
            "|target|day_name|hour|terms_stemmed                                                                          |tweet_embeddings                                                                                                                                                                                                                                                                                                                                                                                                                                                                                                                                                                                                                                                                                                                                                                                                                                                                                                                                                                                                                                                                                                                                                                                                                                                                                                                                                                                                                                                                                                                                                                                                                                                                                                                                                                                                                                                                                                                                                                                                                                                                                                                                                                                                               |\n",
            "+------+--------+----+---------------------------------------------------------------------------------------+-------------------------------------------------------------------------------------------------------------------------------------------------------------------------------------------------------------------------------------------------------------------------------------------------------------------------------------------------------------------------------------------------------------------------------------------------------------------------------------------------------------------------------------------------------------------------------------------------------------------------------------------------------------------------------------------------------------------------------------------------------------------------------------------------------------------------------------------------------------------------------------------------------------------------------------------------------------------------------------------------------------------------------------------------------------------------------------------------------------------------------------------------------------------------------------------------------------------------------------------------------------------------------------------------------------------------------------------------------------------------------------------------------------------------------------------------------------------------------------------------------------------------------------------------------------------------------------------------------------------------------------------------------------------------------------------------------------------------------------------------------------------------------------------------------------------------------------------------------------------------------------------------------------------------------------------------------------------------------------------------------------------------------------------------------------------------------------------------------------------------------------------------------------------------------------------------------------------------------+\n",
            "|0     |Thu     |6   |[here, ad, comedi, pub, tonight, still, comedi, grid, though]                          |[-0.24625911191105843, 0.18734999828868443, 0.04144189010063807, -0.33163244111670387, 0.2623025495558977, 0.011981469863611791, -0.29033148671603864, -0.10776667131317987, 0.17320555614100563, -0.001980107691552904, -0.2256591133773327, -0.07340677579243977, -2.9046555558840432, 0.2198391171793143, 0.21564944667948616, -0.20355577828983465, 0.09813022447956933, 0.1531020448439651, -0.4306400054030948, 0.0408491123881605, -0.14658833460675347, 0.14136155446370444, 0.1359112456622016, -0.15574811357590887, -0.08220222426785363, 0.17132912908952372, -0.30547499905029935, -0.11805799624158277, -0.020800845387081306, 0.09118554327223036, 0.015491729084816244, 0.15607221921284994, -0.13830222189426422, -0.03606277828415235, 0.25418666522536015, -0.019394998335176043, 0.23036933028035694, 0.04324244542254342, 0.12971078273322847, 0.3009023331105709, -0.33603711136513287, -0.10489011100596851, 0.09024244712458716, 0.016378265883152682, 0.05209099915292528, 0.22434033060239422, -0.18604954994387096, 0.264389007869694, -0.05849777575996187, 0.03872255401478873, -0.03842000166575114, -0.06554710782236522, 0.00731265793244044, -0.22702844440937042, -0.15496222178141275, -0.054900250708063446, -0.11144132850070794, -0.18822444644239214, 0.07150322116083568, -0.1414900008175108, 0.12338666452301873, 0.25009799417522216, 0.1285506689714061, 0.24135666837294897, 0.18401388358324766, -0.09826416170431508, 0.04046677632464303, 0.021499587326414056, 0.25013529887009, -0.07176010297714835, 0.20034822614656556, 0.04225211342175802, 0.023264225986268785, -0.006633338001039293, -0.21357633256249958, 0.14846378275089794, 0.28092477636204827, 0.23928388725552294, 0.02167210727930069, 0.1587070007291105, 1.2451477779282465, 0.0357437115162611, -0.01027673130415173, 0.006413886116610633, 0.18141088634729385, -0.05824511374036471, 0.07543978343407313, 0.02922533369726605, 0.24229379619161287, -0.07401010973585977, -0.3751671115557353, 0.1614135455779938, -0.11405510496762064, -0.21164311685909828, -0.20700311246845457, 0.29052356506387395, 0.22255855095055369, -0.060315563136504755, -0.19162700242466396, -0.05536444650755988]       |\n",
            "|0     |Tue     |6   |[work, wish, fun, job]                                                                 |[-0.04690499836578965, 0.21773751080036163, 0.08798625227063894, 0.15670250728726387, -0.021851249039173126, 0.16441125236451626, 0.5381774976849556, -0.04920075088739395, -0.16836724802851677, -0.0038162455894052982, -0.3637649938464165, -0.32563500478863716, -4.286325037479401, 0.27332499995827675, -0.2448900043964386, -0.07356750592589378, -0.3132749982178211, -0.201260250993073, -0.7424875050783157, -0.05845674406737089, 0.1267572520300746, 0.23423283838201314, -0.1748235011473298, -0.026204499881714582, 0.1336974985897541, 0.12091400008648634, -0.26178024895489216, 0.4334450103342533, -0.21099388087168336, -0.6107074990868568, -0.5675550028681755, 0.037952748127281666, -0.24557750672101974, 0.13578874900122173, 0.43088249117136, 0.5695775076746941, 0.49657250195741653, 0.048377253115177155, 0.06941774347797036, 0.33049482060596347, -0.6215525045990944, 0.43912424333393574, 0.027986997738480568, -0.05378750339150429, 0.07686499506235123, 0.22194998897612095, 0.048831747844815254, -0.08698000386357307, -0.20866199838928878, 0.15475000068545341, -0.06681624706834555, -0.06924274982884526, -0.2511787563562393, 0.05563000310212374, 0.28316500037908554, 0.06089315330609679, -0.2850112523883581, -0.28914999589324, 0.08737999945878983, -0.07971249520778656, 0.14048374840058386, -0.2873869985342026, 0.4540400058031082, -0.041086748242378235, 0.21729465315002017, -0.3499024957418442, -0.4363275170326233, -0.40534267091425136, 0.27291424851864576, 0.06392950005829334, -0.1925082467496395, 0.291747753508389, 0.46610748767852783, -0.07083300221711397, 0.2045312523841858, -0.0066885012201964855, 0.30593249946832657, -0.103257498703897, 0.054556747898459435, -0.32249500043690205, 1.7465250194072723, 0.20202500000596046, -0.10157250240445137, 0.0709459949284792, 0.4317360008135438, -0.057988499058410525, 0.05451449938118458, 0.02409225096926093, 0.2229425013065338, 0.030642250552773476, -0.26613500714302063, 0.17010250315070152, -0.006579997017979622, 0.08389499690383673, 0.06637249840423465, -0.19274142966605723, 0.07750272494740784, 0.22715537529438734, -0.2058782554231584, -0.7242574840784073]                     |\n",
            "|0     |Sat     |7   |[famous, last, word]                                                                   |[0.09697666267553966, 0.25137666674951714, -0.19358001152674356, 0.2130566711227099, -0.20454599459966025, 0.057501265313476324, 0.0479386659959952, 0.24381334086259207, 0.03019033372402191, 0.19976299504439035, -0.10739333430926006, -0.12628333767255148, -4.058566729227702, -0.23005423679326972, -0.03000667194525401, 0.3879550062119961, 0.26988400022188824, 0.05626332759857178, -0.2914976626634598, -0.04526966561873754, 0.11578000088532765, 0.0829476701716582, -0.3665233353773753, -0.0070933202902476, 0.38792766879002255, -0.1117893358071645, -0.18335000177224478, -0.8359333475430807, -0.12239899672567844, -0.2333366647362709, -0.07102000713348389, 0.22800600404540697, -0.5334033370018005, -0.10483632578204076, 0.12683400015036264, -0.12684332331021628, 0.31320999562740326, 0.21143999695777893, 0.39898666739463806, -0.8250999947388967, -0.5350366532802582, -0.38831332822640735, -0.25757433474063873, 0.12967627212249985, 0.1376266727844874, -0.47691001494725543, -0.08497666815916698, 0.12459366396069527, -0.1383033295472463, 0.22737366457780203, 0.1535174450254999, 0.32654766738414764, -0.3773593275497357, -0.22940267125765482, 0.24699165920416513, -0.25494367629289627, -0.5517390047510465, 0.13705900373558202, -0.19778666396935782, -0.03262233485778173, 0.17273600151141486, -0.41858400373409194, -0.03511166572570801, 0.040596661468346916, -0.3627000053723653, 0.019974994162718456, -0.08202200382947922, -0.31055666009585065, 0.37021665275096893, 0.03127999107042948, -0.27238333721955615, -0.19085967416564623, 0.12309333682060242, 0.1940078710516294, 0.2808333436648051, 0.13185967008272806, 0.05403633415699005, -0.014122998962799707, 0.07963666319847107, 0.03324333361039559, 1.3862633506457012, -0.002612197771668434, 0.09630333135525386, -0.04330665866533915, 0.19883666187524796, 0.16904733081658682, -0.3357336651533842, 0.037584333370129265, -0.17890334129333496, -0.13538266718387604, 0.36589333415031433, 0.39836334188779193, -0.27714666227499646, -0.11752400050560634, 0.1652386753509442, 0.24177498991290727, -0.10820433249076207, 0.16231433923045793, 0.14531432588895163, -0.09678666666150093]             |\n",
            "|0     |Thu     |12  |[im, sorri, angthey, awesom, hhmayb, next, week]                                       |[-0.11633215446324487, -0.04685286006757191, 0.012934284550803048, 0.029402858444622586, -0.010538426893098014, 0.12337671433176313, 0.11611428537539073, 0.03560985518353326, 0.01327000345502581, 0.05590042205793517, -0.23807428351470403, -0.07924443164042064, -2.0171785184315274, 0.08041714344705854, 0.1693291398031371, -0.1403357195002692, 0.07629142488752093, 0.30257285705634523, -0.48385428956576754, -0.07123257126659155, -0.20505742728710175, 0.0970778539776802, -0.06622896662780217, -0.02341837588963764, -0.22113285958766937, -0.03476000311119216, -0.06380714582545417, -0.14619143094335282, -0.1156921423971653, 0.14084868432421768, -0.010821429746491569, 0.17530385830572673, -0.061422369143526466, -0.11897286134106773, -0.14880028047731944, 0.0884951443544456, 0.2776921396808965, 0.05331642712865557, -0.06319014515195574, -0.13156571877854212, -0.7012499783720288, -0.07737171543495995, 0.06755785723882061, 0.22298308106006257, -0.16826328528778894, 0.019730239241783108, -0.013402685922171389, -0.244305143398898, -0.09075285707201276, 0.32483857018607004, 0.17139570734330586, -0.07467428488390786, 0.04434434324502945, -0.20816599896975926, 0.27569715465818134, -0.05280757509171963, -0.25829828291067053, 0.033136573753186634, 0.3051671470914568, -0.17590685774173057, 0.16678857590470994, -0.29692286252975464, 0.37308857696396963, 0.12144214127744947, -0.06605285831860133, -0.0866771468094417, 0.14273256070113607, 0.0029941509876932415, 0.024509994047028676, 0.016692853399685452, 0.009601184100444828, 0.1410414363656725, 0.3477099984884262, 0.07087151040988308, 0.010161575994321279, 0.08047385513782501, 0.007809301771755729, 0.02682714377130781, 0.19420428148337773, -0.059640128165483475, 0.7111200179372515, 0.07724429028374809, -0.2257674304502351, 0.30568927952221464, 0.24086842366627284, 0.2661302933203323, -0.06893128795283181, -0.19072285507406508, 0.07986113854816981, 0.0551729965955019, 0.15463442727923393, 0.1703628557068961, 0.05209285233701978, -0.13936314093215124, -0.009787641133048705, -0.001645722027335848, -0.09264286288193294, 0.11780142784118652, 0.1505928598344326, -0.0873671408210482]|\n",
            "|0     |Sun     |6   |[anoth, fire, alarm, dam, evacu]                                                       |[0.0781845971941948, 0.6261099934577942, -0.007039999961853028, -0.14592299945652484, -0.0252657987177372, -0.09187499731779099, -0.09991700202226639, -0.14502960443496704, 0.1853360041975975, 0.15718280673027038, -0.20474880151450633, 0.13811259139329196, -1.6660230085253716, -0.032205799221992494, -0.1562697857618332, -0.11546680107712745, 0.31945199966430665, 0.19379734005779028, 0.24897200465202332, 0.04128201007843017, -0.12430999875068664, 0.04780199825763702, -0.08656500391662121, 0.14739400446414946, 0.39096000492572786, 0.16582920178771018, -0.28035199642181396, -0.14952159821987152, 0.13901400417089463, 0.4942608043551445, -0.14392600655555726, -0.19310700073838233, -0.062329480634070934, -0.06976419985294342, 0.04045000672340393, 0.19792799949645995, -0.2306491956114769, -0.004606197774410248, -0.18491599559783936, 0.07730519697070122, -0.2154320001602173, 0.3484218016266823, -0.3207180052995682, -0.1411876082420349, 0.13018600046634674, 0.08668800592422485, 0.6684699952602386, 0.25123200193047523, -0.11248819679021835, 0.23252400159835815, 0.21258199140429496, 0.3988760083913803, -0.09808640331029891, -0.13482679426670074, -0.15630259960889817, 0.0847100019454956, -0.10799999833106995, -0.06137940138578415, 0.24728799164295195, 0.10960460007190705, 0.0417338028550148, 0.22699359469115735, 0.15732600092887877, 0.056367398053407666, -0.27055800557136533, -0.012161993980407714, 0.2419620007276535, -0.18067679852247237, -0.02500799298286438, -0.3148777946829796, 0.11387600004673004, 0.18083179891109466, -0.07810560762882232, 0.09925920665264129, 0.10657000243663788, 0.1710119992494583, 0.2579278007149696, 0.07620920166373253, 0.05489199757575989, 0.09005220234394073, 0.7575060307979584, -0.1803140014410019, -0.21020180433988572, 0.10409699976444245, -0.08701939582824707, -0.16683801114559174, -0.1278720021247864, -0.15307099856436251, 0.04579599648714065, -0.008080201223492622, 0.10137500539422035, 0.18156979531049727, 0.04795600175857544, 0.20628199353814125, -0.21737000346183777, 0.16888999789953232, -0.15646960139274596, 0.3145672045648098, -0.04579233983531594, 0.09385199695825577]             |\n",
            "|0     |Sun     |15  |[cross, sword, copi, bahh, steal, book, pakistan, militarykalsoom, super, sleuth, hunt]|[-0.08182636987079274, -0.03032454170963981, -0.21131844784725795, 0.1330245884812691, -0.014779077207838947, -0.1152541810138659, 0.24354372850873254, -0.1179851834577593, 0.2862857316027988, 0.007574999535625631, 0.0986254560676488, 0.23803318495100195, -1.9048179156062277, 0.058221887275894085, -0.012730003080584786, -0.07206373306160624, 0.0802571837874976, -0.03295866433869709, -0.05578629062934355, 0.11650645732879639, 0.018135362982072613, 0.10551654564386065, -0.021301179192960262, 0.006259689255702225, -0.18504963916811076, 0.027587004005908966, -0.006671288855035196, 0.13736391067504883, 0.2516762748021971, -0.021492728455500168, 0.3782854540781541, -0.02163399789821018, 0.20961826760321856, -0.09565881495787339, 0.1535484188828956, 0.06879417564381253, -0.004089271141724153, 0.13826845247637143, -0.0831228183074431, 0.026406998153437267, 0.006863364441828294, -0.06278590392321348, -0.18014000288464807, 0.17413972114974802, 0.24034199897538533, 0.09017336199229414, -0.07485935769297859, 0.1553294536742297, 0.20246483377096328, 0.07457218336110766, 0.046039451252330436, -0.04661045426672155, 0.020414543761448425, 0.028536086055365475, -0.21480382098393005, -0.3349827216430144, 0.25583445822650736, 0.15227818218144504, -0.2656194554133849, -0.060016273097558456, -0.19049818068742752, 0.008318084546110847, 0.1931572759693319, 0.04723173108967868, -0.17846337367187848, -0.04739136282693256, -0.09546505570919676, -0.201889998533509, 0.06488017577000639, -0.11662000316110524, -0.35593785472552886, -0.1892209066586061, -0.18153237324970012, 0.09652808613397858, 0.050578542731025, 0.098556364801797, 0.009889906780286268, 0.12615508857098492, 0.023877089673822575, -0.27306636016477237, 0.7350025556304238, 0.19916316460479389, 0.18292136659676378, 0.11977336555719376, 0.16743900085037405, 0.10073727504773573, 0.11407690546052023, -0.22047681327570567, -0.06862909414551475, -0.08062499727715146, -0.02860318081961437, -0.0665802735496651, -0.14553072506731207, -0.10499254317784851, 0.14862727289172736, 0.15653545680371198, 0.04543690993027254, 0.090502913702618, -0.06421972980553453, 0.17919600128450178]    |\n",
            "|0     |Mon     |5   |[kari, rear, end, morn, way, work]                                                     |[0.12290666500727336, 0.021102499216794968, 0.10603283594051997, -0.35861000667015713, 0.140818669150273, 0.18630333741505942, -0.261874998609225, 0.08494500070810318, -0.06644366898884375, 0.1787894992157817, -0.2000583385427793, -0.08866500481963158, -3.032981663942337, -0.026421166645983856, -0.42591334134340286, -0.2216190037628015, 0.1354538310940067, -0.00700616588195165, -0.3372279976805051, -0.11609833439191182, -0.06933499872684479, 0.2821796660621961, 0.324454336737593, 0.1278321680923303, 0.1657624989748001, 0.12898349482566118, -0.03140500312050184, 0.0556583379705747, 0.10677825566381216, -0.0898566593726476, 0.025864502415060997, 0.1699136681854725, -0.23693500459194183, 0.2568401697402199, -0.08000366265575092, 0.026064999401569366, 0.12685916883250078, -0.2569501648346583, 0.10482833286126454, 0.11568216606974602, -0.38908733675877255, 0.2651033302148183, 0.17737683405478796, -0.038375050062313676, 0.20643950253725052, 0.11168700146178405, 0.2656371605892976, -0.11140582865724961, 0.3486828072927892, 0.3089675009250641, 0.10808167482415836, 0.08833783864974976, 0.05909333207334081, -0.30792450346052647, -0.08848133248587449, -0.1804666668176651, -0.08252282937367757, -0.21922166583438715, 0.08821083139628172, 0.011565996954838434, 0.3367868250546356, 0.03949683656295141, 0.21410966912905374, 0.0468443309267362, 0.19030333186189333, -0.09198416583240032, 0.15656332671642303, -0.28574666132529575, -0.06575000534454982, 0.08613516669720411, 0.025201003067195415, 0.2588940088947614, 0.052176665514707565, -0.05121683018902937, 0.456706665456295, -0.028343334794044495, 0.454347329835097, 0.1369084995239973, 0.11903383334477742, 0.07145133490363757, 1.487133339047432, 0.2013283297419548, -0.1427954969306787, -0.07506916858255863, 0.02930767647922039, 0.03618233433614174, 0.23468183353543282, 0.013628835168977579, 0.1080491691827774, -0.10813316516578197, -0.15182616810003915, 0.13625333334008852, 0.20224499702453613, -0.02417733147740364, -0.08190616654853027, -0.06337783113121986, -0.012803001950184504, 0.05147834122180939, -0.23886933270841837, -0.11026499544580777]                              |\n",
            "+------+--------+----+---------------------------------------------------------------------------------------+-------------------------------------------------------------------------------------------------------------------------------------------------------------------------------------------------------------------------------------------------------------------------------------------------------------------------------------------------------------------------------------------------------------------------------------------------------------------------------------------------------------------------------------------------------------------------------------------------------------------------------------------------------------------------------------------------------------------------------------------------------------------------------------------------------------------------------------------------------------------------------------------------------------------------------------------------------------------------------------------------------------------------------------------------------------------------------------------------------------------------------------------------------------------------------------------------------------------------------------------------------------------------------------------------------------------------------------------------------------------------------------------------------------------------------------------------------------------------------------------------------------------------------------------------------------------------------------------------------------------------------------------------------------------------------------------------------------------------------------------------------------------------------------------------------------------------------------------------------------------------------------------------------------------------------------------------------------------------------------------------------------------------------------------------------------------------------------------------------------------------------------------------------------------------------------------------------------------------------+\n",
            "only showing top 7 rows\n",
            "\n"
          ]
        }
      ],
      "source": [
        "extractor_udf = udf(lambda tokens: [[float(x) for x in word2vector[token]] if token in word2vector else [float(0.0)]*word2vector[\"tweet\"].shape[0] for token in tokens], ArrayType((ArrayType(FloatType()))))\n",
        "\n",
        "avg_embedding_udf = udf(lambda x :[float(y) for y in np.mean(x, axis = 0)])\n",
        "\n",
        "tweets_embedded = tweets_df.withColumn(\"tweet_embeddings\", extractor_udf(\"terms_stemmed\"))\n",
        "tweets_embedded = tweets_embedded.withColumn(\"tweet_embeddings\", avg_embedding_udf(\"tweet_embeddings\"))\n",
        "\n",
        "tweets_embedded.printSchema()\n",
        "tweets_embedded.show(7, truncate = False)\n"
      ]
    },
    {
      "cell_type": "markdown",
      "source": [
        "### Conversion from `ArrayType( ArrayType( Float() ) )` to `VectorUDT()`"
      ],
      "metadata": {
        "id": "KbTIOB_ref7U"
      }
    },
    {
      "cell_type": "code",
      "source": [
        "from pyspark.ml.linalg import Vectors, VectorUDT\n",
        "\n",
        "to_vector_udf = udf(lambda embedded: Vectors.dense(embedded), VectorUDT())\n",
        "\n",
        "tweets_embedded = tweets_embedded.withColumn(\"tweet_embeddings\", to_vector_udf(tweets_embedded.tweet_embeddings))\n"
      ],
      "metadata": {
        "id": "2t-3-JrtfCtC"
      },
      "execution_count": 29,
      "outputs": []
    },
    {
      "cell_type": "markdown",
      "source": [
        "---\n",
        "## **Train and Test setup**"
      ],
      "metadata": {
        "id": "hdjs_CoYOWBu"
      }
    },
    {
      "cell_type": "code",
      "source": [
        "tweets_embedded.cache()\n",
        "\n",
        "(train_df, test_df) = tweets_embedded.randomSplit([0.8, 0.2], seed=1234)\n",
        "\n",
        "train_df.show(5)"
      ],
      "metadata": {
        "colab": {
          "base_uri": "https://localhost:8080/"
        },
        "id": "FxAMJ3ziO3g1",
        "outputId": "449dcd75-5a5a-4047-e94d-0b83cc5a4ad5"
      },
      "execution_count": 30,
      "outputs": [
        {
          "output_type": "stream",
          "name": "stdout",
          "text": [
            "+------+--------+----+--------------------+--------------------+\n",
            "|target|day_name|hour|       terms_stemmed|    tweet_embeddings|\n",
            "+------+--------+----+--------------------+--------------------+\n",
            "|     0|     Fri|   0|[aaaaaaa, cant, l...|[-0.1621966560681...|\n",
            "|     0|     Fri|   0|[aah, must, go, b...|[0.07020000517368...|\n",
            "|     0|     Fri|   0|[aargh, that, old...|[0.18359609456224...|\n",
            "|     0|     Fri|   0|[absent, im, sick...|[-0.0620203393821...|\n",
            "|     0|     Fri|   0|[absolut, posit, ...|[-0.2770353769883...|\n",
            "+------+--------+----+--------------------+--------------------+\n",
            "only showing top 5 rows\n",
            "\n"
          ]
        }
      ]
    },
    {
      "cell_type": "markdown",
      "metadata": {
        "id": "DGRnV9GJAslh"
      },
      "source": [
        "---\n",
        "## Verify data"
      ]
    },
    {
      "cell_type": "code",
      "execution_count": 31,
      "metadata": {
        "id": "lEO6FUTeAwF9",
        "colab": {
          "base_uri": "https://localhost:8080/",
          "height": 941
        },
        "outputId": "1d61c044-70e2-4fc6-c6ea-9a1330579821"
      },
      "outputs": [
        {
          "output_type": "stream",
          "name": "stdout",
          "text": [
            "root\n",
            " |-- target: integer (nullable = true)\n",
            " |-- day_name: string (nullable = true)\n",
            " |-- hour: integer (nullable = true)\n",
            " |-- terms_stemmed: array (nullable = true)\n",
            " |    |-- element: string (containsNull = true)\n",
            " |-- tweet_embeddings: vector (nullable = true)\n",
            "\n",
            "+------+--------+----+--------------------+--------------------+\n",
            "|target|day_name|hour|       terms_stemmed|    tweet_embeddings|\n",
            "+------+--------+----+--------------------+--------------------+\n",
            "|     0|     Thu|   6|[here, ad, comedi...|[-0.2462591119110...|\n",
            "|     0|     Tue|   6|[work, wish, fun,...|[-0.0469049983657...|\n",
            "|     0|     Sat|   7|[famous, last, word]|[0.09697666267553...|\n",
            "|     0|     Thu|  12|[im, sorri, angth...|[-0.1163321544632...|\n",
            "|     0|     Sun|   6|[anoth, fire, ala...|[0.07818459719419...|\n",
            "|     0|     Sun|  15|[cross, sword, co...|[-0.0818263698707...|\n",
            "|     0|     Mon|   5|[kari, rear, end,...|[0.12290666500727...|\n",
            "|     0|     Sun|  12|[graduat, magnet,...|[-0.0203249827027...|\n",
            "|     0|     Mon|  19|        [wanna, see]|[-0.1962780058383...|\n",
            "|     0|     Sat|  11|[yesterday, soo, ...|[-0.1699726879596...|\n",
            "+------+--------+----+--------------------+--------------------+\n",
            "only showing top 10 rows\n",
            "\n"
          ]
        },
        {
          "output_type": "stream",
          "name": "stderr",
          "text": [
            "ERROR:root:KeyboardInterrupt while sending command.\n",
            "Traceback (most recent call last):\n",
            "  File \"/usr/local/lib/python3.10/dist-packages/py4j/java_gateway.py\", line 1038, in send_command\n",
            "    response = connection.send_command(command)\n",
            "  File \"/usr/local/lib/python3.10/dist-packages/py4j/clientserver.py\", line 511, in send_command\n",
            "    answer = smart_decode(self.stream.readline()[:-1])\n",
            "  File \"/usr/lib/python3.10/socket.py\", line 705, in readinto\n",
            "    return self._sock.recv_into(b)\n",
            "KeyboardInterrupt\n"
          ]
        },
        {
          "output_type": "error",
          "ename": "KeyboardInterrupt",
          "evalue": "ignored",
          "traceback": [
            "\u001b[0;31m---------------------------------------------------------------------------\u001b[0m",
            "\u001b[0;31mKeyboardInterrupt\u001b[0m                         Traceback (most recent call last)",
            "\u001b[0;32m<ipython-input-31-2b9611d3e80f>\u001b[0m in \u001b[0;36m<cell line: 4>\u001b[0;34m()\u001b[0m\n\u001b[1;32m      2\u001b[0m \u001b[0mtweets_embedded\u001b[0m\u001b[0;34m.\u001b[0m\u001b[0mshow\u001b[0m\u001b[0;34m(\u001b[0m\u001b[0;36m10\u001b[0m\u001b[0;34m)\u001b[0m\u001b[0;34m\u001b[0m\u001b[0;34m\u001b[0m\u001b[0m\n\u001b[1;32m      3\u001b[0m \u001b[0;34m\u001b[0m\u001b[0m\n\u001b[0;32m----> 4\u001b[0;31m \u001b[0mprint\u001b[0m\u001b[0;34m(\u001b[0m\u001b[0;34m\"tot = \"\u001b[0m\u001b[0;34m,\u001b[0m \u001b[0mtweets_embedded\u001b[0m\u001b[0;34m.\u001b[0m\u001b[0mcount\u001b[0m\u001b[0;34m(\u001b[0m\u001b[0;34m)\u001b[0m\u001b[0;34m)\u001b[0m\u001b[0;34m\u001b[0m\u001b[0;34m\u001b[0m\u001b[0m\n\u001b[0m",
            "\u001b[0;32m/usr/local/lib/python3.10/dist-packages/pyspark/sql/dataframe.py\u001b[0m in \u001b[0;36mcount\u001b[0;34m(self)\u001b[0m\n\u001b[1;32m   1191\u001b[0m         \u001b[0;36m3\u001b[0m\u001b[0;34m\u001b[0m\u001b[0;34m\u001b[0m\u001b[0m\n\u001b[1;32m   1192\u001b[0m         \"\"\"\n\u001b[0;32m-> 1193\u001b[0;31m         \u001b[0;32mreturn\u001b[0m \u001b[0mint\u001b[0m\u001b[0;34m(\u001b[0m\u001b[0mself\u001b[0m\u001b[0;34m.\u001b[0m\u001b[0m_jdf\u001b[0m\u001b[0;34m.\u001b[0m\u001b[0mcount\u001b[0m\u001b[0;34m(\u001b[0m\u001b[0;34m)\u001b[0m\u001b[0;34m)\u001b[0m\u001b[0;34m\u001b[0m\u001b[0;34m\u001b[0m\u001b[0m\n\u001b[0m\u001b[1;32m   1194\u001b[0m \u001b[0;34m\u001b[0m\u001b[0m\n\u001b[1;32m   1195\u001b[0m     \u001b[0;32mdef\u001b[0m \u001b[0mcollect\u001b[0m\u001b[0;34m(\u001b[0m\u001b[0mself\u001b[0m\u001b[0;34m)\u001b[0m \u001b[0;34m->\u001b[0m \u001b[0mList\u001b[0m\u001b[0;34m[\u001b[0m\u001b[0mRow\u001b[0m\u001b[0;34m]\u001b[0m\u001b[0;34m:\u001b[0m\u001b[0;34m\u001b[0m\u001b[0;34m\u001b[0m\u001b[0m\n",
            "\u001b[0;32m/usr/local/lib/python3.10/dist-packages/py4j/java_gateway.py\u001b[0m in \u001b[0;36m__call__\u001b[0;34m(self, *args)\u001b[0m\n\u001b[1;32m   1319\u001b[0m             \u001b[0mproto\u001b[0m\u001b[0;34m.\u001b[0m\u001b[0mEND_COMMAND_PART\u001b[0m\u001b[0;34m\u001b[0m\u001b[0;34m\u001b[0m\u001b[0m\n\u001b[1;32m   1320\u001b[0m \u001b[0;34m\u001b[0m\u001b[0m\n\u001b[0;32m-> 1321\u001b[0;31m         \u001b[0manswer\u001b[0m \u001b[0;34m=\u001b[0m \u001b[0mself\u001b[0m\u001b[0;34m.\u001b[0m\u001b[0mgateway_client\u001b[0m\u001b[0;34m.\u001b[0m\u001b[0msend_command\u001b[0m\u001b[0;34m(\u001b[0m\u001b[0mcommand\u001b[0m\u001b[0;34m)\u001b[0m\u001b[0;34m\u001b[0m\u001b[0;34m\u001b[0m\u001b[0m\n\u001b[0m\u001b[1;32m   1322\u001b[0m         return_value = get_return_value(\n\u001b[1;32m   1323\u001b[0m             answer, self.gateway_client, self.target_id, self.name)\n",
            "\u001b[0;32m/usr/local/lib/python3.10/dist-packages/py4j/java_gateway.py\u001b[0m in \u001b[0;36msend_command\u001b[0;34m(self, command, retry, binary)\u001b[0m\n\u001b[1;32m   1036\u001b[0m         \u001b[0mconnection\u001b[0m \u001b[0;34m=\u001b[0m \u001b[0mself\u001b[0m\u001b[0;34m.\u001b[0m\u001b[0m_get_connection\u001b[0m\u001b[0;34m(\u001b[0m\u001b[0;34m)\u001b[0m\u001b[0;34m\u001b[0m\u001b[0;34m\u001b[0m\u001b[0m\n\u001b[1;32m   1037\u001b[0m         \u001b[0;32mtry\u001b[0m\u001b[0;34m:\u001b[0m\u001b[0;34m\u001b[0m\u001b[0;34m\u001b[0m\u001b[0m\n\u001b[0;32m-> 1038\u001b[0;31m             \u001b[0mresponse\u001b[0m \u001b[0;34m=\u001b[0m \u001b[0mconnection\u001b[0m\u001b[0;34m.\u001b[0m\u001b[0msend_command\u001b[0m\u001b[0;34m(\u001b[0m\u001b[0mcommand\u001b[0m\u001b[0;34m)\u001b[0m\u001b[0;34m\u001b[0m\u001b[0;34m\u001b[0m\u001b[0m\n\u001b[0m\u001b[1;32m   1039\u001b[0m             \u001b[0;32mif\u001b[0m \u001b[0mbinary\u001b[0m\u001b[0;34m:\u001b[0m\u001b[0;34m\u001b[0m\u001b[0;34m\u001b[0m\u001b[0m\n\u001b[1;32m   1040\u001b[0m                 \u001b[0;32mreturn\u001b[0m \u001b[0mresponse\u001b[0m\u001b[0;34m,\u001b[0m \u001b[0mself\u001b[0m\u001b[0;34m.\u001b[0m\u001b[0m_create_connection_guard\u001b[0m\u001b[0;34m(\u001b[0m\u001b[0mconnection\u001b[0m\u001b[0;34m)\u001b[0m\u001b[0;34m\u001b[0m\u001b[0;34m\u001b[0m\u001b[0m\n",
            "\u001b[0;32m/usr/local/lib/python3.10/dist-packages/py4j/clientserver.py\u001b[0m in \u001b[0;36msend_command\u001b[0;34m(self, command)\u001b[0m\n\u001b[1;32m    509\u001b[0m         \u001b[0;32mtry\u001b[0m\u001b[0;34m:\u001b[0m\u001b[0;34m\u001b[0m\u001b[0;34m\u001b[0m\u001b[0m\n\u001b[1;32m    510\u001b[0m             \u001b[0;32mwhile\u001b[0m \u001b[0;32mTrue\u001b[0m\u001b[0;34m:\u001b[0m\u001b[0;34m\u001b[0m\u001b[0;34m\u001b[0m\u001b[0m\n\u001b[0;32m--> 511\u001b[0;31m                 \u001b[0manswer\u001b[0m \u001b[0;34m=\u001b[0m \u001b[0msmart_decode\u001b[0m\u001b[0;34m(\u001b[0m\u001b[0mself\u001b[0m\u001b[0;34m.\u001b[0m\u001b[0mstream\u001b[0m\u001b[0;34m.\u001b[0m\u001b[0mreadline\u001b[0m\u001b[0;34m(\u001b[0m\u001b[0;34m)\u001b[0m\u001b[0;34m[\u001b[0m\u001b[0;34m:\u001b[0m\u001b[0;34m-\u001b[0m\u001b[0;36m1\u001b[0m\u001b[0;34m]\u001b[0m\u001b[0;34m)\u001b[0m\u001b[0;34m\u001b[0m\u001b[0;34m\u001b[0m\u001b[0m\n\u001b[0m\u001b[1;32m    512\u001b[0m                 \u001b[0mlogger\u001b[0m\u001b[0;34m.\u001b[0m\u001b[0mdebug\u001b[0m\u001b[0;34m(\u001b[0m\u001b[0;34m\"Answer received: {0}\"\u001b[0m\u001b[0;34m.\u001b[0m\u001b[0mformat\u001b[0m\u001b[0;34m(\u001b[0m\u001b[0manswer\u001b[0m\u001b[0;34m)\u001b[0m\u001b[0;34m)\u001b[0m\u001b[0;34m\u001b[0m\u001b[0;34m\u001b[0m\u001b[0m\n\u001b[1;32m    513\u001b[0m                 \u001b[0;31m# Happens when a the other end is dead. There might be an empty\u001b[0m\u001b[0;34m\u001b[0m\u001b[0;34m\u001b[0m\u001b[0m\n",
            "\u001b[0;32m/usr/lib/python3.10/socket.py\u001b[0m in \u001b[0;36mreadinto\u001b[0;34m(self, b)\u001b[0m\n\u001b[1;32m    703\u001b[0m         \u001b[0;32mwhile\u001b[0m \u001b[0;32mTrue\u001b[0m\u001b[0;34m:\u001b[0m\u001b[0;34m\u001b[0m\u001b[0;34m\u001b[0m\u001b[0m\n\u001b[1;32m    704\u001b[0m             \u001b[0;32mtry\u001b[0m\u001b[0;34m:\u001b[0m\u001b[0;34m\u001b[0m\u001b[0;34m\u001b[0m\u001b[0m\n\u001b[0;32m--> 705\u001b[0;31m                 \u001b[0;32mreturn\u001b[0m \u001b[0mself\u001b[0m\u001b[0;34m.\u001b[0m\u001b[0m_sock\u001b[0m\u001b[0;34m.\u001b[0m\u001b[0mrecv_into\u001b[0m\u001b[0;34m(\u001b[0m\u001b[0mb\u001b[0m\u001b[0;34m)\u001b[0m\u001b[0;34m\u001b[0m\u001b[0;34m\u001b[0m\u001b[0m\n\u001b[0m\u001b[1;32m    706\u001b[0m             \u001b[0;32mexcept\u001b[0m \u001b[0mtimeout\u001b[0m\u001b[0;34m:\u001b[0m\u001b[0;34m\u001b[0m\u001b[0;34m\u001b[0m\u001b[0m\n\u001b[1;32m    707\u001b[0m                 \u001b[0mself\u001b[0m\u001b[0;34m.\u001b[0m\u001b[0m_timeout_occurred\u001b[0m \u001b[0;34m=\u001b[0m \u001b[0;32mTrue\u001b[0m\u001b[0;34m\u001b[0m\u001b[0;34m\u001b[0m\u001b[0m\n",
            "\u001b[0;31mKeyboardInterrupt\u001b[0m: "
          ]
        }
      ],
      "source": [
        "tweets_embedded.printSchema()\n",
        "tweets_embedded.show(10)\n",
        "\n",
        "print(\"tot = \", tweets_embedded.count())"
      ]
    },
    {
      "cell_type": "markdown",
      "metadata": {
        "id": "ZpD2gArbjybC"
      },
      "source": [
        "# TODO\n",
        "* **Are useful tokens with len==1 ?**\n",
        "* **chek udf validity for month mapping**\n",
        "* **validation set?**"
      ]
    }
  ],
  "metadata": {
    "accelerator": "GPU",
    "colab": {
      "provenance": [],
      "collapsed_sections": [
        "uY_VvQBrKisT"
      ],
      "authorship_tag": "ABX9TyMB2uFREJQcUYg8C3X0oASM",
      "include_colab_link": true
    },
    "kernelspec": {
      "display_name": "Python 3",
      "name": "python3"
    },
    "language_info": {
      "name": "python"
    }
  },
  "nbformat": 4,
  "nbformat_minor": 0
}